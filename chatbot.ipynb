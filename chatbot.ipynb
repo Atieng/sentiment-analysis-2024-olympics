{
 "cells": [
  {
   "cell_type": "code",
   "execution_count": 1,
   "id": "411c4689-24b4-458b-83b2-7d1faa301033",
   "metadata": {},
   "outputs": [],
   "source": [
    "import pandas as pd\n",
    "import streamlit as st\n",
    "from transformers import pipeline\n",
    "from fuzzywuzzy import process"
   ]
  },
  {
   "cell_type": "code",
   "execution_count": 2,
   "id": "9f9ea591-8a06-4f34-8d7f-6638c742aaa7",
   "metadata": {},
   "outputs": [],
   "source": [
    "# Load the dataset\n",
    "medallists_df = pd.read_csv('Paris_olympics_data/medallists.csv')"
   ]
  },
  {
   "cell_type": "code",
   "execution_count": 3,
   "id": "b68f48e1-0eb0-434a-b437-d0cd16ff79f5",
   "metadata": {},
   "outputs": [
    {
     "data": {
      "text/html": [
       "<div>\n",
       "<style scoped>\n",
       "    .dataframe tbody tr th:only-of-type {\n",
       "        vertical-align: middle;\n",
       "    }\n",
       "\n",
       "    .dataframe tbody tr th {\n",
       "        vertical-align: top;\n",
       "    }\n",
       "\n",
       "    .dataframe thead th {\n",
       "        text-align: right;\n",
       "    }\n",
       "</style>\n",
       "<table border=\"1\" class=\"dataframe\">\n",
       "  <thead>\n",
       "    <tr style=\"text-align: right;\">\n",
       "      <th></th>\n",
       "      <th>medal_date</th>\n",
       "      <th>medal_type</th>\n",
       "      <th>medal_code</th>\n",
       "      <th>name</th>\n",
       "      <th>gender</th>\n",
       "      <th>country</th>\n",
       "      <th>country_code</th>\n",
       "      <th>nationality</th>\n",
       "      <th>team</th>\n",
       "      <th>team_gender</th>\n",
       "      <th>discipline</th>\n",
       "      <th>event</th>\n",
       "      <th>event_type</th>\n",
       "      <th>url_event</th>\n",
       "      <th>birth_date</th>\n",
       "      <th>code</th>\n",
       "    </tr>\n",
       "  </thead>\n",
       "  <tbody>\n",
       "    <tr>\n",
       "      <th>0</th>\n",
       "      <td>2024-07-27</td>\n",
       "      <td>Gold Medal</td>\n",
       "      <td>1</td>\n",
       "      <td>EVENEPOEL Remco</td>\n",
       "      <td>Male</td>\n",
       "      <td>Belgium</td>\n",
       "      <td>BEL</td>\n",
       "      <td>Belgium</td>\n",
       "      <td>NaN</td>\n",
       "      <td>NaN</td>\n",
       "      <td>Cycling Road</td>\n",
       "      <td>Men's Individual Time Trial</td>\n",
       "      <td>ATH</td>\n",
       "      <td>/en/paris-2024/results/cycling-road/men-s-indi...</td>\n",
       "      <td>2000-01-25</td>\n",
       "      <td>1903136</td>\n",
       "    </tr>\n",
       "    <tr>\n",
       "      <th>1</th>\n",
       "      <td>2024-07-27</td>\n",
       "      <td>Silver Medal</td>\n",
       "      <td>2</td>\n",
       "      <td>GANNA Filippo</td>\n",
       "      <td>Male</td>\n",
       "      <td>Italy</td>\n",
       "      <td>ITA</td>\n",
       "      <td>Italy</td>\n",
       "      <td>NaN</td>\n",
       "      <td>NaN</td>\n",
       "      <td>Cycling Road</td>\n",
       "      <td>Men's Individual Time Trial</td>\n",
       "      <td>ATH</td>\n",
       "      <td>/en/paris-2024/results/cycling-road/men-s-indi...</td>\n",
       "      <td>1996-07-25</td>\n",
       "      <td>1923520</td>\n",
       "    </tr>\n",
       "    <tr>\n",
       "      <th>2</th>\n",
       "      <td>2024-07-27</td>\n",
       "      <td>Bronze Medal</td>\n",
       "      <td>3</td>\n",
       "      <td>van AERT Wout</td>\n",
       "      <td>Male</td>\n",
       "      <td>Belgium</td>\n",
       "      <td>BEL</td>\n",
       "      <td>Belgium</td>\n",
       "      <td>NaN</td>\n",
       "      <td>NaN</td>\n",
       "      <td>Cycling Road</td>\n",
       "      <td>Men's Individual Time Trial</td>\n",
       "      <td>ATH</td>\n",
       "      <td>/en/paris-2024/results/cycling-road/men-s-indi...</td>\n",
       "      <td>1994-09-15</td>\n",
       "      <td>1903147</td>\n",
       "    </tr>\n",
       "    <tr>\n",
       "      <th>3</th>\n",
       "      <td>2024-07-27</td>\n",
       "      <td>Gold Medal</td>\n",
       "      <td>1</td>\n",
       "      <td>BROWN Grace</td>\n",
       "      <td>Female</td>\n",
       "      <td>Australia</td>\n",
       "      <td>AUS</td>\n",
       "      <td>Australia</td>\n",
       "      <td>NaN</td>\n",
       "      <td>NaN</td>\n",
       "      <td>Cycling Road</td>\n",
       "      <td>Women's Individual Time Trial</td>\n",
       "      <td>ATH</td>\n",
       "      <td>/en/paris-2024/results/cycling-road/women-s-in...</td>\n",
       "      <td>1992-07-07</td>\n",
       "      <td>1940173</td>\n",
       "    </tr>\n",
       "    <tr>\n",
       "      <th>4</th>\n",
       "      <td>2024-07-27</td>\n",
       "      <td>Silver Medal</td>\n",
       "      <td>2</td>\n",
       "      <td>HENDERSON Anna</td>\n",
       "      <td>Female</td>\n",
       "      <td>Great Britain</td>\n",
       "      <td>GBR</td>\n",
       "      <td>Great Britain</td>\n",
       "      <td>NaN</td>\n",
       "      <td>NaN</td>\n",
       "      <td>Cycling Road</td>\n",
       "      <td>Women's Individual Time Trial</td>\n",
       "      <td>ATH</td>\n",
       "      <td>/en/paris-2024/results/cycling-road/women-s-in...</td>\n",
       "      <td>1998-11-14</td>\n",
       "      <td>1912525</td>\n",
       "    </tr>\n",
       "  </tbody>\n",
       "</table>\n",
       "</div>"
      ],
      "text/plain": [
       "   medal_date    medal_type  medal_code             name  gender  \\\n",
       "0  2024-07-27    Gold Medal           1  EVENEPOEL Remco    Male   \n",
       "1  2024-07-27  Silver Medal           2    GANNA Filippo    Male   \n",
       "2  2024-07-27  Bronze Medal           3    van AERT Wout    Male   \n",
       "3  2024-07-27    Gold Medal           1      BROWN Grace  Female   \n",
       "4  2024-07-27  Silver Medal           2   HENDERSON Anna  Female   \n",
       "\n",
       "         country country_code    nationality team team_gender    discipline  \\\n",
       "0        Belgium          BEL        Belgium  NaN         NaN  Cycling Road   \n",
       "1          Italy          ITA          Italy  NaN         NaN  Cycling Road   \n",
       "2        Belgium          BEL        Belgium  NaN         NaN  Cycling Road   \n",
       "3      Australia          AUS      Australia  NaN         NaN  Cycling Road   \n",
       "4  Great Britain          GBR  Great Britain  NaN         NaN  Cycling Road   \n",
       "\n",
       "                           event event_type  \\\n",
       "0    Men's Individual Time Trial        ATH   \n",
       "1    Men's Individual Time Trial        ATH   \n",
       "2    Men's Individual Time Trial        ATH   \n",
       "3  Women's Individual Time Trial        ATH   \n",
       "4  Women's Individual Time Trial        ATH   \n",
       "\n",
       "                                           url_event  birth_date     code  \n",
       "0  /en/paris-2024/results/cycling-road/men-s-indi...  2000-01-25  1903136  \n",
       "1  /en/paris-2024/results/cycling-road/men-s-indi...  1996-07-25  1923520  \n",
       "2  /en/paris-2024/results/cycling-road/men-s-indi...  1994-09-15  1903147  \n",
       "3  /en/paris-2024/results/cycling-road/women-s-in...  1992-07-07  1940173  \n",
       "4  /en/paris-2024/results/cycling-road/women-s-in...  1998-11-14  1912525  "
      ]
     },
     "execution_count": 3,
     "metadata": {},
     "output_type": "execute_result"
    }
   ],
   "source": [
    "medallists_df.head()"
   ]
  },
  {
   "cell_type": "code",
   "execution_count": 4,
   "id": "adafab81-175b-4f08-8a2b-86f51cd68ae9",
   "metadata": {},
   "outputs": [
    {
     "data": {
      "text/html": [
       "<div>\n",
       "<style scoped>\n",
       "    .dataframe tbody tr th:only-of-type {\n",
       "        vertical-align: middle;\n",
       "    }\n",
       "\n",
       "    .dataframe tbody tr th {\n",
       "        vertical-align: top;\n",
       "    }\n",
       "\n",
       "    .dataframe thead th {\n",
       "        text-align: right;\n",
       "    }\n",
       "</style>\n",
       "<table border=\"1\" class=\"dataframe\">\n",
       "  <thead>\n",
       "    <tr style=\"text-align: right;\">\n",
       "      <th></th>\n",
       "      <th>medal_date</th>\n",
       "      <th>medal_type</th>\n",
       "      <th>medal_code</th>\n",
       "      <th>name</th>\n",
       "      <th>gender</th>\n",
       "      <th>country</th>\n",
       "      <th>team</th>\n",
       "      <th>discipline</th>\n",
       "      <th>event</th>\n",
       "    </tr>\n",
       "  </thead>\n",
       "  <tbody>\n",
       "    <tr>\n",
       "      <th>0</th>\n",
       "      <td>2024-07-27</td>\n",
       "      <td>Gold Medal</td>\n",
       "      <td>1</td>\n",
       "      <td>EVENEPOEL Remco</td>\n",
       "      <td>Male</td>\n",
       "      <td>Belgium</td>\n",
       "      <td>NaN</td>\n",
       "      <td>Cycling Road</td>\n",
       "      <td>Men's Individual Time Trial</td>\n",
       "    </tr>\n",
       "    <tr>\n",
       "      <th>1</th>\n",
       "      <td>2024-07-27</td>\n",
       "      <td>Silver Medal</td>\n",
       "      <td>2</td>\n",
       "      <td>GANNA Filippo</td>\n",
       "      <td>Male</td>\n",
       "      <td>Italy</td>\n",
       "      <td>NaN</td>\n",
       "      <td>Cycling Road</td>\n",
       "      <td>Men's Individual Time Trial</td>\n",
       "    </tr>\n",
       "    <tr>\n",
       "      <th>2</th>\n",
       "      <td>2024-07-27</td>\n",
       "      <td>Bronze Medal</td>\n",
       "      <td>3</td>\n",
       "      <td>van AERT Wout</td>\n",
       "      <td>Male</td>\n",
       "      <td>Belgium</td>\n",
       "      <td>NaN</td>\n",
       "      <td>Cycling Road</td>\n",
       "      <td>Men's Individual Time Trial</td>\n",
       "    </tr>\n",
       "    <tr>\n",
       "      <th>3</th>\n",
       "      <td>2024-07-27</td>\n",
       "      <td>Gold Medal</td>\n",
       "      <td>1</td>\n",
       "      <td>BROWN Grace</td>\n",
       "      <td>Female</td>\n",
       "      <td>Australia</td>\n",
       "      <td>NaN</td>\n",
       "      <td>Cycling Road</td>\n",
       "      <td>Women's Individual Time Trial</td>\n",
       "    </tr>\n",
       "    <tr>\n",
       "      <th>4</th>\n",
       "      <td>2024-07-27</td>\n",
       "      <td>Silver Medal</td>\n",
       "      <td>2</td>\n",
       "      <td>HENDERSON Anna</td>\n",
       "      <td>Female</td>\n",
       "      <td>Great Britain</td>\n",
       "      <td>NaN</td>\n",
       "      <td>Cycling Road</td>\n",
       "      <td>Women's Individual Time Trial</td>\n",
       "    </tr>\n",
       "  </tbody>\n",
       "</table>\n",
       "</div>"
      ],
      "text/plain": [
       "   medal_date    medal_type  medal_code             name  gender  \\\n",
       "0  2024-07-27    Gold Medal           1  EVENEPOEL Remco    Male   \n",
       "1  2024-07-27  Silver Medal           2    GANNA Filippo    Male   \n",
       "2  2024-07-27  Bronze Medal           3    van AERT Wout    Male   \n",
       "3  2024-07-27    Gold Medal           1      BROWN Grace  Female   \n",
       "4  2024-07-27  Silver Medal           2   HENDERSON Anna  Female   \n",
       "\n",
       "         country team    discipline                          event  \n",
       "0        Belgium  NaN  Cycling Road    Men's Individual Time Trial  \n",
       "1          Italy  NaN  Cycling Road    Men's Individual Time Trial  \n",
       "2        Belgium  NaN  Cycling Road    Men's Individual Time Trial  \n",
       "3      Australia  NaN  Cycling Road  Women's Individual Time Trial  \n",
       "4  Great Britain  NaN  Cycling Road  Women's Individual Time Trial  "
      ]
     },
     "execution_count": 4,
     "metadata": {},
     "output_type": "execute_result"
    }
   ],
   "source": [
    "dataset = medallists_df[['medal_date', 'medal_type', 'medal_code', 'name', 'gender', 'country', 'team', 'discipline', 'event']]\n",
    "dataset.head()"
   ]
  },
  {
   "cell_type": "code",
   "execution_count": 5,
   "id": "9fae566f-56df-4234-8af3-9130ea953774",
   "metadata": {},
   "outputs": [
    {
     "name": "stdout",
     "output_type": "stream",
     "text": [
      "<class 'pandas.core.frame.DataFrame'>\n",
      "RangeIndex: 2271 entries, 0 to 2270\n",
      "Data columns (total 9 columns):\n",
      " #   Column      Non-Null Count  Dtype \n",
      "---  ------      --------------  ----- \n",
      " 0   medal_date  2271 non-null   object\n",
      " 1   medal_type  2271 non-null   object\n",
      " 2   medal_code  2271 non-null   int64 \n",
      " 3   name        2252 non-null   object\n",
      " 4   gender      2252 non-null   object\n",
      " 5   country     2252 non-null   object\n",
      " 6   team        1502 non-null   object\n",
      " 7   discipline  2271 non-null   object\n",
      " 8   event       2271 non-null   object\n",
      "dtypes: int64(1), object(8)\n",
      "memory usage: 159.8+ KB\n"
     ]
    }
   ],
   "source": [
    "dataset.info()"
   ]
  },
  {
   "cell_type": "code",
   "execution_count": 6,
   "id": "80822bbb-c636-478a-bcc7-19039da66ba9",
   "metadata": {},
   "outputs": [
    {
     "data": {
      "text/plain": [
       "1"
      ]
     },
     "execution_count": 6,
     "metadata": {},
     "output_type": "execute_result"
    }
   ],
   "source": [
    "dataset.duplicated().sum()"
   ]
  },
  {
   "cell_type": "code",
   "execution_count": 7,
   "id": "6e7bbc10-6314-4ae6-adbf-85a625d5475f",
   "metadata": {},
   "outputs": [
    {
     "name": "stdout",
     "output_type": "stream",
     "text": [
      "     medal_date    medal_type  medal_code name gender country team  \\\n",
      "612  2024-08-09  Bronze Medal           3  NaN    NaN     NaN  NaN   \n",
      "\n",
      "       discipline                      event  \n",
      "612  Canoe Sprint  Women's Kayak Double 500m  \n"
     ]
    }
   ],
   "source": [
    "duplicates = dataset[dataset.duplicated()]\n",
    "# Display duplicated rows\n",
    "print(duplicates)"
   ]
  },
  {
   "cell_type": "code",
   "execution_count": 8,
   "id": "05472bfc-ad9a-418a-8c2a-d61f4d889197",
   "metadata": {},
   "outputs": [
    {
     "name": "stderr",
     "output_type": "stream",
     "text": [
      "C:\\Users\\THINKPAD X1 CARBON\\AppData\\Local\\Temp\\ipykernel_2984\\2870039874.py:1: SettingWithCopyWarning: \n",
      "A value is trying to be set on a copy of a slice from a DataFrame\n",
      "\n",
      "See the caveats in the documentation: https://pandas.pydata.org/pandas-docs/stable/user_guide/indexing.html#returning-a-view-versus-a-copy\n",
      "  dataset.drop_duplicates(inplace=True)\n"
     ]
    }
   ],
   "source": [
    "dataset.drop_duplicates(inplace=True)"
   ]
  },
  {
   "cell_type": "code",
   "execution_count": 9,
   "id": "4884d2dd-c167-4a60-b9a0-c881d6b9c769",
   "metadata": {},
   "outputs": [
    {
     "data": {
      "text/plain": [
       "medal_date      0\n",
       "medal_type      0\n",
       "medal_code      0\n",
       "name           18\n",
       "gender         18\n",
       "country        18\n",
       "team          768\n",
       "discipline      0\n",
       "event           0\n",
       "dtype: int64"
      ]
     },
     "execution_count": 9,
     "metadata": {},
     "output_type": "execute_result"
    }
   ],
   "source": [
    "dataset.isna().sum()"
   ]
  },
  {
   "cell_type": "code",
   "execution_count": 10,
   "id": "86a973c9-8eca-4b26-be88-364592498680",
   "metadata": {},
   "outputs": [
    {
     "name": "stderr",
     "output_type": "stream",
     "text": [
      "C:\\Users\\THINKPAD X1 CARBON\\AppData\\Local\\Temp\\ipykernel_2984\\3670833105.py:2: SettingWithCopyWarning: \n",
      "A value is trying to be set on a copy of a slice from a DataFrame\n",
      "\n",
      "See the caveats in the documentation: https://pandas.pydata.org/pandas-docs/stable/user_guide/indexing.html#returning-a-view-versus-a-copy\n",
      "  dataset['team'].fillna('Individual', inplace=True)\n"
     ]
    }
   ],
   "source": [
    "# Fill missing 'team' values with 'Individual'\n",
    "dataset['team'].fillna('Individual', inplace=True)"
   ]
  },
  {
   "cell_type": "code",
   "execution_count": 11,
   "id": "b4f78533-ec9e-47d3-9967-7f17079de888",
   "metadata": {},
   "outputs": [
    {
     "name": "stderr",
     "output_type": "stream",
     "text": [
      "C:\\Users\\THINKPAD X1 CARBON\\AppData\\Local\\Temp\\ipykernel_2984\\3985842590.py:2: SettingWithCopyWarning: \n",
      "A value is trying to be set on a copy of a slice from a DataFrame.\n",
      "Try using .loc[row_indexer,col_indexer] = value instead\n",
      "\n",
      "See the caveats in the documentation: https://pandas.pydata.org/pandas-docs/stable/user_guide/indexing.html#returning-a-view-versus-a-copy\n",
      "  dataset[['name', 'gender', 'country']] = dataset[['name', 'gender', 'country']].fillna('Unknown')\n"
     ]
    }
   ],
   "source": [
    "# Fill 'name', 'gender', 'country' with 'Unknown'\n",
    "dataset[['name', 'gender', 'country']] = dataset[['name', 'gender', 'country']].fillna('Unknown')"
   ]
  },
  {
   "cell_type": "code",
   "execution_count": 12,
   "id": "ae64c037-9e11-4db2-ae4d-1e28914dd495",
   "metadata": {},
   "outputs": [
    {
     "data": {
      "text/plain": [
       "medal_date    0\n",
       "medal_type    0\n",
       "medal_code    0\n",
       "name          0\n",
       "gender        0\n",
       "country       0\n",
       "team          0\n",
       "discipline    0\n",
       "event         0\n",
       "dtype: int64"
      ]
     },
     "execution_count": 12,
     "metadata": {},
     "output_type": "execute_result"
    }
   ],
   "source": [
    "dataset.isna().sum()"
   ]
  },
  {
   "cell_type": "code",
   "execution_count": 13,
   "id": "c7bdabb9-f236-40cf-8cc1-716ba5cfa33c",
   "metadata": {},
   "outputs": [
    {
     "data": {
      "text/html": [
       "<div>\n",
       "<style scoped>\n",
       "    .dataframe tbody tr th:only-of-type {\n",
       "        vertical-align: middle;\n",
       "    }\n",
       "\n",
       "    .dataframe tbody tr th {\n",
       "        vertical-align: top;\n",
       "    }\n",
       "\n",
       "    .dataframe thead th {\n",
       "        text-align: right;\n",
       "    }\n",
       "</style>\n",
       "<table border=\"1\" class=\"dataframe\">\n",
       "  <thead>\n",
       "    <tr style=\"text-align: right;\">\n",
       "      <th></th>\n",
       "      <th>medal_date</th>\n",
       "      <th>medal_type</th>\n",
       "      <th>medal_code</th>\n",
       "      <th>name</th>\n",
       "      <th>gender</th>\n",
       "      <th>country</th>\n",
       "      <th>team</th>\n",
       "      <th>discipline</th>\n",
       "      <th>event</th>\n",
       "    </tr>\n",
       "  </thead>\n",
       "  <tbody>\n",
       "    <tr>\n",
       "      <th>0</th>\n",
       "      <td>2024-07-27</td>\n",
       "      <td>Gold Medal</td>\n",
       "      <td>1</td>\n",
       "      <td>EVENEPOEL Remco</td>\n",
       "      <td>Male</td>\n",
       "      <td>Belgium</td>\n",
       "      <td>Individual</td>\n",
       "      <td>Cycling Road</td>\n",
       "      <td>Men's Individual Time Trial</td>\n",
       "    </tr>\n",
       "    <tr>\n",
       "      <th>1</th>\n",
       "      <td>2024-07-27</td>\n",
       "      <td>Silver Medal</td>\n",
       "      <td>2</td>\n",
       "      <td>GANNA Filippo</td>\n",
       "      <td>Male</td>\n",
       "      <td>Italy</td>\n",
       "      <td>Individual</td>\n",
       "      <td>Cycling Road</td>\n",
       "      <td>Men's Individual Time Trial</td>\n",
       "    </tr>\n",
       "    <tr>\n",
       "      <th>2</th>\n",
       "      <td>2024-07-27</td>\n",
       "      <td>Bronze Medal</td>\n",
       "      <td>3</td>\n",
       "      <td>van AERT Wout</td>\n",
       "      <td>Male</td>\n",
       "      <td>Belgium</td>\n",
       "      <td>Individual</td>\n",
       "      <td>Cycling Road</td>\n",
       "      <td>Men's Individual Time Trial</td>\n",
       "    </tr>\n",
       "    <tr>\n",
       "      <th>3</th>\n",
       "      <td>2024-07-27</td>\n",
       "      <td>Gold Medal</td>\n",
       "      <td>1</td>\n",
       "      <td>BROWN Grace</td>\n",
       "      <td>Female</td>\n",
       "      <td>Australia</td>\n",
       "      <td>Individual</td>\n",
       "      <td>Cycling Road</td>\n",
       "      <td>Women's Individual Time Trial</td>\n",
       "    </tr>\n",
       "    <tr>\n",
       "      <th>4</th>\n",
       "      <td>2024-07-27</td>\n",
       "      <td>Silver Medal</td>\n",
       "      <td>2</td>\n",
       "      <td>HENDERSON Anna</td>\n",
       "      <td>Female</td>\n",
       "      <td>Great Britain</td>\n",
       "      <td>Individual</td>\n",
       "      <td>Cycling Road</td>\n",
       "      <td>Women's Individual Time Trial</td>\n",
       "    </tr>\n",
       "  </tbody>\n",
       "</table>\n",
       "</div>"
      ],
      "text/plain": [
       "   medal_date    medal_type  medal_code             name  gender  \\\n",
       "0  2024-07-27    Gold Medal           1  EVENEPOEL Remco    Male   \n",
       "1  2024-07-27  Silver Medal           2    GANNA Filippo    Male   \n",
       "2  2024-07-27  Bronze Medal           3    van AERT Wout    Male   \n",
       "3  2024-07-27    Gold Medal           1      BROWN Grace  Female   \n",
       "4  2024-07-27  Silver Medal           2   HENDERSON Anna  Female   \n",
       "\n",
       "         country        team    discipline                          event  \n",
       "0        Belgium  Individual  Cycling Road    Men's Individual Time Trial  \n",
       "1          Italy  Individual  Cycling Road    Men's Individual Time Trial  \n",
       "2        Belgium  Individual  Cycling Road    Men's Individual Time Trial  \n",
       "3      Australia  Individual  Cycling Road  Women's Individual Time Trial  \n",
       "4  Great Britain  Individual  Cycling Road  Women's Individual Time Trial  "
      ]
     },
     "execution_count": 13,
     "metadata": {},
     "output_type": "execute_result"
    }
   ],
   "source": [
    "dataset.head()"
   ]
  },
  {
   "cell_type": "code",
   "execution_count": 14,
   "id": "1d50aa2f-a780-4b3e-91b2-3b3c4beaee31",
   "metadata": {},
   "outputs": [
    {
     "name": "stdout",
     "output_type": "stream",
     "text": [
      "Cleaned dataset has been saved as 'cleaned_olympics_data.csv'.\n"
     ]
    }
   ],
   "source": [
    "# Save the cleaned dataset to a CSV file\n",
    "dataset.to_csv('cleaned_olympics_data.csv', index=False)\n",
    "\n",
    "print(\"Cleaned dataset has been saved as 'cleaned_olympics_data.csv'.\")"
   ]
  }
 ],
 "metadata": {
  "kernelspec": {
   "display_name": "Python 3 (ipykernel)",
   "language": "python",
   "name": "python3"
  },
  "language_info": {
   "codemirror_mode": {
    "name": "ipython",
    "version": 3
   },
   "file_extension": ".py",
   "mimetype": "text/x-python",
   "name": "python",
   "nbconvert_exporter": "python",
   "pygments_lexer": "ipython3",
   "version": "3.8.5"
  }
 },
 "nbformat": 4,
 "nbformat_minor": 5
}
