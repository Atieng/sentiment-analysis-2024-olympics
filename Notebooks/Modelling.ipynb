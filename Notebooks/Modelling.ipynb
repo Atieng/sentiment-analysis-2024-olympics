{
  "cells": [
    {
      "cell_type": "markdown",
      "id": "to0smH0a79Xd",
      "metadata": {
        "id": "to0smH0a79Xd"
      },
      "source": [
        "\n",
        "\n",
        "\n",
        "\n",
        "# MODELLING\n",
        "\n"
      ]
    },
    {
      "cell_type": "code",
      "execution_count": null,
      "id": "YXYdRMFQ79Xl",
      "metadata": {
        "colab": {
          "base_uri": "https://localhost:8080/"
        },
        "id": "YXYdRMFQ79Xl",
        "outputId": "cdeef0a2-7e79-4d9c-ac9f-e407c3db087a"
      },
      "outputs": [
        {
          "output_type": "stream",
          "name": "stderr",
          "text": [
            "[nltk_data] Downloading package vader_lexicon to /root/nltk_data...\n",
            "[nltk_data] Downloading package stopwords to /root/nltk_data...\n",
            "[nltk_data]   Unzipping corpora/stopwords.zip.\n",
            "[nltk_data] Downloading package wordnet to /root/nltk_data...\n",
            "[nltk_data] Downloading package averaged_perceptron_tagger to\n",
            "[nltk_data]     /root/nltk_data...\n",
            "[nltk_data]   Unzipping taggers/averaged_perceptron_tagger.zip.\n"
          ]
        }
      ],
      "source": [
        "# Import the necessary Modules required for the modelling process\n",
        "import re\n",
        "import pandas as pd\n",
        "\n",
        "\n",
        "# NLTK\n",
        "import nltk\n",
        "from nltk.corpus import stopwords\n",
        "from nltk.stem import WordNetLemmatizer\n",
        "from nltk.stem.porter import PorterStemmer\n",
        "from nltk.sentiment import SentimentIntensityAnalyzer\n",
        "from nltk.sentiment.vader import SentimentIntensityAnalyzer\n",
        "\n",
        "\n",
        "# Download required NLTK data\n",
        "nltk.download('vader_lexicon')\n",
        "nltk.download('stopwords')\n",
        "nltk.download('wordnet')\n",
        "nltk.download('averaged_perceptron_tagger')\n",
        "\n",
        "# Plotting\n",
        "import matplotlib.pyplot as plt\n",
        "import seaborn as sns\n",
        "\n",
        "\n",
        "# Numpy\n",
        "import numpy as np\n",
        "\n",
        "import os\n",
        "\n",
        "# PyTorch\n",
        "import torch\n",
        "\n",
        "from langcodes import Language\n",
        "from googletrans import Translator\n",
        "\n",
        "\n",
        "\n",
        "# Sklearn\n",
        "from sklearn.svm import SVC\n",
        "from xgboost import XGBClassifier\n",
        "from sklearn.pipeline import Pipeline\n",
        "\n",
        "from sklearn.naive_bayes import MultinomialNB\n",
        "from sklearn.preprocessing import StandardScaler\n",
        "\n",
        "from sklearn.linear_model import LogisticRegression\n",
        "from sklearn.ensemble import RandomForestClassifier\n",
        "from sklearn.feature_extraction.text import TfidfVectorizer\n",
        "\n",
        "from sklearn.model_selection import train_test_split, GridSearchCV,cross_val_score\n",
        "from sklearn.metrics import  classification_report, confusion_matrix, ConfusionMatrixDisplay,precision_recall_fscore_support\n",
        "from sklearn.metrics import accuracy_score, precision_score, recall_score, f1_score\n",
        "\n",
        "from imblearn.over_sampling import SMOTE\n",
        "from vaderSentiment.vaderSentiment import SentimentIntensityAnalyzer\n",
        "\n",
        "\n",
        "# Pickle\n",
        "import pickle\n",
        "\n",
        "# Transformers\n",
        "from transformers import pipeline\n",
        "from transformers import BertTokenizer,TFBertModel\n",
        "from langdetect import detect\n",
        "\n",
        "# Warnings\n",
        "import warnings\n",
        "# Ignore all warnings\n",
        "warnings.filterwarnings('ignore')\n",
        "warnings.filterwarnings(\"ignore\", message=r\".*Some weights of.*not used.*\")\n",
        "\n",
        "import pickle\n",
        "\n",
        "from sklearn.metrics import classification_report, accuracy_score, confusion_matrix\n",
        "from sklearn.model_selection import GridSearchCV\n",
        "from sklearn.preprocessing import LabelEncoder # Import LabelEncoder\n",
        "from sklearn.model_selection import RandomizedSearchCV\n",
        "\n",
        "\n",
        "\n",
        "\n",
        "import pickle\n",
        "from sklearn.metrics import accuracy_score, classification_report, precision_recall_fscore_support\n",
        "import pandas as pd\n",
        "from transformers import pipeline, DistilBertTokenizer, DistilBertForSequenceClassification\n"
      ]
    },
    {
      "cell_type": "markdown",
      "id": "IN3jGSxm79Xp",
      "metadata": {
        "id": "IN3jGSxm79Xp"
      },
      "source": [
        "### Load Dataset\n",
        "\n"
      ]
    },
    {
      "cell_type": "markdown",
      "id": "0bee89a1",
      "metadata": {
        "id": "0bee89a1"
      },
      "source": [
        "Load the `cleaned-sentiments.csv` dataset inorder to only work with the `Clean_Tweet` column"
      ]
    },
    {
      "cell_type": "code",
      "execution_count": null,
      "id": "b--jaqEq79Xq",
      "metadata": {
        "colab": {
          "base_uri": "https://localhost:8080/"
        },
        "id": "b--jaqEq79Xq",
        "outputId": "43c52dd9-60d7-4700-f5c0-bedd7689abe9"
      },
      "outputs": [
        {
          "output_type": "stream",
          "name": "stdout",
          "text": [
            "<class 'pandas.core.frame.DataFrame'>\n",
            "RangeIndex: 29464 entries, 0 to 29463\n",
            "Data columns (total 9 columns):\n",
            " #   Column                    Non-Null Count  Dtype  \n",
            "---  ------                    --------------  -----  \n",
            " 0   Category                  29464 non-null  object \n",
            " 1   Keyword                   29464 non-null  object \n",
            " 2   Tweet_Timestamp           29464 non-null  object \n",
            " 3   Tweet_Content             29464 non-null  object \n",
            " 4   Tweet_Number_of_Retweets  29464 non-null  float64\n",
            " 5   Tweet_Number_of_Likes     29464 non-null  float64\n",
            " 6   Tweet_Number_of_Looks     29464 non-null  float64\n",
            " 7   Lemmatized_Tweets         29430 non-null  object \n",
            " 8   Clean_Tweets              29464 non-null  object \n",
            "dtypes: float64(3), object(6)\n",
            "memory usage: 2.0+ MB\n"
          ]
        }
      ],
      "source": [
        "# Load Dataset\n",
        "df = pd.read_csv('cleaned-sentiments.csv')\n",
        "# Get the info of the dataset\n",
        "df.info()"
      ]
    },
    {
      "cell_type": "markdown",
      "id": "4OiQNpSe-tu1",
      "metadata": {
        "id": "4OiQNpSe-tu1"
      },
      "source": [
        "#### Checking For Duplicates in the Dataset"
      ]
    },
    {
      "cell_type": "code",
      "execution_count": null,
      "id": "8Alq3avmo6e7",
      "metadata": {
        "colab": {
          "base_uri": "https://localhost:8080/"
        },
        "id": "8Alq3avmo6e7",
        "outputId": "f7b3c75d-d246-47a1-e60d-92662c96328d"
      },
      "outputs": [
        {
          "output_type": "execute_result",
          "data": {
            "text/plain": [
              "6077"
            ]
          },
          "metadata": {},
          "execution_count": 5
        }
      ],
      "source": [
        "# Checking for duplicates\n",
        "df.duplicated().sum()"
      ]
    },
    {
      "cell_type": "markdown",
      "id": "ZyS2Vwgz-8lx",
      "metadata": {
        "id": "ZyS2Vwgz-8lx"
      },
      "source": [
        "#### Dropping the duplicates values but keep one instance of each duplicate"
      ]
    },
    {
      "cell_type": "code",
      "execution_count": null,
      "id": "jz9eZTtApfDv",
      "metadata": {
        "colab": {
          "base_uri": "https://localhost:8080/"
        },
        "id": "jz9eZTtApfDv",
        "outputId": "848cbe43-c35f-4db1-f40b-21125ba9a214"
      },
      "outputs": [
        {
          "output_type": "stream",
          "name": "stdout",
          "text": [
            "Number of entries after keeping one instance of each duplicate: 23387\n"
          ]
        }
      ],
      "source": [
        "# Keeping one instance of each duplicates\n",
        "df= df.drop_duplicates(keep='first')\n",
        "# Printing the remaining nymber of rows in the dataset\n",
        "print(f\"Number of entries after keeping one instance of each duplicate: {df.shape[0]}\")\n"
      ]
    },
    {
      "cell_type": "markdown",
      "id": "3zSpQCDp_Ou8",
      "metadata": {
        "id": "3zSpQCDp_Ou8"
      },
      "source": [
        "The total number of duplicates keeping one instance of each duplicate is 25314"
      ]
    },
    {
      "cell_type": "markdown",
      "id": "lbxeoZbcA5SL",
      "metadata": {
        "id": "lbxeoZbcA5SL"
      },
      "source": [
        "#### Subsetting Cleaned Tweets for Analysis"
      ]
    },
    {
      "cell_type": "code",
      "execution_count": null,
      "id": "rtFVk2U9kQtA",
      "metadata": {
        "colab": {
          "base_uri": "https://localhost:8080/",
          "height": 206
        },
        "id": "rtFVk2U9kQtA",
        "outputId": "d0cce5fb-7c16-48ea-a713-2e62c048f3c9"
      },
      "outputs": [
        {
          "output_type": "execute_result",
          "data": {
            "text/plain": [
              "                                        Clean_Tweets  \\\n",
              "0  ['olympic', 'legend', 'usabmnt', 'paris2024', ...   \n",
              "1  ['olympicrecord', 'rizki', 'juniansyah', 'iwfn...   \n",
              "2  ['men', 'javelin', 'throw', 'final', 'big', 'a...   \n",
              "3  ['time', 'alive', 'usabmnt', 'paris2024', 'bas...   \n",
              "4  ['quincy', 'hall', 'effort', 'stretch', 'win',...   \n",
              "\n",
              "                                       Tweet_Content  \n",
              "0   Olympic Legends. #USABMNT #Paris2024 #Basketball  \n",
              "1  #OLYMPICRECORD FOR RIZKI JUNIANSYAH! @iwfnet |...  \n",
              "2  Men's javelin throw final was BIG  92.97m OR A...  \n",
              "3  WHAT A TIME TO BE ALIVE.  #USABMNT #Paris2024 ...  \n",
              "4  Quincy Hallâs effort down the stretch to win...  "
            ],
            "text/html": [
              "\n",
              "  <div id=\"df-d4a88589-bf24-4ffe-8008-0d14e93f24d0\" class=\"colab-df-container\">\n",
              "    <div>\n",
              "<style scoped>\n",
              "    .dataframe tbody tr th:only-of-type {\n",
              "        vertical-align: middle;\n",
              "    }\n",
              "\n",
              "    .dataframe tbody tr th {\n",
              "        vertical-align: top;\n",
              "    }\n",
              "\n",
              "    .dataframe thead th {\n",
              "        text-align: right;\n",
              "    }\n",
              "</style>\n",
              "<table border=\"1\" class=\"dataframe\">\n",
              "  <thead>\n",
              "    <tr style=\"text-align: right;\">\n",
              "      <th></th>\n",
              "      <th>Clean_Tweets</th>\n",
              "      <th>Tweet_Content</th>\n",
              "    </tr>\n",
              "  </thead>\n",
              "  <tbody>\n",
              "    <tr>\n",
              "      <th>0</th>\n",
              "      <td>['olympic', 'legend', 'usabmnt', 'paris2024', ...</td>\n",
              "      <td>Olympic Legends. #USABMNT #Paris2024 #Basketball</td>\n",
              "    </tr>\n",
              "    <tr>\n",
              "      <th>1</th>\n",
              "      <td>['olympicrecord', 'rizki', 'juniansyah', 'iwfn...</td>\n",
              "      <td>#OLYMPICRECORD FOR RIZKI JUNIANSYAH! @iwfnet |...</td>\n",
              "    </tr>\n",
              "    <tr>\n",
              "      <th>2</th>\n",
              "      <td>['men', 'javelin', 'throw', 'final', 'big', 'a...</td>\n",
              "      <td>Men's javelin throw final was BIG  92.97m OR A...</td>\n",
              "    </tr>\n",
              "    <tr>\n",
              "      <th>3</th>\n",
              "      <td>['time', 'alive', 'usabmnt', 'paris2024', 'bas...</td>\n",
              "      <td>WHAT A TIME TO BE ALIVE.  #USABMNT #Paris2024 ...</td>\n",
              "    </tr>\n",
              "    <tr>\n",
              "      <th>4</th>\n",
              "      <td>['quincy', 'hall', 'effort', 'stretch', 'win',...</td>\n",
              "      <td>Quincy Hallâs effort down the stretch to win...</td>\n",
              "    </tr>\n",
              "  </tbody>\n",
              "</table>\n",
              "</div>\n",
              "    <div class=\"colab-df-buttons\">\n",
              "\n",
              "  <div class=\"colab-df-container\">\n",
              "    <button class=\"colab-df-convert\" onclick=\"convertToInteractive('df-d4a88589-bf24-4ffe-8008-0d14e93f24d0')\"\n",
              "            title=\"Convert this dataframe to an interactive table.\"\n",
              "            style=\"display:none;\">\n",
              "\n",
              "  <svg xmlns=\"http://www.w3.org/2000/svg\" height=\"24px\" viewBox=\"0 -960 960 960\">\n",
              "    <path d=\"M120-120v-720h720v720H120Zm60-500h600v-160H180v160Zm220 220h160v-160H400v160Zm0 220h160v-160H400v160ZM180-400h160v-160H180v160Zm440 0h160v-160H620v160ZM180-180h160v-160H180v160Zm440 0h160v-160H620v160Z\"/>\n",
              "  </svg>\n",
              "    </button>\n",
              "\n",
              "  <style>\n",
              "    .colab-df-container {\n",
              "      display:flex;\n",
              "      gap: 12px;\n",
              "    }\n",
              "\n",
              "    .colab-df-convert {\n",
              "      background-color: #E8F0FE;\n",
              "      border: none;\n",
              "      border-radius: 50%;\n",
              "      cursor: pointer;\n",
              "      display: none;\n",
              "      fill: #1967D2;\n",
              "      height: 32px;\n",
              "      padding: 0 0 0 0;\n",
              "      width: 32px;\n",
              "    }\n",
              "\n",
              "    .colab-df-convert:hover {\n",
              "      background-color: #E2EBFA;\n",
              "      box-shadow: 0px 1px 2px rgba(60, 64, 67, 0.3), 0px 1px 3px 1px rgba(60, 64, 67, 0.15);\n",
              "      fill: #174EA6;\n",
              "    }\n",
              "\n",
              "    .colab-df-buttons div {\n",
              "      margin-bottom: 4px;\n",
              "    }\n",
              "\n",
              "    [theme=dark] .colab-df-convert {\n",
              "      background-color: #3B4455;\n",
              "      fill: #D2E3FC;\n",
              "    }\n",
              "\n",
              "    [theme=dark] .colab-df-convert:hover {\n",
              "      background-color: #434B5C;\n",
              "      box-shadow: 0px 1px 3px 1px rgba(0, 0, 0, 0.15);\n",
              "      filter: drop-shadow(0px 1px 2px rgba(0, 0, 0, 0.3));\n",
              "      fill: #FFFFFF;\n",
              "    }\n",
              "  </style>\n",
              "\n",
              "    <script>\n",
              "      const buttonEl =\n",
              "        document.querySelector('#df-d4a88589-bf24-4ffe-8008-0d14e93f24d0 button.colab-df-convert');\n",
              "      buttonEl.style.display =\n",
              "        google.colab.kernel.accessAllowed ? 'block' : 'none';\n",
              "\n",
              "      async function convertToInteractive(key) {\n",
              "        const element = document.querySelector('#df-d4a88589-bf24-4ffe-8008-0d14e93f24d0');\n",
              "        const dataTable =\n",
              "          await google.colab.kernel.invokeFunction('convertToInteractive',\n",
              "                                                    [key], {});\n",
              "        if (!dataTable) return;\n",
              "\n",
              "        const docLinkHtml = 'Like what you see? Visit the ' +\n",
              "          '<a target=\"_blank\" href=https://colab.research.google.com/notebooks/data_table.ipynb>data table notebook</a>'\n",
              "          + ' to learn more about interactive tables.';\n",
              "        element.innerHTML = '';\n",
              "        dataTable['output_type'] = 'display_data';\n",
              "        await google.colab.output.renderOutput(dataTable, element);\n",
              "        const docLink = document.createElement('div');\n",
              "        docLink.innerHTML = docLinkHtml;\n",
              "        element.appendChild(docLink);\n",
              "      }\n",
              "    </script>\n",
              "  </div>\n",
              "\n",
              "\n",
              "<div id=\"df-3908d247-47be-485b-b707-0fa8b5d78205\">\n",
              "  <button class=\"colab-df-quickchart\" onclick=\"quickchart('df-3908d247-47be-485b-b707-0fa8b5d78205')\"\n",
              "            title=\"Suggest charts\"\n",
              "            style=\"display:none;\">\n",
              "\n",
              "<svg xmlns=\"http://www.w3.org/2000/svg\" height=\"24px\"viewBox=\"0 0 24 24\"\n",
              "     width=\"24px\">\n",
              "    <g>\n",
              "        <path d=\"M19 3H5c-1.1 0-2 .9-2 2v14c0 1.1.9 2 2 2h14c1.1 0 2-.9 2-2V5c0-1.1-.9-2-2-2zM9 17H7v-7h2v7zm4 0h-2V7h2v10zm4 0h-2v-4h2v4z\"/>\n",
              "    </g>\n",
              "</svg>\n",
              "  </button>\n",
              "\n",
              "<style>\n",
              "  .colab-df-quickchart {\n",
              "      --bg-color: #E8F0FE;\n",
              "      --fill-color: #1967D2;\n",
              "      --hover-bg-color: #E2EBFA;\n",
              "      --hover-fill-color: #174EA6;\n",
              "      --disabled-fill-color: #AAA;\n",
              "      --disabled-bg-color: #DDD;\n",
              "  }\n",
              "\n",
              "  [theme=dark] .colab-df-quickchart {\n",
              "      --bg-color: #3B4455;\n",
              "      --fill-color: #D2E3FC;\n",
              "      --hover-bg-color: #434B5C;\n",
              "      --hover-fill-color: #FFFFFF;\n",
              "      --disabled-bg-color: #3B4455;\n",
              "      --disabled-fill-color: #666;\n",
              "  }\n",
              "\n",
              "  .colab-df-quickchart {\n",
              "    background-color: var(--bg-color);\n",
              "    border: none;\n",
              "    border-radius: 50%;\n",
              "    cursor: pointer;\n",
              "    display: none;\n",
              "    fill: var(--fill-color);\n",
              "    height: 32px;\n",
              "    padding: 0;\n",
              "    width: 32px;\n",
              "  }\n",
              "\n",
              "  .colab-df-quickchart:hover {\n",
              "    background-color: var(--hover-bg-color);\n",
              "    box-shadow: 0 1px 2px rgba(60, 64, 67, 0.3), 0 1px 3px 1px rgba(60, 64, 67, 0.15);\n",
              "    fill: var(--button-hover-fill-color);\n",
              "  }\n",
              "\n",
              "  .colab-df-quickchart-complete:disabled,\n",
              "  .colab-df-quickchart-complete:disabled:hover {\n",
              "    background-color: var(--disabled-bg-color);\n",
              "    fill: var(--disabled-fill-color);\n",
              "    box-shadow: none;\n",
              "  }\n",
              "\n",
              "  .colab-df-spinner {\n",
              "    border: 2px solid var(--fill-color);\n",
              "    border-color: transparent;\n",
              "    border-bottom-color: var(--fill-color);\n",
              "    animation:\n",
              "      spin 1s steps(1) infinite;\n",
              "  }\n",
              "\n",
              "  @keyframes spin {\n",
              "    0% {\n",
              "      border-color: transparent;\n",
              "      border-bottom-color: var(--fill-color);\n",
              "      border-left-color: var(--fill-color);\n",
              "    }\n",
              "    20% {\n",
              "      border-color: transparent;\n",
              "      border-left-color: var(--fill-color);\n",
              "      border-top-color: var(--fill-color);\n",
              "    }\n",
              "    30% {\n",
              "      border-color: transparent;\n",
              "      border-left-color: var(--fill-color);\n",
              "      border-top-color: var(--fill-color);\n",
              "      border-right-color: var(--fill-color);\n",
              "    }\n",
              "    40% {\n",
              "      border-color: transparent;\n",
              "      border-right-color: var(--fill-color);\n",
              "      border-top-color: var(--fill-color);\n",
              "    }\n",
              "    60% {\n",
              "      border-color: transparent;\n",
              "      border-right-color: var(--fill-color);\n",
              "    }\n",
              "    80% {\n",
              "      border-color: transparent;\n",
              "      border-right-color: var(--fill-color);\n",
              "      border-bottom-color: var(--fill-color);\n",
              "    }\n",
              "    90% {\n",
              "      border-color: transparent;\n",
              "      border-bottom-color: var(--fill-color);\n",
              "    }\n",
              "  }\n",
              "</style>\n",
              "\n",
              "  <script>\n",
              "    async function quickchart(key) {\n",
              "      const quickchartButtonEl =\n",
              "        document.querySelector('#' + key + ' button');\n",
              "      quickchartButtonEl.disabled = true;  // To prevent multiple clicks.\n",
              "      quickchartButtonEl.classList.add('colab-df-spinner');\n",
              "      try {\n",
              "        const charts = await google.colab.kernel.invokeFunction(\n",
              "            'suggestCharts', [key], {});\n",
              "      } catch (error) {\n",
              "        console.error('Error during call to suggestCharts:', error);\n",
              "      }\n",
              "      quickchartButtonEl.classList.remove('colab-df-spinner');\n",
              "      quickchartButtonEl.classList.add('colab-df-quickchart-complete');\n",
              "    }\n",
              "    (() => {\n",
              "      let quickchartButtonEl =\n",
              "        document.querySelector('#df-3908d247-47be-485b-b707-0fa8b5d78205 button');\n",
              "      quickchartButtonEl.style.display =\n",
              "        google.colab.kernel.accessAllowed ? 'block' : 'none';\n",
              "    })();\n",
              "  </script>\n",
              "</div>\n",
              "\n",
              "    </div>\n",
              "  </div>\n"
            ],
            "application/vnd.google.colaboratory.intrinsic+json": {
              "type": "dataframe",
              "variable_name": "df",
              "summary": "{\n  \"name\": \"df\",\n  \"rows\": 23387,\n  \"fields\": [\n    {\n      \"column\": \"Clean_Tweets\",\n      \"properties\": {\n        \"dtype\": \"category\",\n        \"num_unique_values\": 4614,\n        \"samples\": [\n          \"['jove', 'thats', 'call', 'swimsuit', 'gallicabnf', 'paris1910', 'swimming', 'natation', 'swimmer', 'swimsuit', 'sporthistory', 'paris2024']\",\n          \"['leslie', 'jones', 'lesdog', 'ready', 'scream', 'katie', 'ledeckys', 'name', 'parisolympics']\",\n          \"['pour', 'paris2024', 'champspourelles', 'lors', 'tdf2017', 'ouverture', 'dpart', 'tirage', 'au', 'sort', 'fintwitter', 'aussi', 'avec', 'efdv']\"\n        ],\n        \"semantic_type\": \"\",\n        \"description\": \"\"\n      }\n    },\n    {\n      \"column\": \"Tweet_Content\",\n      \"properties\": {\n        \"dtype\": \"category\",\n        \"num_unique_values\": 4708,\n        \"samples\": [\n          \"Paris  PUMA HOUSE -T\\u00e2\\u0080\\u0099waz a great experience  today at the Puma House doing our Opening ceremony photoshoot ! s/o to broady and stacey-#paris2024 #contentcreator #olympics2024 #explorepage\",\n          \"Ca d\\u00c3\\u00a9vient presque bon ...#Paris2024 #JO\",\n          \"La Mecque du cano\\u00c3\\u00ab  \\u00c3\\u00a0 Pau pour une journ\\u00c3\\u00a9e aupres des pr\\u00c3\\u00a9sidents de #Paris2024\"\n        ],\n        \"semantic_type\": \"\",\n        \"description\": \"\"\n      }\n    }\n  ]\n}"
            }
          },
          "metadata": {},
          "execution_count": 7
        }
      ],
      "source": [
        "# Selecting Only the column `Clean_Tweet` column from the Dataframe\n",
        "df = df[['Clean_Tweets', 'Tweet_Content']]\n",
        "df.head()"
      ]
    },
    {
      "cell_type": "code",
      "execution_count": null,
      "id": "b1C9_an279Xx",
      "metadata": {
        "colab": {
          "base_uri": "https://localhost:8080/"
        },
        "id": "b1C9_an279Xx",
        "outputId": "961ab070-764a-42ce-913c-01abd3a6d59c"
      },
      "outputs": [
        {
          "output_type": "execute_result",
          "data": {
            "text/plain": [
              "(23387, 2)"
            ]
          },
          "metadata": {},
          "execution_count": 8
        }
      ],
      "source": [
        "df.shape"
      ]
    },
    {
      "cell_type": "code",
      "execution_count": null,
      "id": "svf9_HqJlEqy",
      "metadata": {
        "colab": {
          "base_uri": "https://localhost:8080/"
        },
        "id": "svf9_HqJlEqy",
        "outputId": "ed1fe992-369a-4532-822c-6c44ed2fc3dc"
      },
      "outputs": [
        {
          "output_type": "execute_result",
          "data": {
            "text/plain": [
              "Index(['Clean_Tweets', 'Tweet_Content'], dtype='object')"
            ]
          },
          "metadata": {},
          "execution_count": 9
        }
      ],
      "source": [
        "df.columns"
      ]
    },
    {
      "cell_type": "markdown",
      "id": "Xzrz_bUQEAYt",
      "metadata": {
        "id": "Xzrz_bUQEAYt"
      },
      "source": [
        "### Labelling Data"
      ]
    },
    {
      "cell_type": "code",
      "execution_count": null,
      "id": "ybaFZOLfqOn5",
      "metadata": {
        "colab": {
          "base_uri": "https://localhost:8080/"
        },
        "id": "ybaFZOLfqOn5",
        "outputId": "d223f137-8bbf-457e-8bb4-f639923e599b"
      },
      "outputs": [
        {
          "output_type": "execute_result",
          "data": {
            "text/plain": [
              "(23387, 6)"
            ]
          },
          "metadata": {},
          "execution_count": 11
        }
      ],
      "source": [
        "# Pseudo Sentiment assignment using the vader Model\n",
        "\n",
        "# Initialize the SentimentIntensityAnalyzer\n",
        "sentiments = SentimentIntensityAnalyzer()\n",
        "\n",
        "# Convert 'Clean_Tweet' column to string type to ensure compatibility\n",
        "df['Clean_Tweets'] = df['Clean_Tweets'].astype(str)\n",
        "\n",
        "# Calculate polarity scores for each tweet and store them in new columns in the DataFrame df\n",
        "df[\"Positive\"] = [sentiments.polarity_scores(tweet)[\"pos\"] for tweet in df[\"Clean_Tweets\"]]\n",
        "df[\"Negative\"] = [sentiments.polarity_scores(tweet)[\"neg\"] for tweet in df[\"Clean_Tweets\"]]\n",
        "df[\"Neutral\"] = [sentiments.polarity_scores(tweet)[\"neu\"] for tweet in df[\"Clean_Tweets\"]]\n",
        "df['Compound'] = [sentiments.polarity_scores(tweet)[\"compound\"] for tweet in df[\"Clean_Tweets\"]]\n",
        "\n",
        "# Print the first few rows of the DataFrame to see the results\n",
        "df.shape"
      ]
    },
    {
      "cell_type": "markdown",
      "id": "ihnBSiMEG07W",
      "metadata": {
        "id": "ihnBSiMEG07W"
      },
      "source": [
        "Pseudo Sentiment Assignment involves using a model to generate sentiment labels for unlabeled data, which is then used as if it were labeled data"
      ]
    },
    {
      "cell_type": "markdown",
      "id": "bKRTM8PrGYoP",
      "metadata": {
        "id": "bKRTM8PrGYoP"
      },
      "source": [
        "#### Assigning Sentiment Labels Based on Compound Scores"
      ]
    },
    {
      "cell_type": "code",
      "execution_count": null,
      "id": "XBmx2qvu79Xz",
      "metadata": {
        "colab": {
          "base_uri": "https://localhost:8080/",
          "height": 206
        },
        "id": "XBmx2qvu79Xz",
        "outputId": "6bd9cfdb-38b5-4196-ebf2-cacdddd3e670"
      },
      "outputs": [
        {
          "output_type": "execute_result",
          "data": {
            "text/plain": [
              "                                        Clean_Tweets  \\\n",
              "0  ['olympic', 'legend', 'usabmnt', 'paris2024', ...   \n",
              "1  ['olympicrecord', 'rizki', 'juniansyah', 'iwfn...   \n",
              "2  ['men', 'javelin', 'throw', 'final', 'big', 'a...   \n",
              "3  ['time', 'alive', 'usabmnt', 'paris2024', 'bas...   \n",
              "4  ['quincy', 'hall', 'effort', 'stretch', 'win',...   \n",
              "\n",
              "                                       Tweet_Content  Positive  Negative  \\\n",
              "0   Olympic Legends. #USABMNT #Paris2024 #Basketball     0.000       0.0   \n",
              "1  #OLYMPICRECORD FOR RIZKI JUNIANSYAH! @iwfnet |...     0.000       0.0   \n",
              "2  Men's javelin throw final was BIG  92.97m OR A...     0.000       0.0   \n",
              "3  WHAT A TIME TO BE ALIVE.  #USABMNT #Paris2024 ...     0.394       0.0   \n",
              "4  Quincy Hallâs effort down the stretch to win...     0.463       0.0   \n",
              "\n",
              "   Neutral  Compound Sentiment  \n",
              "0    1.000    0.0000   Neutral  \n",
              "1    1.000    0.0000   Neutral  \n",
              "2    1.000    0.0000   Neutral  \n",
              "3    0.606    0.3818  Positive  \n",
              "4    0.537    0.7845  Positive  "
            ],
            "text/html": [
              "\n",
              "  <div id=\"df-11005893-c0c6-458a-9a7e-2c7996e95943\" class=\"colab-df-container\">\n",
              "    <div>\n",
              "<style scoped>\n",
              "    .dataframe tbody tr th:only-of-type {\n",
              "        vertical-align: middle;\n",
              "    }\n",
              "\n",
              "    .dataframe tbody tr th {\n",
              "        vertical-align: top;\n",
              "    }\n",
              "\n",
              "    .dataframe thead th {\n",
              "        text-align: right;\n",
              "    }\n",
              "</style>\n",
              "<table border=\"1\" class=\"dataframe\">\n",
              "  <thead>\n",
              "    <tr style=\"text-align: right;\">\n",
              "      <th></th>\n",
              "      <th>Clean_Tweets</th>\n",
              "      <th>Tweet_Content</th>\n",
              "      <th>Positive</th>\n",
              "      <th>Negative</th>\n",
              "      <th>Neutral</th>\n",
              "      <th>Compound</th>\n",
              "      <th>Sentiment</th>\n",
              "    </tr>\n",
              "  </thead>\n",
              "  <tbody>\n",
              "    <tr>\n",
              "      <th>0</th>\n",
              "      <td>['olympic', 'legend', 'usabmnt', 'paris2024', ...</td>\n",
              "      <td>Olympic Legends. #USABMNT #Paris2024 #Basketball</td>\n",
              "      <td>0.000</td>\n",
              "      <td>0.0</td>\n",
              "      <td>1.000</td>\n",
              "      <td>0.0000</td>\n",
              "      <td>Neutral</td>\n",
              "    </tr>\n",
              "    <tr>\n",
              "      <th>1</th>\n",
              "      <td>['olympicrecord', 'rizki', 'juniansyah', 'iwfn...</td>\n",
              "      <td>#OLYMPICRECORD FOR RIZKI JUNIANSYAH! @iwfnet |...</td>\n",
              "      <td>0.000</td>\n",
              "      <td>0.0</td>\n",
              "      <td>1.000</td>\n",
              "      <td>0.0000</td>\n",
              "      <td>Neutral</td>\n",
              "    </tr>\n",
              "    <tr>\n",
              "      <th>2</th>\n",
              "      <td>['men', 'javelin', 'throw', 'final', 'big', 'a...</td>\n",
              "      <td>Men's javelin throw final was BIG  92.97m OR A...</td>\n",
              "      <td>0.000</td>\n",
              "      <td>0.0</td>\n",
              "      <td>1.000</td>\n",
              "      <td>0.0000</td>\n",
              "      <td>Neutral</td>\n",
              "    </tr>\n",
              "    <tr>\n",
              "      <th>3</th>\n",
              "      <td>['time', 'alive', 'usabmnt', 'paris2024', 'bas...</td>\n",
              "      <td>WHAT A TIME TO BE ALIVE.  #USABMNT #Paris2024 ...</td>\n",
              "      <td>0.394</td>\n",
              "      <td>0.0</td>\n",
              "      <td>0.606</td>\n",
              "      <td>0.3818</td>\n",
              "      <td>Positive</td>\n",
              "    </tr>\n",
              "    <tr>\n",
              "      <th>4</th>\n",
              "      <td>['quincy', 'hall', 'effort', 'stretch', 'win',...</td>\n",
              "      <td>Quincy Hallâs effort down the stretch to win...</td>\n",
              "      <td>0.463</td>\n",
              "      <td>0.0</td>\n",
              "      <td>0.537</td>\n",
              "      <td>0.7845</td>\n",
              "      <td>Positive</td>\n",
              "    </tr>\n",
              "  </tbody>\n",
              "</table>\n",
              "</div>\n",
              "    <div class=\"colab-df-buttons\">\n",
              "\n",
              "  <div class=\"colab-df-container\">\n",
              "    <button class=\"colab-df-convert\" onclick=\"convertToInteractive('df-11005893-c0c6-458a-9a7e-2c7996e95943')\"\n",
              "            title=\"Convert this dataframe to an interactive table.\"\n",
              "            style=\"display:none;\">\n",
              "\n",
              "  <svg xmlns=\"http://www.w3.org/2000/svg\" height=\"24px\" viewBox=\"0 -960 960 960\">\n",
              "    <path d=\"M120-120v-720h720v720H120Zm60-500h600v-160H180v160Zm220 220h160v-160H400v160Zm0 220h160v-160H400v160ZM180-400h160v-160H180v160Zm440 0h160v-160H620v160ZM180-180h160v-160H180v160Zm440 0h160v-160H620v160Z\"/>\n",
              "  </svg>\n",
              "    </button>\n",
              "\n",
              "  <style>\n",
              "    .colab-df-container {\n",
              "      display:flex;\n",
              "      gap: 12px;\n",
              "    }\n",
              "\n",
              "    .colab-df-convert {\n",
              "      background-color: #E8F0FE;\n",
              "      border: none;\n",
              "      border-radius: 50%;\n",
              "      cursor: pointer;\n",
              "      display: none;\n",
              "      fill: #1967D2;\n",
              "      height: 32px;\n",
              "      padding: 0 0 0 0;\n",
              "      width: 32px;\n",
              "    }\n",
              "\n",
              "    .colab-df-convert:hover {\n",
              "      background-color: #E2EBFA;\n",
              "      box-shadow: 0px 1px 2px rgba(60, 64, 67, 0.3), 0px 1px 3px 1px rgba(60, 64, 67, 0.15);\n",
              "      fill: #174EA6;\n",
              "    }\n",
              "\n",
              "    .colab-df-buttons div {\n",
              "      margin-bottom: 4px;\n",
              "    }\n",
              "\n",
              "    [theme=dark] .colab-df-convert {\n",
              "      background-color: #3B4455;\n",
              "      fill: #D2E3FC;\n",
              "    }\n",
              "\n",
              "    [theme=dark] .colab-df-convert:hover {\n",
              "      background-color: #434B5C;\n",
              "      box-shadow: 0px 1px 3px 1px rgba(0, 0, 0, 0.15);\n",
              "      filter: drop-shadow(0px 1px 2px rgba(0, 0, 0, 0.3));\n",
              "      fill: #FFFFFF;\n",
              "    }\n",
              "  </style>\n",
              "\n",
              "    <script>\n",
              "      const buttonEl =\n",
              "        document.querySelector('#df-11005893-c0c6-458a-9a7e-2c7996e95943 button.colab-df-convert');\n",
              "      buttonEl.style.display =\n",
              "        google.colab.kernel.accessAllowed ? 'block' : 'none';\n",
              "\n",
              "      async function convertToInteractive(key) {\n",
              "        const element = document.querySelector('#df-11005893-c0c6-458a-9a7e-2c7996e95943');\n",
              "        const dataTable =\n",
              "          await google.colab.kernel.invokeFunction('convertToInteractive',\n",
              "                                                    [key], {});\n",
              "        if (!dataTable) return;\n",
              "\n",
              "        const docLinkHtml = 'Like what you see? Visit the ' +\n",
              "          '<a target=\"_blank\" href=https://colab.research.google.com/notebooks/data_table.ipynb>data table notebook</a>'\n",
              "          + ' to learn more about interactive tables.';\n",
              "        element.innerHTML = '';\n",
              "        dataTable['output_type'] = 'display_data';\n",
              "        await google.colab.output.renderOutput(dataTable, element);\n",
              "        const docLink = document.createElement('div');\n",
              "        docLink.innerHTML = docLinkHtml;\n",
              "        element.appendChild(docLink);\n",
              "      }\n",
              "    </script>\n",
              "  </div>\n",
              "\n",
              "\n",
              "<div id=\"df-2cf5300d-5322-4799-a678-eea2205121d2\">\n",
              "  <button class=\"colab-df-quickchart\" onclick=\"quickchart('df-2cf5300d-5322-4799-a678-eea2205121d2')\"\n",
              "            title=\"Suggest charts\"\n",
              "            style=\"display:none;\">\n",
              "\n",
              "<svg xmlns=\"http://www.w3.org/2000/svg\" height=\"24px\"viewBox=\"0 0 24 24\"\n",
              "     width=\"24px\">\n",
              "    <g>\n",
              "        <path d=\"M19 3H5c-1.1 0-2 .9-2 2v14c0 1.1.9 2 2 2h14c1.1 0 2-.9 2-2V5c0-1.1-.9-2-2-2zM9 17H7v-7h2v7zm4 0h-2V7h2v10zm4 0h-2v-4h2v4z\"/>\n",
              "    </g>\n",
              "</svg>\n",
              "  </button>\n",
              "\n",
              "<style>\n",
              "  .colab-df-quickchart {\n",
              "      --bg-color: #E8F0FE;\n",
              "      --fill-color: #1967D2;\n",
              "      --hover-bg-color: #E2EBFA;\n",
              "      --hover-fill-color: #174EA6;\n",
              "      --disabled-fill-color: #AAA;\n",
              "      --disabled-bg-color: #DDD;\n",
              "  }\n",
              "\n",
              "  [theme=dark] .colab-df-quickchart {\n",
              "      --bg-color: #3B4455;\n",
              "      --fill-color: #D2E3FC;\n",
              "      --hover-bg-color: #434B5C;\n",
              "      --hover-fill-color: #FFFFFF;\n",
              "      --disabled-bg-color: #3B4455;\n",
              "      --disabled-fill-color: #666;\n",
              "  }\n",
              "\n",
              "  .colab-df-quickchart {\n",
              "    background-color: var(--bg-color);\n",
              "    border: none;\n",
              "    border-radius: 50%;\n",
              "    cursor: pointer;\n",
              "    display: none;\n",
              "    fill: var(--fill-color);\n",
              "    height: 32px;\n",
              "    padding: 0;\n",
              "    width: 32px;\n",
              "  }\n",
              "\n",
              "  .colab-df-quickchart:hover {\n",
              "    background-color: var(--hover-bg-color);\n",
              "    box-shadow: 0 1px 2px rgba(60, 64, 67, 0.3), 0 1px 3px 1px rgba(60, 64, 67, 0.15);\n",
              "    fill: var(--button-hover-fill-color);\n",
              "  }\n",
              "\n",
              "  .colab-df-quickchart-complete:disabled,\n",
              "  .colab-df-quickchart-complete:disabled:hover {\n",
              "    background-color: var(--disabled-bg-color);\n",
              "    fill: var(--disabled-fill-color);\n",
              "    box-shadow: none;\n",
              "  }\n",
              "\n",
              "  .colab-df-spinner {\n",
              "    border: 2px solid var(--fill-color);\n",
              "    border-color: transparent;\n",
              "    border-bottom-color: var(--fill-color);\n",
              "    animation:\n",
              "      spin 1s steps(1) infinite;\n",
              "  }\n",
              "\n",
              "  @keyframes spin {\n",
              "    0% {\n",
              "      border-color: transparent;\n",
              "      border-bottom-color: var(--fill-color);\n",
              "      border-left-color: var(--fill-color);\n",
              "    }\n",
              "    20% {\n",
              "      border-color: transparent;\n",
              "      border-left-color: var(--fill-color);\n",
              "      border-top-color: var(--fill-color);\n",
              "    }\n",
              "    30% {\n",
              "      border-color: transparent;\n",
              "      border-left-color: var(--fill-color);\n",
              "      border-top-color: var(--fill-color);\n",
              "      border-right-color: var(--fill-color);\n",
              "    }\n",
              "    40% {\n",
              "      border-color: transparent;\n",
              "      border-right-color: var(--fill-color);\n",
              "      border-top-color: var(--fill-color);\n",
              "    }\n",
              "    60% {\n",
              "      border-color: transparent;\n",
              "      border-right-color: var(--fill-color);\n",
              "    }\n",
              "    80% {\n",
              "      border-color: transparent;\n",
              "      border-right-color: var(--fill-color);\n",
              "      border-bottom-color: var(--fill-color);\n",
              "    }\n",
              "    90% {\n",
              "      border-color: transparent;\n",
              "      border-bottom-color: var(--fill-color);\n",
              "    }\n",
              "  }\n",
              "</style>\n",
              "\n",
              "  <script>\n",
              "    async function quickchart(key) {\n",
              "      const quickchartButtonEl =\n",
              "        document.querySelector('#' + key + ' button');\n",
              "      quickchartButtonEl.disabled = true;  // To prevent multiple clicks.\n",
              "      quickchartButtonEl.classList.add('colab-df-spinner');\n",
              "      try {\n",
              "        const charts = await google.colab.kernel.invokeFunction(\n",
              "            'suggestCharts', [key], {});\n",
              "      } catch (error) {\n",
              "        console.error('Error during call to suggestCharts:', error);\n",
              "      }\n",
              "      quickchartButtonEl.classList.remove('colab-df-spinner');\n",
              "      quickchartButtonEl.classList.add('colab-df-quickchart-complete');\n",
              "    }\n",
              "    (() => {\n",
              "      let quickchartButtonEl =\n",
              "        document.querySelector('#df-2cf5300d-5322-4799-a678-eea2205121d2 button');\n",
              "      quickchartButtonEl.style.display =\n",
              "        google.colab.kernel.accessAllowed ? 'block' : 'none';\n",
              "    })();\n",
              "  </script>\n",
              "</div>\n",
              "\n",
              "    </div>\n",
              "  </div>\n"
            ],
            "application/vnd.google.colaboratory.intrinsic+json": {
              "type": "dataframe",
              "variable_name": "df",
              "summary": "{\n  \"name\": \"df\",\n  \"rows\": 23387,\n  \"fields\": [\n    {\n      \"column\": \"Clean_Tweets\",\n      \"properties\": {\n        \"dtype\": \"category\",\n        \"num_unique_values\": 4614,\n        \"samples\": [\n          \"['jove', 'thats', 'call', 'swimsuit', 'gallicabnf', 'paris1910', 'swimming', 'natation', 'swimmer', 'swimsuit', 'sporthistory', 'paris2024']\",\n          \"['leslie', 'jones', 'lesdog', 'ready', 'scream', 'katie', 'ledeckys', 'name', 'parisolympics']\",\n          \"['pour', 'paris2024', 'champspourelles', 'lors', 'tdf2017', 'ouverture', 'dpart', 'tirage', 'au', 'sort', 'fintwitter', 'aussi', 'avec', 'efdv']\"\n        ],\n        \"semantic_type\": \"\",\n        \"description\": \"\"\n      }\n    },\n    {\n      \"column\": \"Tweet_Content\",\n      \"properties\": {\n        \"dtype\": \"category\",\n        \"num_unique_values\": 4708,\n        \"samples\": [\n          \"Paris  PUMA HOUSE -T\\u00e2\\u0080\\u0099waz a great experience  today at the Puma House doing our Opening ceremony photoshoot ! s/o to broady and stacey-#paris2024 #contentcreator #olympics2024 #explorepage\",\n          \"Ca d\\u00c3\\u00a9vient presque bon ...#Paris2024 #JO\",\n          \"La Mecque du cano\\u00c3\\u00ab  \\u00c3\\u00a0 Pau pour une journ\\u00c3\\u00a9e aupres des pr\\u00c3\\u00a9sidents de #Paris2024\"\n        ],\n        \"semantic_type\": \"\",\n        \"description\": \"\"\n      }\n    },\n    {\n      \"column\": \"Positive\",\n      \"properties\": {\n        \"dtype\": \"number\",\n        \"std\": 0.18880170324958243,\n        \"min\": 0.0,\n        \"max\": 0.796,\n        \"num_unique_values\": 503,\n        \"samples\": [\n          0.185,\n          0.071,\n          0.139\n        ],\n        \"semantic_type\": \"\",\n        \"description\": \"\"\n      }\n    },\n    {\n      \"column\": \"Negative\",\n      \"properties\": {\n        \"dtype\": \"number\",\n        \"std\": 0.08722718430095532,\n        \"min\": 0.0,\n        \"max\": 0.881,\n        \"num_unique_values\": 270,\n        \"samples\": [\n          0.189,\n          0.342,\n          0.126\n        ],\n        \"semantic_type\": \"\",\n        \"description\": \"\"\n      }\n    },\n    {\n      \"column\": \"Neutral\",\n      \"properties\": {\n        \"dtype\": \"number\",\n        \"std\": 0.20231623718369798,\n        \"min\": 0.0,\n        \"max\": 1.0,\n        \"num_unique_values\": 523,\n        \"samples\": [\n          0.499,\n          0.857,\n          0.744\n        ],\n        \"semantic_type\": \"\",\n        \"description\": \"\"\n      }\n    },\n    {\n      \"column\": \"Compound\",\n      \"properties\": {\n        \"dtype\": \"number\",\n        \"std\": 0.38416427778995743,\n        \"min\": -0.9231,\n        \"max\": 0.9799,\n        \"num_unique_values\": 294,\n        \"samples\": [\n          0.9274,\n          0.6249,\n          -0.1012\n        ],\n        \"semantic_type\": \"\",\n        \"description\": \"\"\n      }\n    },\n    {\n      \"column\": \"Sentiment\",\n      \"properties\": {\n        \"dtype\": \"category\",\n        \"num_unique_values\": 3,\n        \"samples\": [\n          \"Neutral\",\n          \"Positive\",\n          \"Negative\"\n        ],\n        \"semantic_type\": \"\",\n        \"description\": \"\"\n      }\n    }\n  ]\n}"
            }
          },
          "metadata": {},
          "execution_count": 12
        }
      ],
      "source": [
        "# classifying sentiments (Positive, Neutral or Negative) based on compound sentiment scores\n",
        "score = df[\"Compound\"].values\n",
        "sentiment = []\n",
        "for i in score:\n",
        "    if i >= 0.05 :\n",
        "        sentiment.append('Positive')\n",
        "    elif i <= -0.05 :\n",
        "        sentiment.append('Negative')\n",
        "    else:\n",
        "        sentiment.append('Neutral')\n",
        "df[\"Sentiment\"] = sentiment\n",
        "df.head()"
      ]
    },
    {
      "cell_type": "markdown",
      "id": "sz2Gjc1gHhZu",
      "metadata": {
        "id": "sz2Gjc1gHhZu"
      },
      "source": [
        "\n",
        "A new column named `Sentiment` has been created, categorizing entries into three sentiment classes—`Positive`, `Negative`, and `Neutral`—based on the pseudo compound method\n",
        "\n",
        "\n"
      ]
    },
    {
      "cell_type": "markdown",
      "id": "RklqDYKH79X0",
      "metadata": {
        "id": "RklqDYKH79X0"
      },
      "source": [
        "#### Class imbalance solution"
      ]
    },
    {
      "cell_type": "code",
      "execution_count": null,
      "id": "IK8dHyC379X0",
      "metadata": {
        "colab": {
          "base_uri": "https://localhost:8080/"
        },
        "id": "IK8dHyC379X0",
        "outputId": "cbffc087-46b3-4256-da16-c6842e106595"
      },
      "outputs": [
        {
          "output_type": "stream",
          "name": "stdout",
          "text": [
            "Sentiment\n",
            "Neutral     11149\n",
            "Positive    10410\n",
            "Negative     1828\n",
            "Name: count, dtype: int64\n"
          ]
        }
      ],
      "source": [
        "#Distribution of sentiments\n",
        "print(df['Sentiment'].value_counts())"
      ]
    },
    {
      "cell_type": "markdown",
      "id": "JWX9Bx3LIW57",
      "metadata": {
        "id": "JWX9Bx3LIW57"
      },
      "source": [
        "The distribution of sentiment classes reveals a significant class imbalance among the `Positive`, `Negative`, and `Neutral` categories.The models trained on imbalanced data may become biased towards the majority class. This can lead to poor performance on the minority classes, as the model may underperform in predicting less frequent classes.\n",
        "\n",
        "\n",
        "\n",
        "\n",
        "\n"
      ]
    },
    {
      "cell_type": "markdown",
      "id": "Dx8YMgIrJPYn",
      "metadata": {
        "id": "Dx8YMgIrJPYn"
      },
      "source": [
        "#### Splitting the Dataset"
      ]
    },
    {
      "cell_type": "code",
      "execution_count": null,
      "id": "Az4r9BOL79X1",
      "metadata": {
        "colab": {
          "base_uri": "https://localhost:8080/",
          "height": 536
        },
        "id": "Az4r9BOL79X1",
        "outputId": "be42f568-a9ac-4179-d761-584527145441"
      },
      "outputs": [
        {
          "output_type": "display_data",
          "data": {
            "text/plain": [
              "<Figure size 800x500 with 1 Axes>"
            ],
            "image/png": "[encoded data removed]"
          },
          "metadata": {}
        }
      ],
      "source": [
        "# Splitting the data into features and target\n",
        "X = df['Clean_Tweets']\n",
        "y = df['Sentiment']\n",
        "\n",
        "# Visualizing class distribution before SMOTE\n",
        "fig, ax = plt.subplots(figsize=(8, 5))\n",
        "\n",
        "# Using inferno colormap\n",
        "colors = sns.color_palette(\"Blues\", len(y.value_counts()))\n",
        "\n",
        "# Plotting the bar chart with the inferno colormap\n",
        "y.value_counts().plot(kind='bar', color=colors, ax=ax)\n",
        "\n",
        "ax.set_title('Original Class Distribution')\n",
        "ax.set_xlabel('Sentiment')\n",
        "ax.set_ylabel('Frequency')\n",
        "plt.show()"
      ]
    },
    {
      "cell_type": "markdown",
      "id": "wVWNSmRGKCkb",
      "metadata": {
        "id": "wVWNSmRGKCkb"
      },
      "source": [
        "This plot shows that there is class imbalance that favours the `Neutral` class"
      ]
    },
    {
      "cell_type": "markdown",
      "id": "H7BI3tfzNsqp",
      "metadata": {
        "id": "H7BI3tfzNsqp"
      },
      "source": [
        "#### Detecting the Languages used in the sentiments"
      ]
    },
    {
      "cell_type": "code",
      "execution_count": null,
      "id": "pcFixOYANoJF",
      "metadata": {
        "colab": {
          "base_uri": "https://localhost:8080/",
          "height": 1000
        },
        "id": "pcFixOYANoJF",
        "outputId": "8537d964-7604-446f-8800-190c0a8db19f"
      },
      "outputs": [
        {
          "output_type": "execute_result",
          "data": {
            "text/plain": [
              "language\n",
              "en         17939\n",
              "fr          2101\n",
              "es          1001\n",
              "pt           605\n",
              "it           375\n",
              "id           309\n",
              "no           161\n",
              "ca           153\n",
              "lt           146\n",
              "tr           127\n",
              "et            65\n",
              "sv            57\n",
              "cy            52\n",
              "nl            50\n",
              "tl            49\n",
              "so            45\n",
              "unknown       27\n",
              "sq            22\n",
              "ro            20\n",
              "vi            19\n",
              "fi            15\n",
              "sl            11\n",
              "de             9\n",
              "pl             8\n",
              "da             8\n",
              "lv             5\n",
              "hu             3\n",
              "sk             2\n",
              "af             1\n",
              "sw             1\n",
              "hr             1\n",
              "Name: count, dtype: int64"
            ],
            "text/html": [
              "<div>\n",
              "<style scoped>\n",
              "    .dataframe tbody tr th:only-of-type {\n",
              "        vertical-align: middle;\n",
              "    }\n",
              "\n",
              "    .dataframe tbody tr th {\n",
              "        vertical-align: top;\n",
              "    }\n",
              "\n",
              "    .dataframe thead th {\n",
              "        text-align: right;\n",
              "    }\n",
              "</style>\n",
              "<table border=\"1\" class=\"dataframe\">\n",
              "  <thead>\n",
              "    <tr style=\"text-align: right;\">\n",
              "      <th></th>\n",
              "      <th>count</th>\n",
              "    </tr>\n",
              "    <tr>\n",
              "      <th>language</th>\n",
              "      <th></th>\n",
              "    </tr>\n",
              "  </thead>\n",
              "  <tbody>\n",
              "    <tr>\n",
              "      <th>en</th>\n",
              "      <td>17939</td>\n",
              "    </tr>\n",
              "    <tr>\n",
              "      <th>fr</th>\n",
              "      <td>2101</td>\n",
              "    </tr>\n",
              "    <tr>\n",
              "      <th>es</th>\n",
              "      <td>1001</td>\n",
              "    </tr>\n",
              "    <tr>\n",
              "      <th>pt</th>\n",
              "      <td>605</td>\n",
              "    </tr>\n",
              "    <tr>\n",
              "      <th>it</th>\n",
              "      <td>375</td>\n",
              "    </tr>\n",
              "    <tr>\n",
              "      <th>id</th>\n",
              "      <td>309</td>\n",
              "    </tr>\n",
              "    <tr>\n",
              "      <th>no</th>\n",
              "      <td>161</td>\n",
              "    </tr>\n",
              "    <tr>\n",
              "      <th>ca</th>\n",
              "      <td>153</td>\n",
              "    </tr>\n",
              "    <tr>\n",
              "      <th>lt</th>\n",
              "      <td>146</td>\n",
              "    </tr>\n",
              "    <tr>\n",
              "      <th>tr</th>\n",
              "      <td>127</td>\n",
              "    </tr>\n",
              "    <tr>\n",
              "      <th>et</th>\n",
              "      <td>65</td>\n",
              "    </tr>\n",
              "    <tr>\n",
              "      <th>sv</th>\n",
              "      <td>57</td>\n",
              "    </tr>\n",
              "    <tr>\n",
              "      <th>cy</th>\n",
              "      <td>52</td>\n",
              "    </tr>\n",
              "    <tr>\n",
              "      <th>nl</th>\n",
              "      <td>50</td>\n",
              "    </tr>\n",
              "    <tr>\n",
              "      <th>tl</th>\n",
              "      <td>49</td>\n",
              "    </tr>\n",
              "    <tr>\n",
              "      <th>so</th>\n",
              "      <td>45</td>\n",
              "    </tr>\n",
              "    <tr>\n",
              "      <th>unknown</th>\n",
              "      <td>27</td>\n",
              "    </tr>\n",
              "    <tr>\n",
              "      <th>sq</th>\n",
              "      <td>22</td>\n",
              "    </tr>\n",
              "    <tr>\n",
              "      <th>ro</th>\n",
              "      <td>20</td>\n",
              "    </tr>\n",
              "    <tr>\n",
              "      <th>vi</th>\n",
              "      <td>19</td>\n",
              "    </tr>\n",
              "    <tr>\n",
              "      <th>fi</th>\n",
              "      <td>15</td>\n",
              "    </tr>\n",
              "    <tr>\n",
              "      <th>sl</th>\n",
              "      <td>11</td>\n",
              "    </tr>\n",
              "    <tr>\n",
              "      <th>de</th>\n",
              "      <td>9</td>\n",
              "    </tr>\n",
              "    <tr>\n",
              "      <th>pl</th>\n",
              "      <td>8</td>\n",
              "    </tr>\n",
              "    <tr>\n",
              "      <th>da</th>\n",
              "      <td>8</td>\n",
              "    </tr>\n",
              "    <tr>\n",
              "      <th>lv</th>\n",
              "      <td>5</td>\n",
              "    </tr>\n",
              "    <tr>\n",
              "      <th>hu</th>\n",
              "      <td>3</td>\n",
              "    </tr>\n",
              "    <tr>\n",
              "      <th>sk</th>\n",
              "      <td>2</td>\n",
              "    </tr>\n",
              "    <tr>\n",
              "      <th>af</th>\n",
              "      <td>1</td>\n",
              "    </tr>\n",
              "    <tr>\n",
              "      <th>sw</th>\n",
              "      <td>1</td>\n",
              "    </tr>\n",
              "    <tr>\n",
              "      <th>hr</th>\n",
              "      <td>1</td>\n",
              "    </tr>\n",
              "  </tbody>\n",
              "</table>\n",
              "</div><br><label><b>dtype:</b> int64</label>"
            ]
          },
          "metadata": {},
          "execution_count": 15
        }
      ],
      "source": [
        "# Detecting the language of each tweet in the DataFrame\n",
        "def detect_language(text):\n",
        "    try:\n",
        "        return detect(text)\n",
        "    except:\n",
        "        return 'unknown'\n",
        "\n",
        "# Apply the language detection function to the dataframe\n",
        "df['language'] = df['Clean_Tweets'].apply(detect_language)\n",
        "df['language'].value_counts()"
      ]
    },
    {
      "cell_type": "markdown",
      "id": "gCaLKCIVKyqR",
      "metadata": {
        "id": "gCaLKCIVKyqR"
      },
      "source": [
        "#### Safe Translation of Non-English Tweets to English Using Google Translate"
      ]
    },
    {
      "cell_type": "markdown",
      "id": "YGp0YC3VMKhW",
      "metadata": {
        "id": "YGp0YC3VMKhW"
      },
      "source": [
        "This process ensures that all tweets are in English for consistent analysis, while maintaining the original text for tweets already in English or those with invalid language codes."
      ]
    },
    {
      "cell_type": "markdown",
      "id": "NKpL7B5nUO6h",
      "metadata": {
        "id": "NKpL7B5nUO6h"
      },
      "source": [
        "### Vectorization"
      ]
    },
    {
      "cell_type": "markdown",
      "id": "gCK_737hT5xR",
      "metadata": {
        "id": "gCK_737hT5xR"
      },
      "source": [
        "Vectorization: Used TF-IDF to transform text data into numerical vectors.\n"
      ]
    },
    {
      "cell_type": "code",
      "execution_count": null,
      "id": "eXI8zyjg79X1",
      "metadata": {
        "id": "eXI8zyjg79X1",
        "scrolled": true
      },
      "outputs": [],
      "source": [
        "# Transforming the text data into vectors\n",
        "\n",
        "# Instantiate the Tfidf Vectorizer\n",
        "vectorizer = TfidfVectorizer()\n",
        "X_vectorized = vectorizer.fit_transform(X)\n",
        "\n"
      ]
    },
    {
      "cell_type": "markdown",
      "id": "olPLfArMUzu-",
      "metadata": {
        "id": "olPLfArMUzu-"
      },
      "source": [
        "### Train-Test-Split"
      ]
    },
    {
      "cell_type": "code",
      "execution_count": null,
      "id": "aJRrmxlhUvYY",
      "metadata": {
        "id": "aJRrmxlhUvYY"
      },
      "outputs": [],
      "source": [
        "# Splitting the data into training and testing sets\n",
        "X_train, X_test, y_train, y_test = train_test_split(X_vectorized, y, test_size=0.2, random_state=42)"
      ]
    },
    {
      "cell_type": "markdown",
      "id": "i5miT7e2VoIb",
      "metadata": {
        "id": "i5miT7e2VoIb"
      },
      "source": [
        "### SMOTE"
      ]
    },
    {
      "cell_type": "markdown",
      "id": "THI7n48eWO81",
      "metadata": {
        "id": "THI7n48eWO81"
      },
      "source": [
        "The application of SMOTE helps improve the performance of machine learning models by addressing class imbalance and ensuring that the model has sufficient examples of each class for training."
      ]
    },
    {
      "cell_type": "code",
      "execution_count": null,
      "id": "EF_POqqtVlBC",
      "metadata": {
        "id": "EF_POqqtVlBC"
      },
      "outputs": [],
      "source": [
        "# Applying SMOTE to address class imbalance\n",
        "smote = SMOTE(random_state=42)\n",
        "X_sm, y_sm = smote.fit_resample(X_train, y_train)"
      ]
    },
    {
      "cell_type": "code",
      "execution_count": null,
      "id": "aFcPPsps79X2",
      "metadata": {
        "colab": {
          "base_uri": "https://localhost:8080/",
          "height": 536
        },
        "id": "aFcPPsps79X2",
        "outputId": "362896a5-d1d3-4227-b1fd-4088eb0f558d"
      },
      "outputs": [
        {
          "output_type": "display_data",
          "data": {
            "text/plain": [
              "<Figure size 800x500 with 1 Axes>"
            ],
            "image/png": "[encoded data removed]"
          },
          "metadata": {}
        }
      ],
      "source": [
        "# Visualizing class distribution after SMOTE\n",
        "fig, ax = plt.subplots(figsize=(8, 5))\n",
        "\n",
        "# Using inferno colormap\n",
        "colors = sns.color_palette(\"Blues\", len(y_sm.value_counts()))\n",
        "\n",
        "# Plotting the bar chart with the inferno colormap\n",
        "y_sm.value_counts().plot(kind='bar', color=colors, ax=ax)\n",
        "\n",
        "ax.set_title('Class Distribution After SMOTE')\n",
        "ax.set_xlabel('Sentiment')\n",
        "ax.set_ylabel('Frequency')\n",
        "plt.show()"
      ]
    },
    {
      "cell_type": "markdown",
      "id": "KbMhx2AJWVnA",
      "metadata": {
        "id": "KbMhx2AJWVnA"
      },
      "source": [
        "The problem of Class Imbalance has now been saved"
      ]
    },
    {
      "cell_type": "markdown",
      "id": "O-s1c0G979X2",
      "metadata": {
        "id": "O-s1c0G979X2"
      },
      "source": [
        "### Machine Learning Pipelines for Sentiment Analysis\n",
        "we train and evaluate several machine learning models for sentiment analysis using a pipeline approach. The models included are:\n",
        "1. Logistic Regression\n",
        "2.  Support Vector Machine\n",
        "3.  Random Forest\n",
        "4.  Naive Bayes\n",
        "5. Xgboost Model\n",
        "6. The Vader Model\n",
        "\n",
        "Each model is evaluated based on its accuracy and other performance metrics, and the best-performing model is saved for future use.\n",
        "\n"
      ]
    },
    {
      "cell_type": "markdown",
      "id": "FVtv_odyYAmZ",
      "metadata": {
        "id": "FVtv_odyYAmZ"
      },
      "source": [
        "\n",
        "#### Pipeline Definitions\n",
        "\n",
        "   >Define Pipelines for the following models:\n",
        " - LogisticRegression.\n",
        " - SVC\n",
        " - RandomForestClassifier\n",
        " - MultinomialNB\n",
        "\n",
        "  >The pipelines include necessary preprocessing steps like standardization, followed by the classifier."
      ]
    },
    {
      "cell_type": "code",
      "execution_count": null,
      "id": "VZ3Dl1H026XB",
      "metadata": {
        "colab": {
          "base_uri": "https://localhost:8080/"
        },
        "id": "VZ3Dl1H026XB",
        "outputId": "7a0bda62-304b-4c99-9632-bba7771979d9"
      },
      "outputs": [
        {
          "name": "stdout",
          "output_type": "stream",
          "text": [
            "Training and evaluating baseline models...\n",
            "\n",
            "Logistic Regression pipeline classification report:\n",
            "\n",
            "              precision    recall  f1-score   support\n",
            "\n",
            "    Negative       0.98      0.91      0.94       402\n",
            "     Neutral       0.96      0.98      0.97      2343\n",
            "    Positive       0.97      0.97      0.97      2318\n",
            "\n",
            "    accuracy                           0.97      5063\n",
            "   macro avg       0.97      0.95      0.96      5063\n",
            "weighted avg       0.97      0.97      0.97      5063\n",
            "\n",
            "Confusion Matrix for Logistic Regression:\n",
            "\n",
            "[[ 365   23   14]\n",
            " [   1 2298   44]\n",
            " [   7   66 2245]]\n",
            "Logistic Regression Model Metrics:\n",
            "  Accuracy: 0.9694\n",
            "  Precision: 0.9695\n",
            "  Recall: 0.9694\n",
            "  F1 Score: 0.9693\n",
            "--------------------------------------------------\n",
            "Support Vector Machine pipeline classification report:\n",
            "\n",
            "              precision    recall  f1-score   support\n",
            "\n",
            "    Negative       0.98      0.88      0.92       402\n",
            "     Neutral       0.92      0.99      0.95      2343\n",
            "    Positive       0.99      0.93      0.96      2318\n",
            "\n",
            "    accuracy                           0.95      5063\n",
            "   macro avg       0.96      0.93      0.95      5063\n",
            "weighted avg       0.96      0.95      0.95      5063\n",
            "\n",
            "Confusion Matrix for Support Vector Machine:\n",
            "\n",
            "[[ 352   46    4]\n",
            " [   3 2320   20]\n",
            " [   5  155 2158]]\n",
            "Support Vector Machine Model Metrics:\n",
            "  Accuracy: 0.9540\n",
            "  Precision: 0.9563\n",
            "  Recall: 0.9540\n",
            "  F1 Score: 0.9539\n",
            "--------------------------------------------------\n",
            "Random Forest pipeline classification report:\n",
            "\n",
            "              precision    recall  f1-score   support\n",
            "\n",
            "    Negative       1.00      0.90      0.95       402\n",
            "     Neutral       0.95      1.00      0.97      2343\n",
            "    Positive       0.99      0.96      0.98      2318\n",
            "\n",
            "    accuracy                           0.97      5063\n",
            "   macro avg       0.98      0.95      0.97      5063\n",
            "weighted avg       0.97      0.97      0.97      5063\n",
            "\n",
            "Confusion Matrix for Random Forest:\n",
            "\n",
            "[[ 361   30   11]\n",
            " [   0 2337    6]\n",
            " [   0   87 2231]]\n",
            "Random Forest Model Metrics:\n",
            "  Accuracy: 0.9735\n",
            "  Precision: 0.9745\n",
            "  Recall: 0.9735\n",
            "  F1 Score: 0.9734\n",
            "--------------------------------------------------\n",
            "Naive Bayes pipeline classification report:\n",
            "\n",
            "              precision    recall  f1-score   support\n",
            "\n",
            "    Negative       0.78      0.92      0.84       402\n",
            "     Neutral       0.96      0.89      0.92      2343\n",
            "    Positive       0.91      0.96      0.93      2318\n",
            "\n",
            "    accuracy                           0.92      5063\n",
            "   macro avg       0.89      0.92      0.90      5063\n",
            "weighted avg       0.92      0.92      0.92      5063\n",
            "\n",
            "Confusion Matrix for Naive Bayes:\n",
            "\n",
            "[[ 369   12   21]\n",
            " [  72 2076  195]\n",
            " [  31   68 2219]]\n",
            "Naive Bayes Model Metrics:\n",
            "  Accuracy: 0.9212\n",
            "  Precision: 0.9249\n",
            "  Recall: 0.9212\n",
            "  F1 Score: 0.9216\n",
            "--------------------------------------------------\n",
            "\n",
            "The best performing model is Random Forest with an accuracy of 0.974.\n",
            "Random Forest model has been saved successfully as 'random_forest_model.pkl'.\n"
          ]
        }
      ],
      "source": [
        "# Define pipelines\n",
        "pipe_lr = Pipeline([\n",
        "    ('scl', StandardScaler(with_mean=False)),  # with_mean=False for compatibility with sparse matrices\n",
        "    ('clf', LogisticRegression(random_state=42, max_iter=1000))\n",
        "])\n",
        "pipe_svm = Pipeline([\n",
        "    ('scl', StandardScaler(with_mean=False)),\n",
        "    ('clf', SVC(random_state=42))\n",
        "])\n",
        "pipe_rf = Pipeline([\n",
        "    ('clf', RandomForestClassifier(random_state=42))\n",
        "])\n",
        "pipe_nb = Pipeline([\n",
        "    ('clf', MultinomialNB())\n",
        "])\n",
        "\n",
        "# List of pipelines for easy iteration\n",
        "pipelines = [pipe_lr, pipe_svm, pipe_rf, pipe_nb]\n",
        "pipe_dict = {0: 'Logistic Regression', 1: 'Support Vector Machine', 2: 'Random Forest', 3: 'Naive Bayes'}\n",
        "\n",
        "# Initialize variables to track the best model\n",
        "best_accuracy = 0\n",
        "best_pipeline = None\n",
        "best_model_name = \"\"\n",
        "\n",
        "print(\"Training and evaluating baseline models...\\n\")\n",
        "for idx, pipe in enumerate(pipelines):\n",
        "    # Train the model\n",
        "    pipe.fit(X_sm, y_sm)\n",
        "\n",
        "    # Predict on the test set\n",
        "    y_pred = pipe.predict(X_test)\n",
        "    # Calculate accuracy\n",
        "    accuracy = accuracy_score(y_test, y_pred)\n",
        "\n",
        "    # Calculate precision, recall, and F1 score\n",
        "    precision = precision_score(y_test, y_pred, average='weighted')\n",
        "    recall = recall_score(y_test, y_pred, average='weighted')\n",
        "    f1 = f1_score(y_test, y_pred, average='weighted')\n",
        "\n",
        "    # Print the classification report\n",
        "    print(f'{pipe_dict[idx]} pipeline classification report:\\n')\n",
        "    print(classification_report(y_test, y_pred))\n",
        "\n",
        "    # Print the confusion matrix\n",
        "    print(f'Confusion Matrix for {pipe_dict[idx]}:\\n')\n",
        "    print(confusion_matrix(y_test, y_pred))\n",
        "\n",
        "    # Print the precision, recall, F1-score, and accuracy\n",
        "    print(f'{pipe_dict[idx]} Model Metrics:')\n",
        "    print(f'  Accuracy: {accuracy:.4f}')\n",
        "    print(f'  Precision: {precision:.4f}')\n",
        "    print(f'  Recall: {recall:.4f}')\n",
        "    print(f'  F1 Score: {f1:.4f}')\n",
        "    print('-' * 50)\n",
        "\n",
        "    # Check if this model has the best accuracy\n",
        "    if accuracy > best_accuracy:\n",
        "        best_accuracy = accuracy\n",
        "        best_pipeline = pipe\n",
        "        best_model_name = pipe_dict[idx]\n",
        "\n",
        "# Print the best model details\n",
        "print(f\"\\nThe best performing model is {best_model_name} with an accuracy of {best_accuracy:.3f}.\")\n",
        "# Pickle the best model\n",
        "with open(f'{best_model_name.replace(\" \", \"_\").lower()}_model.pkl', 'wb') as model_file:\n",
        "    pickle.dump(best_pipeline, model_file)\n",
        "\n",
        "print(f\"{best_model_name} model has been saved successfully as '{best_model_name.replace(' ', '_').lower()}_model.pkl'.\")\n",
        "\n",
        "\n"
      ]
    },
    {
      "cell_type": "markdown",
      "id": "D1UW-4AgX1kR",
      "metadata": {
        "id": "D1UW-4AgX1kR"
      },
      "source": [
        "The `Random Forest model` emerged as the best performing model with an accuracy of 97.6\n",
        "%. It provided the highest balance of precision, recall, and F1 score across all sentiment classes. Consequently, the Random Forest model has been saved as `random_forest_model.pkl` for future use and deployment."
      ]
    },
    {
      "cell_type": "markdown",
      "id": "jxL5X0GJ79X4",
      "metadata": {
        "id": "jxL5X0GJ79X4"
      },
      "source": [
        "### Tuning the best model"
      ]
    },
    {
      "cell_type": "code",
      "execution_count": null,
      "id": "-gwe2nWGXlDl",
      "metadata": {
        "colab": {
          "base_uri": "https://localhost:8080/"
        },
        "id": "-gwe2nWGXlDl",
        "outputId": "928154ec-b2cf-47a9-d455-b595e3049adf"
      },
      "outputs": [
        {
          "name": "stdout",
          "output_type": "stream",
          "text": [
            "Performing hyperparameter tuning for Random Forest...\n",
            "\n",
            "Fitting 5 folds for each of 16 candidates, totalling 80 fits\n",
            "Best parameters for Random Forest: {'clf__max_depth': None, 'clf__min_samples_leaf': 2, 'clf__min_samples_split': 10, 'clf__n_estimators': 50}\n",
            "\n",
            "Random Forest tuned model classification report:\n",
            "\n",
            "              precision    recall  f1-score   support\n",
            "\n",
            "    Negative       0.99      0.88      0.93       402\n",
            "     Neutral       0.94      0.99      0.97      2343\n",
            "    Positive       0.99      0.96      0.97      2318\n",
            "\n",
            "    accuracy                           0.97      5063\n",
            "   macro avg       0.97      0.94      0.96      5063\n",
            "weighted avg       0.97      0.97      0.97      5063\n",
            "\n",
            "Confusion Matrix for Random Forest tuned model:\n",
            "\n",
            "[[ 355   33   14]\n",
            " [   4 2321   18]\n",
            " [   1  103 2214]]\n",
            "Metrics for Negative class:\n",
            "  Precision: 0.9861\n",
            "  Recall: 0.8831\n",
            "  F1 Score: 0.9318\n",
            "Metrics for Neutral class:\n",
            "  Precision: 0.9446\n",
            "  Recall: 0.9906\n",
            "  F1 Score: 0.9671\n",
            "Metrics for Positive class:\n",
            "  Precision: 0.9858\n",
            "  Recall: 0.9551\n",
            "  F1 Score: 0.9702\n",
            "Overall Accuracy: 0.9658\n",
            "Tuned Random Forest model has been saved successfully as 'random_forest_tuned_model.pkl'.\n"
          ]
        }
      ],
      "source": [
        "# Define the parameter grid for Random Forest\n",
        "param_grid_rf = {\n",
        "    'clf__n_estimators': [50, 75],         # Lower number of trees for quicker runs\n",
        "    'clf__max_depth': [None, 10],          # Either no limit or a shallow depth to reduce complexity\n",
        "    'clf__min_samples_split': [5, 10],     # Larger splits reduce the number of nodes in trees\n",
        "    'clf__min_samples_leaf': [2, 4]        # Larger leaf size reduces complexity\n",
        "}\n",
        "\n",
        "\n",
        "# Perform GridSearchCV for Random Forest\n",
        "print(\"Performing hyperparameter tuning for Random Forest...\\n\")\n",
        "grid_search_rf = GridSearchCV(estimator=best_pipeline, param_grid=param_grid_rf,\n",
        "                              cv=5, n_jobs=-1, verbose=2, scoring='accuracy')\n",
        "grid_search_rf.fit(X_sm, y_sm)\n",
        "\n",
        "# Get the best parameters and the best model\n",
        "best_params_rf = grid_search_rf.best_params_\n",
        "best_tuned_rf_model = grid_search_rf.best_estimator_\n",
        "\n",
        "# Print the best parameters\n",
        "print(f\"Best parameters for Random Forest: {best_params_rf}\\n\")\n",
        "\n",
        "# Evaluate the tuned model on the test set\n",
        "y_pred_tuned_rf = best_tuned_rf_model.predict(X_test)\n",
        "accuracy_tuned_rf = accuracy_score(y_test, y_pred_tuned_rf)\n",
        "\n",
        "# Print the classification report and confusion matrix\n",
        "print(\"Random Forest tuned model classification report:\\n\")\n",
        "print(classification_report(y_test, y_pred_tuned_rf, target_names=['Negative', 'Neutral', 'Positive']))\n",
        "print(f\"Confusion Matrix for Random Forest tuned model:\\n\")\n",
        "print(confusion_matrix(y_test, y_pred_tuned_rf))\n",
        "\n",
        "# Print accuracy, precision, recall, and F1-score\n",
        "report_dict_rf = classification_report(y_test, y_pred_tuned_rf, output_dict=True, target_names=['Negative', 'Neutral', 'Positive'])\n",
        "\n",
        "for label in ['Negative', 'Neutral', 'Positive']:\n",
        "    print(f\"Metrics for {label} class:\")\n",
        "    print(f\"  Precision: {report_dict_rf[label]['precision']:.4f}\")\n",
        "    print(f\"  Recall: {report_dict_rf[label]['recall']:.4f}\")\n",
        "    print(f\"  F1 Score: {report_dict_rf[label]['f1-score']:.4f}\")\n",
        "\n",
        "print(f\"Overall Accuracy: {accuracy_tuned_rf:.4f}\")\n",
        "\n",
        "# Pickle the tuned model\n",
        "tuned_rf_model_filename = 'random_forest_tuned_model.pkl'\n",
        "with open(tuned_rf_model_filename, 'wb') as model_file:\n",
        "    pickle.dump(best_tuned_rf_model, model_file)\n",
        "\n",
        "print(f\"Tuned Random Forest model has been saved successfully as '{tuned_rf_model_filename}'.\")"
      ]
    },
    {
      "cell_type": "markdown",
      "id": "HwgBBos9hqiP",
      "metadata": {
        "id": "HwgBBos9hqiP"
      },
      "source": [
        "After Tuning the random forest model the accuracy has reduced to 96.6%"
      ]
    },
    {
      "cell_type": "markdown",
      "source": [
        "### *Save the vectorizer for deployment*\n"
      ],
      "metadata": {
        "id": "trMii88JD7wV"
      },
      "id": "trMii88JD7wV"
    },
    {
      "cell_type": "code",
      "source": [
        "# Save the vectorizer\n",
        "vectorizer_filename = 'tfidf_vectorizer.pkl'\n",
        "with open(vectorizer_filename, 'wb') as vec_file:\n",
        "    pickle.dump(vectorizer, vec_file)\n",
        "\n",
        "print(f\"TF-IDF vectorizer has been saved successfully as '{vectorizer_filename}'.\")"
      ],
      "metadata": {
        "id": "r1KxWzxaD60j"
      },
      "id": "r1KxWzxaD60j",
      "execution_count": null,
      "outputs": []
    },
    {
      "cell_type": "markdown",
      "id": "iO8pLt1JfB9D",
      "metadata": {
        "id": "iO8pLt1JfB9D"
      },
      "source": [
        "***Testing The Tuned Random Forest Model***"
      ]
    },
    {
      "cell_type": "code",
      "execution_count": null,
      "id": "gkBpHRm6fYmi",
      "metadata": {
        "colab": {
          "base_uri": "https://localhost:8080/"
        },
        "id": "gkBpHRm6fYmi",
        "outputId": "85d1d0f3-7b3f-4783-9888-81d0f0540948"
      },
      "outputs": [
        {
          "name": "stdout",
          "output_type": "stream",
          "text": [
            "Enter a tweet to analyze sentiment: The 2024 olympics was terrible\n",
            "The sentiment of the tweet is: Neutral\n"
          ]
        }
      ],
      "source": [
        "# Load the pickled vectorizer\n",
        "with open('tfidf_vectorizer.pkl', 'rb') as vec_file:\n",
        "    loaded_vectorizer = pickle.load(vec_file)\n",
        "\n",
        "# Load the pickled model (assuming it's a RandomForest model)\n",
        "with open('random_forest_tuned_model.pkl', 'rb') as model_file:\n",
        "    loaded_model = pickle.load(model_file)\n",
        "\n",
        "def predict_sentiment(text):\n",
        "    # Preprocess the text using the loaded vectorizer\n",
        "    text_transformed = loaded_vectorizer.transform([text])\n",
        "\n",
        "    # Predict the sentiment using the loaded model\n",
        "    sentiment_predicted = loaded_model.predict(text_transformed)\n",
        "\n",
        "    # Return the predicted sentiment label directly\n",
        "    return sentiment_predicted[0]\n",
        "\n",
        "# Prompting user for a tweet\n",
        "tweet = input(\"Enter a tweet to analyze sentiment: \")\n",
        "\n",
        "# Getting and printing the predicted sentiment\n",
        "predicted_sentiment = predict_sentiment(tweet)\n",
        "print(f\"The sentiment of the tweet is: {predicted_sentiment}\")"
      ]
    },
    {
      "cell_type": "markdown",
      "id": "Wa5LHT1xgFaE",
      "metadata": {
        "id": "Wa5LHT1xgFaE"
      },
      "source": [
        "### Xgboost Model"
      ]
    },
    {
      "cell_type": "code",
      "execution_count": null,
      "id": "Sag7BVFrfJiW",
      "metadata": {
        "colab": {
          "base_uri": "https://localhost:8080/"
        },
        "id": "Sag7BVFrfJiW",
        "outputId": "8e0c11d1-95dd-46b2-83bf-f2920eb51e28"
      },
      "outputs": [
        {
          "name": "stdout",
          "output_type": "stream",
          "text": [
            "Performing hyperparameter tuning for XGBoost...\n",
            "\n",
            "Fitting 5 folds for each of 4 candidates, totalling 20 fits\n",
            "Best parameters for XGBoost: {'clf__subsample': 0.8, 'clf__n_estimators': 50, 'clf__max_depth': 5, 'clf__learning_rate': 0.1, 'clf__colsample_bytree': 0.8}\n",
            "\n",
            "XGBoost tuned model classification report:\n",
            "\n",
            "              precision    recall  f1-score   support\n",
            "\n",
            "    Negative       0.52      0.81      0.64       402\n",
            "     Neutral       0.79      0.95      0.87      2343\n",
            "    Positive       0.99      0.69      0.81      2318\n",
            "\n",
            "    accuracy                           0.82      5063\n",
            "   macro avg       0.77      0.82      0.77      5063\n",
            "weighted avg       0.86      0.82      0.82      5063\n",
            "\n",
            "Confusion Matrix for XGBoost tuned model:\n",
            "\n",
            "[[ 327   70    5]\n",
            " [  94 2231   18]\n",
            " [ 202  512 1604]]\n",
            "Metrics for Negative class:\n",
            "  Precision: 0.5249\n",
            "  Recall: 0.8134\n",
            "  F1 Score: 0.6380\n",
            "Metrics for Neutral class:\n",
            "  Precision: 0.7931\n",
            "  Recall: 0.9522\n",
            "  F1 Score: 0.8654\n",
            "Metrics for Positive class:\n",
            "  Precision: 0.9859\n",
            "  Recall: 0.6920\n",
            "  F1 Score: 0.8132\n",
            "Overall Accuracy: 0.8220\n"
          ]
        }
      ],
      "source": [
        "# Define the XGBoost model pipeline\n",
        "pipe_xgb = Pipeline([\n",
        "    ('clf', XGBClassifier(random_state=42, use_label_encoder=False, eval_metric='mlogloss'))\n",
        "])\n",
        "\n",
        "# Define the parameter distribution for RandomizedSearchCV\n",
        "param_distributions_xgb = {\n",
        "    'clf__n_estimators': [20, 50],             # Reduced further to 20 and 50 estimators\n",
        "    'clf__max_depth': [3, 5],                  # Keeping depth options simple\n",
        "    'clf__learning_rate': [0.1],               # Single learning rate\n",
        "    'clf__subsample': [0.8],                   # Single value for subsample\n",
        "    'clf__colsample_bytree': [0.8]             # Single value for colsample_bytree\n",
        "}\n",
        "\n",
        "# Encode the target variable\n",
        "le = LabelEncoder()\n",
        "y_sm_encoded = le.fit_transform(y_sm)  # Transform y_sm to numerical labels\n",
        "\n",
        "# Perform RandomizedSearchCV for XGBoost with fewer iterations for efficiency\n",
        "print(\"Performing hyperparameter tuning for XGBoost...\\n\")\n",
        "random_search_xgb = RandomizedSearchCV(\n",
        "    estimator=pipe_xgb,\n",
        "    param_distributions=param_distributions_xgb,\n",
        "    n_iter=20,  # Number of parameter settings to try (adjust as needed)\n",
        "    cv=5,       # Number of cross-validation folds\n",
        "    n_jobs=-1,  # Use all available cores\n",
        "    verbose=2,  # Verbosity level\n",
        "    scoring='accuracy',\n",
        "    random_state=42\n",
        ")\n",
        "random_search_xgb.fit(X_sm, y_sm_encoded)  # Use the encoded target variable for training\n",
        "\n",
        "# Get the best parameters and the best model\n",
        "best_params_xgb = random_search_xgb.best_params_\n",
        "best_xgb_model = random_search_xgb.best_estimator_\n",
        "\n",
        "# Print the best parameters for XGBoost\n",
        "print(f\"Best parameters for XGBoost: {best_params_xgb}\\n\")\n",
        "\n",
        "# Encode y_test for evaluation\n",
        "y_test_encoded = le.transform(y_test)  # Transform y_test to numerical labels\n",
        "\n",
        "# Evaluate the tuned XGBoost model on the test set\n",
        "y_pred_xgb = best_xgb_model.predict(X_test)\n",
        "accuracy_xgb = accuracy_score(y_test_encoded, y_pred_xgb)  # Use encoded y_test\n",
        "\n",
        "# Print the classification report and confusion matrix for XGBoost\n",
        "print(\"XGBoost tuned model classification report:\\n\")\n",
        "print(classification_report(y_test_encoded, y_pred_xgb, target_names=['Negative', 'Neutral', 'Positive']))  # Use encoded y_test\n",
        "print(\"Confusion Matrix for XGBoost tuned model:\\n\")\n",
        "print(confusion_matrix(y_test_encoded, y_pred_xgb))  # Use encoded y_test\n",
        "\n",
        "# Print accuracy, precision, recall, and F1-score for each sentiment class (0: Negative, 1: Neutral, 2: Positive)\n",
        "report_dict_xgb = classification_report(y_test_encoded, y_pred_xgb, output_dict=True, target_names=['Negative', 'Neutral', 'Positive'])  # Use encoded y_test\n",
        "\n",
        "for label in ['Negative', 'Neutral', 'Positive']:\n",
        "    print(f\"Metrics for {label} class:\")\n",
        "    print(f\"  Precision: {report_dict_xgb[label]['precision']:.4f}\")\n",
        "    print(f\"  Recall: {report_dict_xgb[label]['recall']:.4f}\")\n",
        "    print(f\"  F1 Score: {report_dict_xgb[label]['f1-score']:.4f}\")\n",
        "\n",
        "print(f\"Overall Accuracy: {accuracy_xgb:.4f}\")\n",
        "\n",
        "# Pickle the tuned XGBoost model\n",
        "xgb_model_filename = 'xgboost_tuned_model.pkl'\n",
        "with open(xgb_model_filename, 'wb') as model_file:\n",
        "    pickle.dump(best_xgb_model, model_file)\n"
      ]
    },
    {
      "cell_type": "markdown",
      "source": [
        "***Testing The Xgboost Model***"
      ],
      "metadata": {
        "id": "GGrOJdnADVO-"
      },
      "id": "GGrOJdnADVO-"
    },
    {
      "cell_type": "code",
      "execution_count": null,
      "id": "Ajj8UhvGgKJS",
      "metadata": {
        "colab": {
          "base_uri": "https://localhost:8080/"
        },
        "id": "Ajj8UhvGgKJS",
        "outputId": "0ae07712-be4a-4dca-9e98-ceb30c663051"
      },
      "outputs": [
        {
          "name": "stdout",
          "output_type": "stream",
          "text": [
            "Enter a tweet to analyze sentiment: The 2024 olympics was terrible\n",
            "The sentiment of the tweet is: 1\n"
          ]
        }
      ],
      "source": [
        "# Load the pickled vectorizer\n",
        "with open('tfidf_vectorizer.pkl', 'rb') as vec_file:\n",
        "    loaded_vectorizer = pickle.load(vec_file)\n",
        "\n",
        "# Load the pickled model (assuming it's a RandomForest model)\n",
        "with open('xgboost_tuned_model.pkl', 'rb') as model_file:\n",
        "    loaded_model = pickle.load(model_file)\n",
        "\n",
        "def predict_sentiment(text):\n",
        "    # Preprocess the text using the loaded vectorizer\n",
        "    text_transformed = loaded_vectorizer.transform([text])\n",
        "\n",
        "    # Predict the sentiment using the loaded model\n",
        "    sentiment_predicted = loaded_model.predict(text_transformed)\n",
        "\n",
        "    # Return the predicted sentiment label directly\n",
        "    return sentiment_predicted[0]\n",
        "\n",
        "# Prompting user for a tweet\n",
        "tweet = input(\"Enter a tweet to analyze sentiment: \")\n",
        "\n",
        "# Getting and printing the predicted sentiment\n",
        "predicted_sentiment = predict_sentiment(tweet)\n",
        "print(f\"The sentiment of the tweet is: {predicted_sentiment}\")"
      ]
    },
    {
      "cell_type": "markdown",
      "id": "QXWaRm3P79X5",
      "metadata": {
        "id": "QXWaRm3P79X5"
      },
      "source": [
        "The xgboost model has learned so well on the neutral class more than the other classes that's why it classifies our sentiment as Neutral instead of a negative sentiment"
      ]
    },
    {
      "cell_type": "markdown",
      "id": "vR3cDdZU79X6",
      "metadata": {
        "id": "vR3cDdZU79X6"
      },
      "source": [
        "***Xgboost Model testing***"
      ]
    },
    {
      "cell_type": "code",
      "execution_count": null,
      "id": "xQYXX6Dk79X7",
      "metadata": {
        "id": "xQYXX6Dk79X7"
      },
      "outputs": [],
      "source": [
        "# Load the pickled vectorizer\n",
        "with open('tfidf_vectorizer.pkl', 'rb') as vec_file:\n",
        "    loaded_vectorizer = pickle.load(vec_file)\n",
        "\n",
        "# Load the pickled model (assuming it's a RandomForest model)\n",
        "with open('random_forest_model.pkl', 'rb') as model_file:\n",
        "    loaded_model = pickle.load(model_file)\n",
        "\n",
        "def predict_sentiment(text):\n",
        "    # Preprocess the text using the loaded vectorizer\n",
        "    text_transformed = loaded_vectorizer.transform([text])\n",
        "\n",
        "    # Predict the sentiment using the loaded model\n",
        "    sentiment_predicted = loaded_model.predict(text_transformed)\n",
        "\n",
        "    # Return the predicted sentiment label directly\n",
        "    return sentiment_predicted[0]\n",
        "\n",
        "# Prompting user for a tweet\n",
        "tweet = input(\"Enter a tweet to analyze sentiment: \")\n",
        "\n",
        "# Getting and printing the predicted sentiment\n",
        "predicted_sentiment = predict_sentiment(tweet)\n",
        "print(f\"The sentiment of the tweet is: {predicted_sentiment}\")"
      ]
    },
    {
      "cell_type": "markdown",
      "id": "CUaqGtG879X7",
      "metadata": {
        "id": "CUaqGtG879X7"
      },
      "source": [
        "### Pre-trained models"
      ]
    },
    {
      "cell_type": "markdown",
      "id": "1ge7V_Hx79X8",
      "metadata": {
        "id": "1ge7V_Hx79X8"
      },
      "source": [
        "- Vader Model\n",
        "- Distilbert Model"
      ]
    },
    {
      "cell_type": "markdown",
      "id": "BVoMYfWn79X8",
      "metadata": {
        "id": "BVoMYfWn79X8"
      },
      "source": [
        "#### Vader Model"
      ]
    },
    {
      "cell_type": "code",
      "execution_count": null,
      "id": "pS0wsJCa79X8",
      "metadata": {
        "colab": {
          "base_uri": "https://localhost:8080/"
        },
        "id": "pS0wsJCa79X8",
        "outputId": "898aa743-19c0-4259-fd45-b44759a65177"
      },
      "outputs": [
        {
          "name": "stdout",
          "output_type": "stream",
          "text": [
            "VADER model has been saved successfully as 'vader_model.pkl'.\n"
          ]
        }
      ],
      "source": [
        "# VADER SentimentIntensityAnalyzer\n",
        "\n",
        "# Initialize the VADER SentimentIntensityAnalyzer\n",
        "vader_analyzer = SentimentIntensityAnalyzer()\n",
        "\n",
        "# Pickle the VADER model\n",
        "vader_model_filename = 'vader_model.pkl'\n",
        "with open(vader_model_filename, 'wb') as model_file:\n",
        "    pickle.dump(vader_analyzer, model_file)\n",
        "\n",
        "print(f\"VADER model has been saved successfully as '{vader_model_filename}'.\")"
      ]
    },
    {
      "cell_type": "code",
      "execution_count": null,
      "id": "KoI2BdaGiMBW",
      "metadata": {
        "colab": {
          "base_uri": "https://localhost:8080/"
        },
        "id": "KoI2BdaGiMBW",
        "outputId": "e9a8d854-02d8-4e78-a92f-8053dc935e20"
      },
      "outputs": [
        {
          "name": "stdout",
          "output_type": "stream",
          "text": [
            "Unique classes in true sentiment: ['Neutral' 'Positive' 'Negative']\n",
            "Unique classes in predicted sentiment: ['Neutral' 'Positive' 'Negative']\n",
            "Accuracy: 0.95\n",
            "Classification Report:\n",
            "              precision    recall  f1-score   support\n",
            "\n",
            "     Neutral       0.97      0.94      0.96     11684\n",
            "    Positive       0.96      0.97      0.97     11591\n",
            "    Negative       0.76      0.89      0.82      2039\n",
            "\n",
            "    accuracy                           0.95     25314\n",
            "   macro avg       0.90      0.93      0.91     25314\n",
            "weighted avg       0.95      0.95      0.95     25314\n",
            "\n",
            "Overall Precision: 0.9520\n",
            "Overall Recall: 0.9492\n",
            "Overall F1 Score: 0.9501\n",
            "Overall Accuracy: 0.9492\n"
          ]
        }
      ],
      "source": [
        "# Load the pickled VADER model\n",
        "with open('vader_model.pkl', 'rb') as vader_file:\n",
        "    loaded_vader = pickle.load(vader_file)\n",
        "\n",
        "# Load the pickled vectorizer\n",
        "with open('tfidf_vectorizer.pkl', 'rb') as vec_file:\n",
        "    loaded_vectorizer = pickle.load(vec_file)\n",
        "\n",
        "def predict_sentiment_vader(text):\n",
        "    # Use the VADER model to predict the sentiment\n",
        "    vader_scores = loaded_vader.polarity_scores(text)\n",
        "\n",
        "    # Determine sentiment based on VADER compound score\n",
        "    compound_score = vader_scores['compound']\n",
        "    if compound_score >= 0.05:\n",
        "        sentiment = 'Positive'\n",
        "    elif compound_score <= -0.05:\n",
        "        sentiment = 'Negative'\n",
        "    else:\n",
        "        sentiment = 'Neutral'\n",
        "\n",
        "    # Return the predicted sentiment label\n",
        "    return sentiment\n",
        "\n",
        "# Generate predictions for the dataset\n",
        "df['Predicted_Sentiment'] = df['Tweet_Content'].apply(predict_sentiment_vader)\n",
        "\n",
        "# Check unique classes in the actual and predicted sentiment columns\n",
        "true_classes = df['Sentiment'].unique()\n",
        "predicted_classes = df['Predicted_Sentiment'].unique()\n",
        "\n",
        "print(f\"Unique classes in true sentiment: {true_classes}\")\n",
        "print(f\"Unique classes in predicted sentiment: {predicted_classes}\")\n",
        "\n",
        "# Calculate accuracy by comparing the true sentiment labels with the predicted labels\n",
        "accuracy = accuracy_score(df['Sentiment'], df['Predicted_Sentiment'])\n",
        "print(f\"Accuracy: {accuracy:.2f}\")\n",
        "\n",
        "# Generate and print the classification report\n",
        "report = classification_report(df['Sentiment'], df['Predicted_Sentiment'], labels=true_classes, target_names=true_classes)\n",
        "print(\"Classification Report:\")\n",
        "print(report)\n",
        "\n",
        "# Extract precision, recall, F1 score from the classification report\n",
        "report_dict = classification_report(df['Sentiment'], df['Predicted_Sentiment'], output_dict=True, labels=true_classes, target_names=true_classes)\n",
        "\n",
        "# Calculate overall precision, recall, and F1 score\n",
        "overall_precision, overall_recall, overall_f1, _ = precision_recall_fscore_support(df['Sentiment'], df['Predicted_Sentiment'], average='weighted')\n",
        "\n",
        "print(f\"Overall Precision: {overall_precision:.4f}\")\n",
        "print(f\"Overall Recall: {overall_recall:.4f}\")\n",
        "print(f\"Overall F1 Score: {overall_f1:.4f}\")\n",
        "\n",
        "# Print overall accuracy\n",
        "print(f\"Overall Accuracy: {accuracy:.4f}\")\n"
      ]
    },
    {
      "cell_type": "markdown",
      "source": [
        "***Testing The Vader Pretrained Model***"
      ],
      "metadata": {
        "id": "KtRqT5ewE--w"
      },
      "id": "KtRqT5ewE--w"
    },
    {
      "cell_type": "code",
      "execution_count": null,
      "id": "PgaQqWPr79YE",
      "metadata": {
        "colab": {
          "base_uri": "https://localhost:8080/"
        },
        "id": "PgaQqWPr79YE",
        "outputId": "3465296d-e147-4513-e330-e689aeed72d5"
      },
      "outputs": [
        {
          "name": "stdout",
          "output_type": "stream",
          "text": [
            "Enter a tweet to analyze sentiment: the 2024 olympics was terrible and it sucked!!\n",
            "The sentiment of the tweet is: Negative\n"
          ]
        }
      ],
      "source": [
        "# Load the pickled VADER model\n",
        "with open('vader_model.pkl', 'rb') as vader_file:\n",
        "    loaded_vader = pickle.load(vader_file)\n",
        "\n",
        "# Load the pickled vectorizer\n",
        "with open('tfidf_vectorizer.pkl', 'rb') as vec_file:\n",
        "    loaded_vectorizer = pickle.load(vec_file)\n",
        "\n",
        "def predict_sentiment_vader(text):\n",
        "    # Preprocess the text using the loaded vectorizer (if you want to combine TF-IDF with VADER)\n",
        "    text_transformed = loaded_vectorizer.transform([text])\n",
        "\n",
        "    # Use the VADER model to predict the sentiment\n",
        "    vader_scores = loaded_vader.polarity_scores(text)\n",
        "\n",
        "    # Determine sentiment based on VADER compound score\n",
        "    compound_score = vader_scores['compound']\n",
        "    if compound_score >= 0.05:\n",
        "        sentiment = 'Positive'\n",
        "    elif compound_score <= -0.05:\n",
        "        sentiment = 'Negative'\n",
        "    else:\n",
        "        sentiment = 'Neutral'\n",
        "\n",
        "    # Return the predicted sentiment label\n",
        "    return sentiment\n",
        "\n",
        "# Prompting user for a tweet\n",
        "tweet = input(\"Enter a tweet to analyze sentiment: \")\n",
        "\n",
        "# Getting and printing the predicted sentiment\n",
        "predicted_sentiment = predict_sentiment_vader(tweet)\n",
        "print(f\"The sentiment of the tweet is: {predicted_sentiment}\")"
      ]
    },
    {
      "cell_type": "markdown",
      "source": [
        "This model has been able to classify that this sentiment is negative"
      ],
      "metadata": {
        "id": "n3uf5S6gFjsj"
      },
      "id": "n3uf5S6gFjsj"
    },
    {
      "cell_type": "markdown",
      "id": "fMa2KelM79YF",
      "metadata": {
        "id": "fMa2KelM79YF"
      },
      "source": [
        "#### Distilbert Model"
      ]
    },
    {
      "cell_type": "code",
      "execution_count": null,
      "id": "_ja8Y8odk_x3",
      "metadata": {
        "colab": {
          "background_save": true,
          "base_uri": "https://localhost:8080/",
          "height": 284,
          "referenced_widgets": [
            "bd600bd9bb14455082207b42f3954b91",
            "f2a055215253483482a1bd396c18ac67",
            "aad14f9c73144572908a6426f92c75c5",
            "91c95e0b445841d7b60726278c2463d7",
            "8e1738f277cb41a38924a008740d832c",
            "f2e6af808df94f2cb375369ca6574d7c",
            "c2f06ffd1d0b4722aae4e999daf2d15f",
            "3d6217d89f1543829181fdfbe34eabde",
            "41461b48c3d44ca7a4b0d1e511f8b63b",
            "94fb05a904944ab180642669477b684f",
            "48187e923b8e4ee5ad3941ce50172c2b",
            "56746f8a4bd1468c9df40e9487c62888",
            "67c631ac1de545d0b486d1bbf586a69a",
            "9c6332c45bd54164a92b2b1d6fd9d8cb",
            "5e628d40d1dc44f0b53841a7dacf6fe4",
            "284b1adb1102406c905122945f28f542",
            "ccc1e0c5a2644b648c9864b4367f5e7c",
            "15046d48ad37464a95c35bde66d1f661",
            "1920fed8d8f344ed81020a5e85f82837",
            "87396a552c2b49eea62c9a5a7656a090",
            "4303017d1ea54f70b8f1649efb48263a",
            "e8ad9b5e2ef2412c93510faaa4bfa7c3",
            "e6ed6cf2ad2c4d64ad4ea97c97295f71",
            "c7ba4ed9a858424198cabe55685a6134",
            "55ffd0116b06477c880b7df39dab6903",
            "95a49b69fef743918a4cbfa4760dce25",
            "24d27ffe67cc4d09ac72c08d6b52ec0f",
            "125466eb1be449509c90830b6b56f6d6",
            "532ae59b8fe84a87b84f7fe5a275e0e0",
            "197a0a39c27f49b98864f9944dd4d463",
            "0efc26f7fe9a40d5ab6c4096f49f8d36",
            "3cfdebd67dea4f38902023344566d43a",
            "7543dadeb79e429f9f56e6f7652c8737",
            "dc34d95a86b34714b302c1dd7ac3fc30",
            "8411c76264784f1f834699000d998760",
            "0aa9bfc6d361472ca90eae34db0fb399",
            "abf5633ee06744029071e99b48f40cd4",
            "7be10c9217354c6cbc2b73c3a5df31ca",
            "551227c5e03f428c8e1033446707ce2c",
            "b28e58f6e40d4e5aa50073ae876ff91c",
            "16f9fbea6e634921a0d0edf0fc63aa8b",
            "240652935ff24bc38adb3679d500fa21",
            "9ea94fdc87ef433aabc1da00a4f99f3c",
            "59c278dba7714a31b9f9e416e295a62f",
            "a73c8ba3b6c94ca7b2b8c2acc786699d",
            "b6e58bb33b564f5da522d79aaeec4665",
            "534bb37dc08147e7ba9a974672a1e3a1",
            "dcc980625e384631ae104a7c01b750d3",
            "688724714eaf4074b82593090357dbf9",
            "0a4556fc63244a1fb6be688b68bd5a5b",
            "4ad3cda4090347988b115e02181aeb09",
            "a866388543d84597a7e5d0f1970cb665",
            "3f0651f68972475780fd148fe6612e82",
            "e84a68b0d1174f21b93758e70f92963b",
            "da8a6ca45b12462aaf719816f6a98dbd"
          ]
        },
        "id": "_ja8Y8odk_x3",
        "outputId": "61bcb5a8-9bc7-455a-cf2c-738d18243e42"
      },
      "outputs": [
        {
          "data": {
            "application/vnd.jupyter.widget-view+json": {
              "model_id": "bd600bd9bb14455082207b42f3954b91",
              "version_major": 2,
              "version_minor": 0
            },
            "text/plain": [
              "tokenizer_config.json:   0%|          | 0.00/48.0 [00:00<?, ?B/s]"
            ]
          },
          "metadata": {},
          "output_type": "display_data"
        },
        {
          "data": {
            "application/vnd.jupyter.widget-view+json": {
              "model_id": "56746f8a4bd1468c9df40e9487c62888",
              "version_major": 2,
              "version_minor": 0
            },
            "text/plain": [
              "vocab.txt:   0%|          | 0.00/232k [00:00<?, ?B/s]"
            ]
          },
          "metadata": {},
          "output_type": "display_data"
        },
        {
          "data": {
            "application/vnd.jupyter.widget-view+json": {
              "model_id": "e6ed6cf2ad2c4d64ad4ea97c97295f71",
              "version_major": 2,
              "version_minor": 0
            },
            "text/plain": [
              "tokenizer.json:   0%|          | 0.00/466k [00:00<?, ?B/s]"
            ]
          },
          "metadata": {},
          "output_type": "display_data"
        },
        {
          "data": {
            "application/vnd.jupyter.widget-view+json": {
              "model_id": "dc34d95a86b34714b302c1dd7ac3fc30",
              "version_major": 2,
              "version_minor": 0
            },
            "text/plain": [
              "config.json:   0%|          | 0.00/483 [00:00<?, ?B/s]"
            ]
          },
          "metadata": {},
          "output_type": "display_data"
        },
        {
          "data": {
            "application/vnd.jupyter.widget-view+json": {
              "model_id": "a73c8ba3b6c94ca7b2b8c2acc786699d",
              "version_major": 2,
              "version_minor": 0
            },
            "text/plain": [
              "model.safetensors:   0%|          | 0.00/268M [00:00<?, ?B/s]"
            ]
          },
          "metadata": {},
          "output_type": "display_data"
        },
        {
          "name": "stderr",
          "output_type": "stream",
          "text": [
            "Some weights of DistilBertForSequenceClassification were not initialized from the model checkpoint at distilbert-base-uncased and are newly initialized: ['classifier.bias', 'classifier.weight', 'pre_classifier.bias', 'pre_classifier.weight']\n",
            "You should probably TRAIN this model on a down-stream task to be able to use it for predictions and inference.\n",
            "Hardware accelerator e.g. GPU is available in the environment, but no `device` argument is passed to the `Pipeline` object. Model will be on CPU.\n"
          ]
        },
        {
          "name": "stdout",
          "output_type": "stream",
          "text": [
            "DistilBERT model, tokenizer, and pipeline have been saved successfully as 'distilbert_model.pkl', 'distilbert_tokenizer.pkl', and 'distilbert_pipeline.pkl'.\n",
            "Unique classes in true sentiment: ['Neutral' 'Positive' 'Negative']\n",
            "Unique classes in predicted sentiment: ['Positive' 'Negative' 'Neutral']\n",
            "Accuracy: 0.44\n",
            "Classification Report:\n",
            "              precision    recall  f1-score   support\n",
            "\n",
            "     Neutral       0.49      0.57      0.52     11684\n",
            "    Positive       0.50      0.39      0.44     11591\n",
            "    Negative       0.04      0.06      0.05      2039\n",
            "\n",
            "    accuracy                           0.44     25314\n",
            "   macro avg       0.35      0.34      0.34     25314\n",
            "weighted avg       0.46      0.44      0.45     25314\n",
            "\n",
            "Metrics for Neutral class:\n",
            "  Precision: 0.4870\n",
            "  Recall: 0.5676\n",
            "  F1 Score: 0.5242\n",
            "Metrics for Positive class:\n",
            "  Precision: 0.5049\n",
            "  Recall: 0.3856\n",
            "  F1 Score: 0.4372\n",
            "Metrics for Negative class:\n",
            "  Precision: 0.0436\n",
            "  Recall: 0.0608\n",
            "  F1 Score: 0.0508\n",
            "Overall Precision: 0.4594\n",
            "Overall Recall: 0.4434\n",
            "Overall F1 Score: 0.4462\n",
            "Overall Accuracy: 0.4434\n"
          ]
        }
      ],
      "source": [
        "# Load the DistilBERT tokenizer and model\n",
        "tokenizer = DistilBertTokenizer.from_pretrained('distilbert-base-uncased')\n",
        "model = DistilBertForSequenceClassification.from_pretrained('distilbert-base-uncased', num_labels=3)  # 3 labels for sentiment\n",
        "\n",
        "# Create a pipeline for sentiment analysis using the model and tokenizer\n",
        "nlp = pipeline(\"sentiment-analysis\", model=model, tokenizer=tokenizer)\n",
        "\n",
        "# Save the model, tokenizer, and pipeline as pickles\n",
        "model_filename = 'distilbert_model.pkl'\n",
        "tokenizer_filename = 'distilbert_tokenizer.pkl'\n",
        "pipeline_filename = 'distilbert_pipeline.pkl'\n",
        "\n",
        "with open(model_filename, 'wb') as model_file:\n",
        "    pickle.dump(model, model_file)\n",
        "\n",
        "with open(tokenizer_filename, 'wb') as tokenizer_file:\n",
        "    pickle.dump(tokenizer, tokenizer_file)\n",
        "\n",
        "with open(pipeline_filename, 'wb') as pipeline_file:\n",
        "    pickle.dump(nlp, pipeline_file)\n",
        "\n",
        "print(f\"DistilBERT model, tokenizer, and pipeline have been saved successfully as '{model_filename}', '{tokenizer_filename}', and '{pipeline_filename}'.\")\n",
        "\n",
        "# Load the pickled model, tokenizer, and pipeline\n",
        "with open(model_filename, 'rb') as model_file:\n",
        "    loaded_model = pickle.load(model_file)\n",
        "\n",
        "with open(tokenizer_filename, 'rb') as tokenizer_file:\n",
        "    loaded_tokenizer = pickle.load(tokenizer_file)\n",
        "\n",
        "with open(pipeline_filename, 'rb') as pipeline_file:\n",
        "    loaded_nlp = pickle.load(pipeline_file)\n",
        "\n",
        "def predict_sentiment_distilbert(text):\n",
        "    # Use the DistilBERT pipeline to predict the sentiment\n",
        "    results = loaded_nlp(text)\n",
        "    label = results[0]['label']\n",
        "\n",
        "    if label == 'LABEL_2':\n",
        "        sentiment = 'Positive'\n",
        "    elif label == 'LABEL_1':\n",
        "        sentiment = 'Neutral'\n",
        "    else:\n",
        "        sentiment = 'Negative'\n",
        "\n",
        "    return sentiment\n",
        "\n",
        "\n",
        "# Generate predictions for the dataset\n",
        "df['Predicted_Sentiment'] = df['Tweet_Content'].apply(predict_sentiment_distilbert)\n",
        "\n",
        "# Check unique classes in the actual and predicted sentiment columns\n",
        "true_classes = df['Sentiment'].unique()\n",
        "predicted_classes = df['Predicted_Sentiment'].unique()\n",
        "\n",
        "print(f\"Unique classes in true sentiment: {true_classes}\")\n",
        "print(f\"Unique classes in predicted sentiment: {predicted_classes}\")\n",
        "\n",
        "# Calculate accuracy by comparing the true sentiment labels with the predicted labels\n",
        "accuracy = accuracy_score(df['Sentiment'], df['Predicted_Sentiment'])\n",
        "print(f\"Accuracy: {accuracy:.2f}\")\n",
        "\n",
        "# Generate and print the classification report\n",
        "report = classification_report(df['Sentiment'], df['Predicted_Sentiment'], labels=true_classes, target_names=true_classes)\n",
        "print(\"Classification Report:\")\n",
        "print(report)\n",
        "\n",
        "# Extract precision, recall, F1 score from the classification report\n",
        "report_dict = classification_report(df['Sentiment'], df['Predicted_Sentiment'], output_dict=True, labels=true_classes, target_names=true_classes)\n",
        "\n",
        "# Print precision, recall, and F1 score for each class\n",
        "for label in true_classes:\n",
        "    print(f\"Metrics for {label} class:\")\n",
        "    print(f\"  Precision: {report_dict[label]['precision']:.4f}\")\n",
        "    print(f\"  Recall: {report_dict[label]['recall']:.4f}\")\n",
        "    print(f\"  F1 Score: {report_dict[label]['f1-score']:.4f}\")\n",
        "\n",
        "# Calculate overall precision, recall, and F1 score\n",
        "overall_precision, overall_recall, overall_f1, _ = precision_recall_fscore_support(df['Sentiment'], df['Predicted_Sentiment'], average='weighted')\n",
        "\n",
        "print(f\"Overall Precision: {overall_precision:.4f}\")\n",
        "print(f\"Overall Recall: {overall_recall:.4f}\")\n",
        "print(f\"Overall F1 Score: {overall_f1:.4f}\")\n",
        "\n",
        "# Print overall accuracy\n",
        "print(f\"Overall Accuracy: {accuracy:.4f}\")\n"
      ]
    },
    {
      "cell_type": "code",
      "source": [
        "# VADER SentimentIntensityAnalyzer\n",
        "\n",
        "# Initialize the VADER SentimentIntensityAnalyzer\n",
        "vader_analyzer = SentimentIntensityAnalyzer()\n",
        "\n",
        "# Pickle the VADER model\n",
        "vader_model_filename = 'vader_model.pkl'\n",
        "with open(vader_model_filename, 'wb') as model_file:\n",
        "    pickle.dump(vader_analyzer, model_file)\n",
        "\n",
        "print(f\"VADER model has been saved successfully as '{vader_model_filename}'.\")"
      ],
      "metadata": {
        "id": "kk3sOw-tu1yC"
      },
      "id": "kk3sOw-tu1yC",
      "execution_count": null,
      "outputs": []
    },
    {
      "cell_type": "markdown",
      "source": [
        "### LSTM Model"
      ],
      "metadata": {
        "id": "fh-tXrHzGet9"
      },
      "id": "fh-tXrHzGet9"
    },
    {
      "cell_type": "code",
      "source": [
        "X = df['Clean_Tweets']\n",
        "\n",
        "Y = df['Sentiment']\n",
        "X_train, X_test, y_train, y_test = train_test_split(X, Y, test_size=0.2, random_state=42)"
      ],
      "metadata": {
        "id": "Tf88NSupyia8"
      },
      "id": "Tf88NSupyia8",
      "execution_count": null,
      "outputs": []
    },
    {
      "source": [
        "!pip install keras\n",
        "!pip install tensorflow # Add this line to install TensorFlow\n",
        "from tensorflow.keras.preprocessing.text import Tokenizer # Update the import statement\n",
        "\n",
        "max_features = 20000\n",
        "tokenizer = Tokenizer(num_words=max_features, filters='!\"#$%&()*+,-./:;<=>?@[\\]^_`{|}~\\t\\n', lower=True,split=' ')\n",
        "tokenizer.fit_on_texts(list(X_train))\n",
        "list_tokenized_train = tokenizer.texts_to_sequences(X_train)\n",
        "list_tokenized_test = tokenizer.texts_to_sequences(X_test)"
      ],
      "cell_type": "code",
      "metadata": {
        "colab": {
          "base_uri": "https://localhost:8080/"
        },
        "id": "pDUu4Z-kz4lI",
        "outputId": "dcaeb2ad-d021-462a-c87d-5b1cd97c1f44"
      },
      "id": "pDUu4Z-kz4lI",
      "execution_count": null,
      "outputs": [
        {
          "output_type": "stream",
          "name": "stdout",
          "text": [
            "Requirement already satisfied: keras in /usr/local/lib/python3.10/dist-packages (3.4.1)\n",
            "Requirement already satisfied: absl-py in /usr/local/lib/python3.10/dist-packages (from keras) (1.4.0)\n",
            "Requirement already satisfied: numpy in /usr/local/lib/python3.10/dist-packages (from keras) (1.26.4)\n",
            "Requirement already satisfied: rich in /usr/local/lib/python3.10/dist-packages (from keras) (13.7.1)\n",
            "Requirement already satisfied: namex in /usr/local/lib/python3.10/dist-packages (from keras) (0.0.8)\n",
            "Requirement already satisfied: h5py in /usr/local/lib/python3.10/dist-packages (from keras) (3.11.0)\n",
            "Requirement already satisfied: optree in /usr/local/lib/python3.10/dist-packages (from keras) (0.12.1)\n",
            "Requirement already satisfied: ml-dtypes in /usr/local/lib/python3.10/dist-packages (from keras) (0.4.0)\n",
            "Requirement already satisfied: packaging in /usr/local/lib/python3.10/dist-packages (from keras) (24.1)\n",
            "Requirement already satisfied: typing-extensions>=4.5.0 in /usr/local/lib/python3.10/dist-packages (from optree->keras) (4.12.2)\n",
            "Requirement already satisfied: markdown-it-py>=2.2.0 in /usr/local/lib/python3.10/dist-packages (from rich->keras) (3.0.0)\n",
            "Requirement already satisfied: pygments<3.0.0,>=2.13.0 in /usr/local/lib/python3.10/dist-packages (from rich->keras) (2.16.1)\n",
            "Requirement already satisfied: mdurl~=0.1 in /usr/local/lib/python3.10/dist-packages (from markdown-it-py>=2.2.0->rich->keras) (0.1.2)\n",
            "Requirement already satisfied: tensorflow in /usr/local/lib/python3.10/dist-packages (2.17.0)\n",
            "Requirement already satisfied: absl-py>=1.0.0 in /usr/local/lib/python3.10/dist-packages (from tensorflow) (1.4.0)\n",
            "Requirement already satisfied: astunparse>=1.6.0 in /usr/local/lib/python3.10/dist-packages (from tensorflow) (1.6.3)\n",
            "Requirement already satisfied: flatbuffers>=24.3.25 in /usr/local/lib/python3.10/dist-packages (from tensorflow) (24.3.25)\n",
            "Requirement already satisfied: gast!=0.5.0,!=0.5.1,!=0.5.2,>=0.2.1 in /usr/local/lib/python3.10/dist-packages (from tensorflow) (0.6.0)\n",
            "Requirement already satisfied: google-pasta>=0.1.1 in /usr/local/lib/python3.10/dist-packages (from tensorflow) (0.2.0)\n",
            "Requirement already satisfied: h5py>=3.10.0 in /usr/local/lib/python3.10/dist-packages (from tensorflow) (3.11.0)\n",
            "Requirement already satisfied: libclang>=13.0.0 in /usr/local/lib/python3.10/dist-packages (from tensorflow) (18.1.1)\n",
            "Requirement already satisfied: ml-dtypes<0.5.0,>=0.3.1 in /usr/local/lib/python3.10/dist-packages (from tensorflow) (0.4.0)\n",
            "Requirement already satisfied: opt-einsum>=2.3.2 in /usr/local/lib/python3.10/dist-packages (from tensorflow) (3.3.0)\n",
            "Requirement already satisfied: packaging in /usr/local/lib/python3.10/dist-packages (from tensorflow) (24.1)\n",
            "Requirement already satisfied: protobuf!=4.21.0,!=4.21.1,!=4.21.2,!=4.21.3,!=4.21.4,!=4.21.5,<5.0.0dev,>=3.20.3 in /usr/local/lib/python3.10/dist-packages (from tensorflow) (3.20.3)\n",
            "Requirement already satisfied: requests<3,>=2.21.0 in /usr/local/lib/python3.10/dist-packages (from tensorflow) (2.32.3)\n",
            "Requirement already satisfied: setuptools in /usr/local/lib/python3.10/dist-packages (from tensorflow) (71.0.4)\n",
            "Requirement already satisfied: six>=1.12.0 in /usr/local/lib/python3.10/dist-packages (from tensorflow) (1.16.0)\n",
            "Requirement already satisfied: termcolor>=1.1.0 in /usr/local/lib/python3.10/dist-packages (from tensorflow) (2.4.0)\n",
            "Requirement already satisfied: typing-extensions>=3.6.6 in /usr/local/lib/python3.10/dist-packages (from tensorflow) (4.12.2)\n",
            "Requirement already satisfied: wrapt>=1.11.0 in /usr/local/lib/python3.10/dist-packages (from tensorflow) (1.16.0)\n",
            "Requirement already satisfied: grpcio<2.0,>=1.24.3 in /usr/local/lib/python3.10/dist-packages (from tensorflow) (1.64.1)\n",
            "Requirement already satisfied: tensorboard<2.18,>=2.17 in /usr/local/lib/python3.10/dist-packages (from tensorflow) (2.17.0)\n",
            "Requirement already satisfied: keras>=3.2.0 in /usr/local/lib/python3.10/dist-packages (from tensorflow) (3.4.1)\n",
            "Requirement already satisfied: tensorflow-io-gcs-filesystem>=0.23.1 in /usr/local/lib/python3.10/dist-packages (from tensorflow) (0.37.1)\n",
            "Requirement already satisfied: numpy<2.0.0,>=1.23.5 in /usr/local/lib/python3.10/dist-packages (from tensorflow) (1.26.4)\n",
            "Requirement already satisfied: wheel<1.0,>=0.23.0 in /usr/local/lib/python3.10/dist-packages (from astunparse>=1.6.0->tensorflow) (0.44.0)\n",
            "Requirement already satisfied: rich in /usr/local/lib/python3.10/dist-packages (from keras>=3.2.0->tensorflow) (13.7.1)\n",
            "Requirement already satisfied: namex in /usr/local/lib/python3.10/dist-packages (from keras>=3.2.0->tensorflow) (0.0.8)\n",
            "Requirement already satisfied: optree in /usr/local/lib/python3.10/dist-packages (from keras>=3.2.0->tensorflow) (0.12.1)\n",
            "Requirement already satisfied: charset-normalizer<4,>=2 in /usr/local/lib/python3.10/dist-packages (from requests<3,>=2.21.0->tensorflow) (3.3.2)\n",
            "Requirement already satisfied: idna<4,>=2.5 in /usr/local/lib/python3.10/dist-packages (from requests<3,>=2.21.0->tensorflow) (2.10)\n",
            "Requirement already satisfied: urllib3<3,>=1.21.1 in /usr/local/lib/python3.10/dist-packages (from requests<3,>=2.21.0->tensorflow) (2.0.7)\n",
            "Requirement already satisfied: certifi>=2017.4.17 in /usr/local/lib/python3.10/dist-packages (from requests<3,>=2.21.0->tensorflow) (2024.7.4)\n",
            "Requirement already satisfied: markdown>=2.6.8 in /usr/local/lib/python3.10/dist-packages (from tensorboard<2.18,>=2.17->tensorflow) (3.7)\n",
            "Requirement already satisfied: tensorboard-data-server<0.8.0,>=0.7.0 in /usr/local/lib/python3.10/dist-packages (from tensorboard<2.18,>=2.17->tensorflow) (0.7.2)\n",
            "Requirement already satisfied: werkzeug>=1.0.1 in /usr/local/lib/python3.10/dist-packages (from tensorboard<2.18,>=2.17->tensorflow) (3.0.3)\n",
            "Requirement already satisfied: MarkupSafe>=2.1.1 in /usr/local/lib/python3.10/dist-packages (from werkzeug>=1.0.1->tensorboard<2.18,>=2.17->tensorflow) (2.1.5)\n",
            "Requirement already satisfied: markdown-it-py>=2.2.0 in /usr/local/lib/python3.10/dist-packages (from rich->keras>=3.2.0->tensorflow) (3.0.0)\n",
            "Requirement already satisfied: pygments<3.0.0,>=2.13.0 in /usr/local/lib/python3.10/dist-packages (from rich->keras>=3.2.0->tensorflow) (2.16.1)\n",
            "Requirement already satisfied: mdurl~=0.1 in /usr/local/lib/python3.10/dist-packages (from markdown-it-py>=2.2.0->rich->keras>=3.2.0->tensorflow) (0.1.2)\n"
          ]
        }
      ]
    },
    {
      "cell_type": "code",
      "source": [
        "X = tokenizer.texts_to_sequences(df['Clean_Tweets'])\n",
        "X = pad_sequences(X)\n",
        "\n",
        "\n",
        "Y = pd.get_dummies(y.values)\n",
        "X_train, X_test, Y_train, Y_test = train_test_split(X,Y, test_size = 0.2, random_state = 42)\n",
        "print(X_train.shape,Y_train.shape)\n",
        "print(X_test.shape,Y_test.shape)\n",
        "print(y.values)\n",
        "print(Y_train.values)"
      ],
      "metadata": {
        "colab": {
          "base_uri": "https://localhost:8080/"
        },
        "id": "o-nQEAD-zH7x",
        "outputId": "391771b7-2857-4f41-e5c2-0e0ab2c7110f"
      },
      "id": "o-nQEAD-zH7x",
      "execution_count": null,
      "outputs": [
        {
          "output_type": "stream",
          "name": "stdout",
          "text": [
            "(18709, 41) (18709, 3)\n",
            "(4678, 41) (4678, 3)\n",
            "['Neutral' 'Neutral' 'Neutral' ... 'Neutral' 'Neutral' 'Neutral']\n",
            "[[False False  True]\n",
            " [False  True False]\n",
            " [False False  True]\n",
            " ...\n",
            " [False False  True]\n",
            " [False False  True]\n",
            " [False False  True]]\n"
          ]
        }
      ]
    },
    {
      "cell_type": "code",
      "source": [
        "\n",
        "maxlen = 100\n",
        "X_t = pad_sequences(list_tokenized_train, maxlen=maxlen)\n",
        "X_te = pad_sequences(list_tokenized_test, maxlen=maxlen)"
      ],
      "metadata": {
        "id": "LLr087Ad0Om1"
      },
      "id": "LLr087Ad0Om1",
      "execution_count": null,
      "outputs": []
    },
    {
      "cell_type": "code",
      "source": [
        "\n",
        "Y_train, Y_test = train_test_split(Y, test_size = 0.2, random_state = 42)\n",
        "print(X_train.shape,Y_train.shape)\n",
        "print(X_test.shape,Y_test.shape)\n",
        "print(y.values)"
      ],
      "metadata": {
        "colab": {
          "base_uri": "https://localhost:8080/"
        },
        "id": "0f_ZvZ670TgP",
        "outputId": "343f0c61-e9cb-41f5-bce7-9ce05acbaf2c"
      },
      "id": "0f_ZvZ670TgP",
      "execution_count": null,
      "outputs": [
        {
          "output_type": "stream",
          "name": "stdout",
          "text": [
            "(18709, 41) (18709, 3)\n",
            "(4678, 41) (4678, 3)\n",
            "['Neutral' 'Neutral' 'Neutral' ... 'Neutral' 'Neutral' 'Neutral']\n"
          ]
        }
      ]
    },
    {
      "cell_type": "code",
      "source": [
        "inp = Input(shape=(maxlen, ))\n",
        "embed_size = 128\n",
        "x = Embedding(max_features, embed_size)(inp)\n",
        "x = LSTM(200, return_sequences=True,name='lstm_layer')(x)\n",
        "x = GlobalMaxPool1D()(x)\n",
        "x = Dropout(0.1)(x)\n",
        "x = Dense(120, activation=\"relu\")(x)\n",
        "x = Dropout(0.1)(x)\n",
        "x = Dense(60, activation=\"relu\")(x)\n",
        "x = Dropout(0.1)(x)\n",
        "x = Dense(4, activation=\"softmax\")(x)\n",
        "model = Model(inputs=inp, outputs=x)\n",
        "model.compile(loss='sparse_categorical_crossentropy', optimizer='adam', metrics=['accuracy'])\n",
        "print(model.summary())"
      ],
      "metadata": {
        "colab": {
          "base_uri": "https://localhost:8080/",
          "height": 493
        },
        "id": "vjsoGsK40XIg",
        "outputId": "02d3d074-2884-4c56-8623-597fa66fc45a"
      },
      "id": "vjsoGsK40XIg",
      "execution_count": null,
      "outputs": [
        {
          "output_type": "display_data",
          "data": {
            "text/plain": [
              "\u001b[1mModel: \"functional_2\"\u001b[0m\n"
            ],
            "text/html": [
              "<pre style=\"white-space:pre;overflow-x:auto;line-height:normal;font-family:Menlo,'DejaVu Sans Mono',consolas,'Courier New',monospace\"><span style=\"font-weight: bold\">Model: \"functional_2\"</span>\n",
              "</pre>\n"
            ]
          },
          "metadata": {}
        },
        {
          "output_type": "display_data",
          "data": {
            "text/plain": [
              "┏━━━━━━━━━━━━━━━━━━━━━━━━━━━━━━━━━━━━━━┳━━━━━━━━━━━━━━━━━━━━━━━━━━━━━┳━━━━━━━━━━━━━━━━━┓\n",
              "┃\u001b[1m \u001b[0m\u001b[1mLayer (type)                        \u001b[0m\u001b[1m \u001b[0m┃\u001b[1m \u001b[0m\u001b[1mOutput Shape               \u001b[0m\u001b[1m \u001b[0m┃\u001b[1m \u001b[0m\u001b[1m        Param #\u001b[0m\u001b[1m \u001b[0m┃\n",
              "┡━━━━━━━━━━━━━━━━━━━━━━━━━━━━━━━━━━━━━━╇━━━━━━━━━━━━━━━━━━━━━━━━━━━━━╇━━━━━━━━━━━━━━━━━┩\n",
              "│ input_layer_3 (\u001b[38;5;33mInputLayer\u001b[0m)           │ (\u001b[38;5;45mNone\u001b[0m, \u001b[38;5;34m100\u001b[0m)                 │               \u001b[38;5;34m0\u001b[0m │\n",
              "├──────────────────────────────────────┼─────────────────────────────┼─────────────────┤\n",
              "│ embedding_2 (\u001b[38;5;33mEmbedding\u001b[0m)              │ (\u001b[38;5;45mNone\u001b[0m, \u001b[38;5;34m100\u001b[0m, \u001b[38;5;34m128\u001b[0m)            │       \u001b[38;5;34m2,560,000\u001b[0m │\n",
              "├──────────────────────────────────────┼─────────────────────────────┼─────────────────┤\n",
              "│ lstm_layer (\u001b[38;5;33mLSTM\u001b[0m)                    │ (\u001b[38;5;45mNone\u001b[0m, \u001b[38;5;34m100\u001b[0m, \u001b[38;5;34m200\u001b[0m)            │         \u001b[38;5;34m263,200\u001b[0m │\n",
              "├──────────────────────────────────────┼─────────────────────────────┼─────────────────┤\n",
              "│ global_max_pooling1d_2               │ (\u001b[38;5;45mNone\u001b[0m, \u001b[38;5;34m200\u001b[0m)                 │               \u001b[38;5;34m0\u001b[0m │\n",
              "│ (\u001b[38;5;33mGlobalMaxPooling1D\u001b[0m)                 │                             │                 │\n",
              "├──────────────────────────────────────┼─────────────────────────────┼─────────────────┤\n",
              "│ dropout_6 (\u001b[38;5;33mDropout\u001b[0m)                  │ (\u001b[38;5;45mNone\u001b[0m, \u001b[38;5;34m200\u001b[0m)                 │               \u001b[38;5;34m0\u001b[0m │\n",
              "├──────────────────────────────────────┼─────────────────────────────┼─────────────────┤\n",
              "│ dense_6 (\u001b[38;5;33mDense\u001b[0m)                      │ (\u001b[38;5;45mNone\u001b[0m, \u001b[38;5;34m120\u001b[0m)                 │          \u001b[38;5;34m24,120\u001b[0m │\n",
              "├──────────────────────────────────────┼─────────────────────────────┼─────────────────┤\n",
              "│ dropout_7 (\u001b[38;5;33mDropout\u001b[0m)                  │ (\u001b[38;5;45mNone\u001b[0m, \u001b[38;5;34m120\u001b[0m)                 │               \u001b[38;5;34m0\u001b[0m │\n",
              "├──────────────────────────────────────┼─────────────────────────────┼─────────────────┤\n",
              "│ dense_7 (\u001b[38;5;33mDense\u001b[0m)                      │ (\u001b[38;5;45mNone\u001b[0m, \u001b[38;5;34m60\u001b[0m)                  │           \u001b[38;5;34m7,260\u001b[0m │\n",
              "├──────────────────────────────────────┼─────────────────────────────┼─────────────────┤\n",
              "│ dropout_8 (\u001b[38;5;33mDropout\u001b[0m)                  │ (\u001b[38;5;45mNone\u001b[0m, \u001b[38;5;34m60\u001b[0m)                  │               \u001b[38;5;34m0\u001b[0m │\n",
              "├──────────────────────────────────────┼─────────────────────────────┼─────────────────┤\n",
              "│ dense_8 (\u001b[38;5;33mDense\u001b[0m)                      │ (\u001b[38;5;45mNone\u001b[0m, \u001b[38;5;34m4\u001b[0m)                   │             \u001b[38;5;34m244\u001b[0m │\n",
              "└──────────────────────────────────────┴─────────────────────────────┴─────────────────┘\n"
            ],
            "text/html": [
              "<pre style=\"white-space:pre;overflow-x:auto;line-height:normal;font-family:Menlo,'DejaVu Sans Mono',consolas,'Courier New',monospace\">┏━━━━━━━━━━━━━━━━━━━━━━━━━━━━━━━━━━━━━━┳━━━━━━━━━━━━━━━━━━━━━━━━━━━━━┳━━━━━━━━━━━━━━━━━┓\n",
              "┃<span style=\"font-weight: bold\"> Layer (type)                         </span>┃<span style=\"font-weight: bold\"> Output Shape                </span>┃<span style=\"font-weight: bold\">         Param # </span>┃\n",
              "┡━━━━━━━━━━━━━━━━━━━━━━━━━━━━━━━━━━━━━━╇━━━━━━━━━━━━━━━━━━━━━━━━━━━━━╇━━━━━━━━━━━━━━━━━┩\n",
              "│ input_layer_3 (<span style=\"color: #0087ff; text-decoration-color: #0087ff\">InputLayer</span>)           │ (<span style=\"color: #00d7ff; text-decoration-color: #00d7ff\">None</span>, <span style=\"color: #00af00; text-decoration-color: #00af00\">100</span>)                 │               <span style=\"color: #00af00; text-decoration-color: #00af00\">0</span> │\n",
              "├──────────────────────────────────────┼─────────────────────────────┼─────────────────┤\n",
              "│ embedding_2 (<span style=\"color: #0087ff; text-decoration-color: #0087ff\">Embedding</span>)              │ (<span style=\"color: #00d7ff; text-decoration-color: #00d7ff\">None</span>, <span style=\"color: #00af00; text-decoration-color: #00af00\">100</span>, <span style=\"color: #00af00; text-decoration-color: #00af00\">128</span>)            │       <span style=\"color: #00af00; text-decoration-color: #00af00\">2,560,000</span> │\n",
              "├──────────────────────────────────────┼─────────────────────────────┼─────────────────┤\n",
              "│ lstm_layer (<span style=\"color: #0087ff; text-decoration-color: #0087ff\">LSTM</span>)                    │ (<span style=\"color: #00d7ff; text-decoration-color: #00d7ff\">None</span>, <span style=\"color: #00af00; text-decoration-color: #00af00\">100</span>, <span style=\"color: #00af00; text-decoration-color: #00af00\">200</span>)            │         <span style=\"color: #00af00; text-decoration-color: #00af00\">263,200</span> │\n",
              "├──────────────────────────────────────┼─────────────────────────────┼─────────────────┤\n",
              "│ global_max_pooling1d_2               │ (<span style=\"color: #00d7ff; text-decoration-color: #00d7ff\">None</span>, <span style=\"color: #00af00; text-decoration-color: #00af00\">200</span>)                 │               <span style=\"color: #00af00; text-decoration-color: #00af00\">0</span> │\n",
              "│ (<span style=\"color: #0087ff; text-decoration-color: #0087ff\">GlobalMaxPooling1D</span>)                 │                             │                 │\n",
              "├──────────────────────────────────────┼─────────────────────────────┼─────────────────┤\n",
              "│ dropout_6 (<span style=\"color: #0087ff; text-decoration-color: #0087ff\">Dropout</span>)                  │ (<span style=\"color: #00d7ff; text-decoration-color: #00d7ff\">None</span>, <span style=\"color: #00af00; text-decoration-color: #00af00\">200</span>)                 │               <span style=\"color: #00af00; text-decoration-color: #00af00\">0</span> │\n",
              "├──────────────────────────────────────┼─────────────────────────────┼─────────────────┤\n",
              "│ dense_6 (<span style=\"color: #0087ff; text-decoration-color: #0087ff\">Dense</span>)                      │ (<span style=\"color: #00d7ff; text-decoration-color: #00d7ff\">None</span>, <span style=\"color: #00af00; text-decoration-color: #00af00\">120</span>)                 │          <span style=\"color: #00af00; text-decoration-color: #00af00\">24,120</span> │\n",
              "├──────────────────────────────────────┼─────────────────────────────┼─────────────────┤\n",
              "│ dropout_7 (<span style=\"color: #0087ff; text-decoration-color: #0087ff\">Dropout</span>)                  │ (<span style=\"color: #00d7ff; text-decoration-color: #00d7ff\">None</span>, <span style=\"color: #00af00; text-decoration-color: #00af00\">120</span>)                 │               <span style=\"color: #00af00; text-decoration-color: #00af00\">0</span> │\n",
              "├──────────────────────────────────────┼─────────────────────────────┼─────────────────┤\n",
              "│ dense_7 (<span style=\"color: #0087ff; text-decoration-color: #0087ff\">Dense</span>)                      │ (<span style=\"color: #00d7ff; text-decoration-color: #00d7ff\">None</span>, <span style=\"color: #00af00; text-decoration-color: #00af00\">60</span>)                  │           <span style=\"color: #00af00; text-decoration-color: #00af00\">7,260</span> │\n",
              "├──────────────────────────────────────┼─────────────────────────────┼─────────────────┤\n",
              "│ dropout_8 (<span style=\"color: #0087ff; text-decoration-color: #0087ff\">Dropout</span>)                  │ (<span style=\"color: #00d7ff; text-decoration-color: #00d7ff\">None</span>, <span style=\"color: #00af00; text-decoration-color: #00af00\">60</span>)                  │               <span style=\"color: #00af00; text-decoration-color: #00af00\">0</span> │\n",
              "├──────────────────────────────────────┼─────────────────────────────┼─────────────────┤\n",
              "│ dense_8 (<span style=\"color: #0087ff; text-decoration-color: #0087ff\">Dense</span>)                      │ (<span style=\"color: #00d7ff; text-decoration-color: #00d7ff\">None</span>, <span style=\"color: #00af00; text-decoration-color: #00af00\">4</span>)                   │             <span style=\"color: #00af00; text-decoration-color: #00af00\">244</span> │\n",
              "└──────────────────────────────────────┴─────────────────────────────┴─────────────────┘\n",
              "</pre>\n"
            ]
          },
          "metadata": {}
        },
        {
          "output_type": "display_data",
          "data": {
            "text/plain": [
              "\u001b[1m Total params: \u001b[0m\u001b[38;5;34m2,854,824\u001b[0m (10.89 MB)\n"
            ],
            "text/html": [
              "<pre style=\"white-space:pre;overflow-x:auto;line-height:normal;font-family:Menlo,'DejaVu Sans Mono',consolas,'Courier New',monospace\"><span style=\"font-weight: bold\"> Total params: </span><span style=\"color: #00af00; text-decoration-color: #00af00\">2,854,824</span> (10.89 MB)\n",
              "</pre>\n"
            ]
          },
          "metadata": {}
        },
        {
          "output_type": "display_data",
          "data": {
            "text/plain": [
              "\u001b[1m Trainable params: \u001b[0m\u001b[38;5;34m2,854,824\u001b[0m (10.89 MB)\n"
            ],
            "text/html": [
              "<pre style=\"white-space:pre;overflow-x:auto;line-height:normal;font-family:Menlo,'DejaVu Sans Mono',consolas,'Courier New',monospace\"><span style=\"font-weight: bold\"> Trainable params: </span><span style=\"color: #00af00; text-decoration-color: #00af00\">2,854,824</span> (10.89 MB)\n",
              "</pre>\n"
            ]
          },
          "metadata": {}
        },
        {
          "output_type": "display_data",
          "data": {
            "text/plain": [
              "\u001b[1m Non-trainable params: \u001b[0m\u001b[38;5;34m0\u001b[0m (0.00 B)\n"
            ],
            "text/html": [
              "<pre style=\"white-space:pre;overflow-x:auto;line-height:normal;font-family:Menlo,'DejaVu Sans Mono',consolas,'Courier New',monospace\"><span style=\"font-weight: bold\"> Non-trainable params: </span><span style=\"color: #00af00; text-decoration-color: #00af00\">0</span> (0.00 B)\n",
              "</pre>\n"
            ]
          },
          "metadata": {}
        },
        {
          "output_type": "stream",
          "name": "stdout",
          "text": [
            "None\n"
          ]
        }
      ]
    },
    {
      "cell_type": "code",
      "source": [
        "# Convert your string labels in y_train to numerical labels\n",
        "from sklearn.preprocessing import LabelEncoder\n",
        "\n",
        "label_encoder = LabelEncoder()\n",
        "label_encoder.fit(y_train)\n",
        "y_train_encoded = label_encoder.transform(y_train)\n",
        "y_test_encoded = label_encoder.transform(y_test)"
      ],
      "metadata": {
        "id": "Rzk44TFA0968"
      },
      "id": "Rzk44TFA0968",
      "execution_count": null,
      "outputs": []
    },
    {
      "cell_type": "code",
      "source": [
        "print(\"start fitting...\")\n",
        "model.fit(X_t, y_train_encoded , epochs=10, batch_size=32, validation_split=0.1)"
      ],
      "metadata": {
        "colab": {
          "base_uri": "https://localhost:8080/"
        },
        "id": "OtnKCZZl0cIL",
        "outputId": "47e02ac7-708d-4877-8a39-b168e4d240b5"
      },
      "id": "OtnKCZZl0cIL",
      "execution_count": null,
      "outputs": [
        {
          "output_type": "stream",
          "name": "stdout",
          "text": [
            "start fitting...\n",
            "Epoch 1/10\n",
            "\u001b[1m527/527\u001b[0m \u001b[32m━━━━━━━━━━━━━━━━━━━━\u001b[0m\u001b[37m\u001b[0m \u001b[1m150s\u001b[0m 284ms/step - accuracy: 0.9995 - loss: 0.0037 - val_accuracy: 0.9840 - val_loss: 0.1190\n",
            "Epoch 2/10\n",
            "\u001b[1m527/527\u001b[0m \u001b[32m━━━━━━━━━━━━━━━━━━━━\u001b[0m\u001b[37m\u001b[0m \u001b[1m187s\u001b[0m 257ms/step - accuracy: 0.9997 - loss: 0.0013 - val_accuracy: 0.9786 - val_loss: 0.1438\n",
            "Epoch 3/10\n",
            "\u001b[1m527/527\u001b[0m \u001b[32m━━━━━━━━━━━━━━━━━━━━\u001b[0m\u001b[37m\u001b[0m \u001b[1m134s\u001b[0m 255ms/step - accuracy: 0.9999 - loss: 5.2886e-04 - val_accuracy: 0.9802 - val_loss: 0.1816\n",
            "Epoch 4/10\n",
            "\u001b[1m527/527\u001b[0m \u001b[32m━━━━━━━━━━━━━━━━━━━━\u001b[0m\u001b[37m\u001b[0m \u001b[1m143s\u001b[0m 258ms/step - accuracy: 1.0000 - loss: 9.7745e-05 - val_accuracy: 0.9797 - val_loss: 0.1832\n",
            "Epoch 5/10\n",
            "\u001b[1m527/527\u001b[0m \u001b[32m━━━━━━━━━━━━━━━━━━━━\u001b[0m\u001b[37m\u001b[0m \u001b[1m146s\u001b[0m 266ms/step - accuracy: 0.9997 - loss: 9.4877e-04 - val_accuracy: 0.9663 - val_loss: 0.1232\n",
            "Epoch 6/10\n",
            "\u001b[1m527/527\u001b[0m \u001b[32m━━━━━━━━━━━━━━━━━━━━\u001b[0m\u001b[37m\u001b[0m \u001b[1m136s\u001b[0m 254ms/step - accuracy: 0.9976 - loss: 0.0092 - val_accuracy: 0.9824 - val_loss: 0.1321\n",
            "Epoch 7/10\n",
            "\u001b[1m527/527\u001b[0m \u001b[32m━━━━━━━━━━━━━━━━━━━━\u001b[0m\u001b[37m\u001b[0m \u001b[1m141s\u001b[0m 252ms/step - accuracy: 0.9999 - loss: 0.0014 - val_accuracy: 0.9813 - val_loss: 0.1389\n",
            "Epoch 8/10\n",
            "\u001b[1m527/527\u001b[0m \u001b[32m━━━━━━━━━━━━━━━━━━━━\u001b[0m\u001b[37m\u001b[0m \u001b[1m136s\u001b[0m 258ms/step - accuracy: 0.9999 - loss: 0.0011 - val_accuracy: 0.9808 - val_loss: 0.1480\n",
            "Epoch 9/10\n",
            "\u001b[1m527/527\u001b[0m \u001b[32m━━━━━━━━━━━━━━━━━━━━\u001b[0m\u001b[37m\u001b[0m \u001b[1m141s\u001b[0m 256ms/step - accuracy: 1.0000 - loss: 6.0569e-05 - val_accuracy: 0.9792 - val_loss: 0.1649\n",
            "Epoch 10/10\n",
            "\u001b[1m527/527\u001b[0m \u001b[32m━━━━━━━━━━━━━━━━━━━━\u001b[0m\u001b[37m\u001b[0m \u001b[1m141s\u001b[0m 253ms/step - accuracy: 1.0000 - loss: 1.0241e-05 - val_accuracy: 0.9792 - val_loss: 0.1715\n"
          ]
        },
        {
          "output_type": "execute_result",
          "data": {
            "text/plain": [
              "<keras.src.callbacks.history.History at 0x7c51d8f21ff0>"
            ]
          },
          "metadata": {},
          "execution_count": 79
        }
      ]
    },
    {
      "cell_type": "code",
      "source": [
        "\n",
        "scores = model.evaluate(X_te, y_test_encoded)\n",
        "print(\"\\n%s: %.4f%%\" % (model.metrics_names[1], scores[1]*100))\n",
        "y_pred = model.predict(X_te, batch_size=1024)\n",
        "y_classes = y_pred.argmax(axis=-1)"
      ],
      "metadata": {
        "colab": {
          "base_uri": "https://localhost:8080/"
        },
        "id": "IbJ8K8L020XY",
        "outputId": "647a8079-eab7-4696-9cda-5efd8caee1ab"
      },
      "id": "IbJ8K8L020XY",
      "execution_count": null,
      "outputs": [
        {
          "output_type": "stream",
          "name": "stdout",
          "text": [
            "\u001b[1m147/147\u001b[0m \u001b[32m━━━━━━━━━━━━━━━━━━━━\u001b[0m\u001b[37m\u001b[0m \u001b[1m24s\u001b[0m 166ms/step - accuracy: 0.9833 - loss: 0.1946\n",
            "\n",
            "compile_metrics: 98.2257%\n",
            "\u001b[1m5/5\u001b[0m \u001b[32m━━━━━━━━━━━━━━━━━━━━\u001b[0m\u001b[37m\u001b[0m \u001b[1m18s\u001b[0m 3s/step\n"
          ]
        }
      ]
    },
    {
      "cell_type": "code",
      "source": [
        "from sklearn.metrics import precision_score, recall_score, f1_score\n",
        "lbl = [0,1,2]\n",
        "precision = precision_score(y_test_encoded ,y_classes,average=None,labels=lbl)\n",
        "recall = recall_score(y_test_encoded ,y_classes,average=None,labels=lbl)\n",
        "f1Score = f1_score(y_test_encoded ,y_classes,average=None,labels=lbl)\n",
        "print(\"Precision: \",precision)\n",
        "print(\"Recall: \",recall)\n",
        "print(\"F1Score: \",f1Score)"
      ],
      "metadata": {
        "colab": {
          "base_uri": "https://localhost:8080/"
        },
        "id": "IOKnFppx3Gk8",
        "outputId": "f9e6d507-6758-4ead-acf7-386927a30ebc"
      },
      "id": "IOKnFppx3Gk8",
      "execution_count": null,
      "outputs": [
        {
          "output_type": "stream",
          "name": "stdout",
          "text": [
            "Precision:  [0.97340426 0.97908497 0.9875436 ]\n",
            "Recall:  [0.92893401 0.99292974 0.98070262]\n",
            "F1Score:  [0.95064935 0.98595875 0.98411122]\n"
          ]
        }
      ]
    },
    {
      "cell_type": "code",
      "source": [
        "from sklearn.metrics import accuracy_score, precision_score, recall_score, f1_score\n",
        "\n",
        "# Assuming y_test_encoded and y_classes are your true labels and predicted labels, respectively\n",
        "\n",
        "# Overall accuracy\n",
        "accuracy = accuracy_score(y_test_encoded, y_classes)\n",
        "\n",
        "# Precision, recall, and F1 score for each class\n",
        "precision = precision_score(y_test_encoded, y_classes, average=None, labels=lbl)\n",
        "recall = recall_score(y_test_encoded, y_classes, average=None, labels=lbl)\n",
        "f1Score = f1_score(y_test_encoded, y_classes, average=None, labels=lbl)\n",
        "\n",
        "# Overall precision, recall, and F1 score\n",
        "overall_precision = precision_score(y_test_encoded, y_classes, average='macro')\n",
        "overall_recall = recall_score(y_test_encoded, y_classes, average='macro')\n",
        "overall_f1Score = f1_score(y_test_encoded, y_classes, average='macro')\n",
        "\n",
        "print(\"Precision per class: \", precision)\n",
        "print(\"Recall per class: \", recall)\n",
        "print(\"F1 Score per class: \", f1Score)\n",
        "\n",
        "print(\"\\nOverall Accuracy: \", accuracy)\n",
        "print(\"Overall Precision: \", overall_precision)\n",
        "print(\"Overall Recall: \", overall_recall)\n",
        "print(\"Overall F1 Score: \", overall_f1Score)\n"
      ],
      "metadata": {
        "colab": {
          "base_uri": "https://localhost:8080/"
        },
        "id": "ANB7ASYMojAo",
        "outputId": "dfc20be8-4905-4549-9bfd-987d07e1eed1"
      },
      "id": "ANB7ASYMojAo",
      "execution_count": null,
      "outputs": [
        {
          "output_type": "stream",
          "name": "stdout",
          "text": [
            "Precision per class:  [0.97340426 0.97908497 0.9875436 ]\n",
            "Recall per class:  [0.92893401 0.99292974 0.98070262]\n",
            "F1 Score per class:  [0.95064935 0.98595875 0.98411122]\n",
            "\n",
            "Overall Accuracy:  0.9822573749465584\n",
            "Overall Precision:  0.9800109400161595\n",
            "Overall Recall:  0.967522123966849\n",
            "Overall F1 Score:  0.9735731086462017\n"
          ]
        }
      ]
    },
    {
      "source": [
        "# Pickle the tuned LSTM model (assuming 'model' is your LSTM model)\n",
        "LSTM_model_filename = 'LSTM_model.pkl'\n",
        "with open(LSTM_model_filename, 'wb') as model_file:\n",
        "    pickle.dump(model, model_file) # Save the 'model' variable"
      ],
      "cell_type": "code",
      "metadata": {
        "id": "HcQNobcT7yL8"
      },
      "id": "HcQNobcT7yL8",
      "execution_count": null,
      "outputs": []
    },
    {
      "cell_type": "code",
      "source": [
        "import pickle\n",
        "from tensorflow.keras.preprocessing.sequence import pad_sequences\n",
        "from tensorflow.keras.preprocessing.text import Tokenizer\n",
        "import numpy as np\n",
        "from sklearn.preprocessing import LabelEncoder\n",
        "\n",
        "# Load the pickled vectorizer and model\n",
        "with open('tfidf_vectorizer.pkl', 'rb') as vec_file:\n",
        "    loaded_vectorizer = pickle.load(vec_file)\n",
        "\n",
        "with open('LSTM_model.pkl', 'rb') as model_file:\n",
        "    loaded_model = pickle.load(model_file)\n",
        "\n",
        "def predict_sentiment(text):\n",
        "    # Preprocess and tokenize the text\n",
        "    text_sequence = tokenizer.texts_to_sequences([text])\n",
        "    text_padded = pad_sequences(text_sequence, maxlen=maxlen)\n",
        "\n",
        "    # Predict the sentiment using the loaded model\n",
        "    sentiment_predicted = loaded_model.predict(text_padded)\n",
        "    sentiment_label = np.argmax(sentiment_predicted, axis=-1)[0]\n",
        "\n",
        "    # Map numerical label to original class\n",
        "    return label_encoder.inverse_transform([sentiment_label])[0]\n",
        "\n",
        "# Prompt user for a tweet\n",
        "tweet = input(\"Enter a tweet to analyze sentiment: \")\n",
        "\n",
        "# Get and print the predicted sentiment\n",
        "predicted_sentiment = predict_sentiment(tweet)\n",
        "print(f\"The sentiment of the tweet is: {predicted_sentiment}\")\n"
      ],
      "metadata": {
        "colab": {
          "base_uri": "https://localhost:8080/"
        },
        "id": "bPe-TukfGv-f",
        "outputId": "d17cd72d-a894-410d-f94c-e82e9658d358"
      },
      "id": "bPe-TukfGv-f",
      "execution_count": null,
      "outputs": [
        {
          "output_type": "stream",
          "name": "stdout",
          "text": [
            "Enter a tweet to analyze sentiment: bad\n",
            "\u001b[1m1/1\u001b[0m \u001b[32m━━━━━━━━━━━━━━━━━━━━\u001b[0m\u001b[37m\u001b[0m \u001b[1m0s\u001b[0m 217ms/step\n",
            "The sentiment of the tweet is: Neutral\n"
          ]
        }
      ]
    },
    {
      "cell_type": "code",
      "source": [
        "import pandas as pd\n",
        "data = {\"MODELS\" :[\"LogisticRegression\", \"SVM\",\"RandomForest\",\n",
        "                  \"MultinomialDB\",\"Vader\",\"DistilBertModel\",\n",
        "                   \"LSTM\"],\n",
        "\n",
        "        \"PRECISION\":[0.9695 ,0.9563, 0.9745, 0.9249,0.9520, 0.4594,0.9800],\n",
        "        \"RECALL\":[0.9694, 0.9540, 0.9735,0.9212 ,0.9492, 0.4434, 0.9675],\n",
        "        \"F1SCORE\":[0.9693, 0.9539,0.9734,0.9216,0.9501,0.4462,0.9736],\n",
        "        \"ACCURACY\":[0.9694, 0.9540, 0.9735, 0.9212,0.9492,0.4434, 0.9822]\n",
        "\n",
        "         }\n",
        " # Create the DataFrame\n",
        "model_results = pd.DataFrame(data)\n",
        "\n",
        "model_results\n",
        "\n"
      ],
      "metadata": {
        "colab": {
          "base_uri": "https://localhost:8080/",
          "height": 269
        },
        "id": "Dl2afpo_GrbM",
        "outputId": "c0c541e6-5112-4b3c-ef29-1044b82b75d0"
      },
      "id": "Dl2afpo_GrbM",
      "execution_count": null,
      "outputs": [
        {
          "output_type": "execute_result",
          "data": {
            "text/plain": [
              "               MODELS  PRECISION  RECALL  F1SCORE  ACCURACY\n",
              "0  LogisticRegression     0.9695  0.9694   0.9693    0.9694\n",
              "1                 SVM     0.9563  0.9540   0.9539    0.9540\n",
              "2        RandomForest     0.9745  0.9735   0.9734    0.9735\n",
              "3       MultinomialDB     0.9249  0.9212   0.9216    0.9212\n",
              "4               Vader     0.9520  0.9492   0.9501    0.9492\n",
              "5     DistilBertModel     0.4594  0.4434   0.4462    0.4434\n",
              "6                LSTM     0.9800  0.9675   0.9736    0.9822"
            ],
            "text/html": [
              "\n",
              "  <div id=\"df-f7b89711-fa16-416c-bc37-0fd62028eb6b\" class=\"colab-df-container\">\n",
              "    <div>\n",
              "<style scoped>\n",
              "    .dataframe tbody tr th:only-of-type {\n",
              "        vertical-align: middle;\n",
              "    }\n",
              "\n",
              "    .dataframe tbody tr th {\n",
              "        vertical-align: top;\n",
              "    }\n",
              "\n",
              "    .dataframe thead th {\n",
              "        text-align: right;\n",
              "    }\n",
              "</style>\n",
              "<table border=\"1\" class=\"dataframe\">\n",
              "  <thead>\n",
              "    <tr style=\"text-align: right;\">\n",
              "      <th></th>\n",
              "      <th>MODELS</th>\n",
              "      <th>PRECISION</th>\n",
              "      <th>RECALL</th>\n",
              "      <th>F1SCORE</th>\n",
              "      <th>ACCURACY</th>\n",
              "    </tr>\n",
              "  </thead>\n",
              "  <tbody>\n",
              "    <tr>\n",
              "      <th>0</th>\n",
              "      <td>LogisticRegression</td>\n",
              "      <td>0.9695</td>\n",
              "      <td>0.9694</td>\n",
              "      <td>0.9693</td>\n",
              "      <td>0.9694</td>\n",
              "    </tr>\n",
              "    <tr>\n",
              "      <th>1</th>\n",
              "      <td>SVM</td>\n",
              "      <td>0.9563</td>\n",
              "      <td>0.9540</td>\n",
              "      <td>0.9539</td>\n",
              "      <td>0.9540</td>\n",
              "    </tr>\n",
              "    <tr>\n",
              "      <th>2</th>\n",
              "      <td>RandomForest</td>\n",
              "      <td>0.9745</td>\n",
              "      <td>0.9735</td>\n",
              "      <td>0.9734</td>\n",
              "      <td>0.9735</td>\n",
              "    </tr>\n",
              "    <tr>\n",
              "      <th>3</th>\n",
              "      <td>MultinomialDB</td>\n",
              "      <td>0.9249</td>\n",
              "      <td>0.9212</td>\n",
              "      <td>0.9216</td>\n",
              "      <td>0.9212</td>\n",
              "    </tr>\n",
              "    <tr>\n",
              "      <th>4</th>\n",
              "      <td>Vader</td>\n",
              "      <td>0.9520</td>\n",
              "      <td>0.9492</td>\n",
              "      <td>0.9501</td>\n",
              "      <td>0.9492</td>\n",
              "    </tr>\n",
              "    <tr>\n",
              "      <th>5</th>\n",
              "      <td>DistilBertModel</td>\n",
              "      <td>0.4594</td>\n",
              "      <td>0.4434</td>\n",
              "      <td>0.4462</td>\n",
              "      <td>0.4434</td>\n",
              "    </tr>\n",
              "    <tr>\n",
              "      <th>6</th>\n",
              "      <td>LSTM</td>\n",
              "      <td>0.9800</td>\n",
              "      <td>0.9675</td>\n",
              "      <td>0.9736</td>\n",
              "      <td>0.9822</td>\n",
              "    </tr>\n",
              "  </tbody>\n",
              "</table>\n",
              "</div>\n",
              "    <div class=\"colab-df-buttons\">\n",
              "\n",
              "  <div class=\"colab-df-container\">\n",
              "    <button class=\"colab-df-convert\" onclick=\"convertToInteractive('df-f7b89711-fa16-416c-bc37-0fd62028eb6b')\"\n",
              "            title=\"Convert this dataframe to an interactive table.\"\n",
              "            style=\"display:none;\">\n",
              "\n",
              "  <svg xmlns=\"http://www.w3.org/2000/svg\" height=\"24px\" viewBox=\"0 -960 960 960\">\n",
              "    <path d=\"M120-120v-720h720v720H120Zm60-500h600v-160H180v160Zm220 220h160v-160H400v160Zm0 220h160v-160H400v160ZM180-400h160v-160H180v160Zm440 0h160v-160H620v160ZM180-180h160v-160H180v160Zm440 0h160v-160H620v160Z\"/>\n",
              "  </svg>\n",
              "    </button>\n",
              "\n",
              "  <style>\n",
              "    .colab-df-container {\n",
              "      display:flex;\n",
              "      gap: 12px;\n",
              "    }\n",
              "\n",
              "    .colab-df-convert {\n",
              "      background-color: #E8F0FE;\n",
              "      border: none;\n",
              "      border-radius: 50%;\n",
              "      cursor: pointer;\n",
              "      display: none;\n",
              "      fill: #1967D2;\n",
              "      height: 32px;\n",
              "      padding: 0 0 0 0;\n",
              "      width: 32px;\n",
              "    }\n",
              "\n",
              "    .colab-df-convert:hover {\n",
              "      background-color: #E2EBFA;\n",
              "      box-shadow: 0px 1px 2px rgba(60, 64, 67, 0.3), 0px 1px 3px 1px rgba(60, 64, 67, 0.15);\n",
              "      fill: #174EA6;\n",
              "    }\n",
              "\n",
              "    .colab-df-buttons div {\n",
              "      margin-bottom: 4px;\n",
              "    }\n",
              "\n",
              "    [theme=dark] .colab-df-convert {\n",
              "      background-color: #3B4455;\n",
              "      fill: #D2E3FC;\n",
              "    }\n",
              "\n",
              "    [theme=dark] .colab-df-convert:hover {\n",
              "      background-color: #434B5C;\n",
              "      box-shadow: 0px 1px 3px 1px rgba(0, 0, 0, 0.15);\n",
              "      filter: drop-shadow(0px 1px 2px rgba(0, 0, 0, 0.3));\n",
              "      fill: #FFFFFF;\n",
              "    }\n",
              "  </style>\n",
              "\n",
              "    <script>\n",
              "      const buttonEl =\n",
              "        document.querySelector('#df-f7b89711-fa16-416c-bc37-0fd62028eb6b button.colab-df-convert');\n",
              "      buttonEl.style.display =\n",
              "        google.colab.kernel.accessAllowed ? 'block' : 'none';\n",
              "\n",
              "      async function convertToInteractive(key) {\n",
              "        const element = document.querySelector('#df-f7b89711-fa16-416c-bc37-0fd62028eb6b');\n",
              "        const dataTable =\n",
              "          await google.colab.kernel.invokeFunction('convertToInteractive',\n",
              "                                                    [key], {});\n",
              "        if (!dataTable) return;\n",
              "\n",
              "        const docLinkHtml = 'Like what you see? Visit the ' +\n",
              "          '<a target=\"_blank\" href=https://colab.research.google.com/notebooks/data_table.ipynb>data table notebook</a>'\n",
              "          + ' to learn more about interactive tables.';\n",
              "        element.innerHTML = '';\n",
              "        dataTable['output_type'] = 'display_data';\n",
              "        await google.colab.output.renderOutput(dataTable, element);\n",
              "        const docLink = document.createElement('div');\n",
              "        docLink.innerHTML = docLinkHtml;\n",
              "        element.appendChild(docLink);\n",
              "      }\n",
              "    </script>\n",
              "  </div>\n",
              "\n",
              "\n",
              "<div id=\"df-afd6e3a2-57b1-4fe6-9c79-159d481a24f0\">\n",
              "  <button class=\"colab-df-quickchart\" onclick=\"quickchart('df-afd6e3a2-57b1-4fe6-9c79-159d481a24f0')\"\n",
              "            title=\"Suggest charts\"\n",
              "            style=\"display:none;\">\n",
              "\n",
              "<svg xmlns=\"http://www.w3.org/2000/svg\" height=\"24px\"viewBox=\"0 0 24 24\"\n",
              "     width=\"24px\">\n",
              "    <g>\n",
              "        <path d=\"M19 3H5c-1.1 0-2 .9-2 2v14c0 1.1.9 2 2 2h14c1.1 0 2-.9 2-2V5c0-1.1-.9-2-2-2zM9 17H7v-7h2v7zm4 0h-2V7h2v10zm4 0h-2v-4h2v4z\"/>\n",
              "    </g>\n",
              "</svg>\n",
              "  </button>\n",
              "\n",
              "<style>\n",
              "  .colab-df-quickchart {\n",
              "      --bg-color: #E8F0FE;\n",
              "      --fill-color: #1967D2;\n",
              "      --hover-bg-color: #E2EBFA;\n",
              "      --hover-fill-color: #174EA6;\n",
              "      --disabled-fill-color: #AAA;\n",
              "      --disabled-bg-color: #DDD;\n",
              "  }\n",
              "\n",
              "  [theme=dark] .colab-df-quickchart {\n",
              "      --bg-color: #3B4455;\n",
              "      --fill-color: #D2E3FC;\n",
              "      --hover-bg-color: #434B5C;\n",
              "      --hover-fill-color: #FFFFFF;\n",
              "      --disabled-bg-color: #3B4455;\n",
              "      --disabled-fill-color: #666;\n",
              "  }\n",
              "\n",
              "  .colab-df-quickchart {\n",
              "    background-color: var(--bg-color);\n",
              "    border: none;\n",
              "    border-radius: 50%;\n",
              "    cursor: pointer;\n",
              "    display: none;\n",
              "    fill: var(--fill-color);\n",
              "    height: 32px;\n",
              "    padding: 0;\n",
              "    width: 32px;\n",
              "  }\n",
              "\n",
              "  .colab-df-quickchart:hover {\n",
              "    background-color: var(--hover-bg-color);\n",
              "    box-shadow: 0 1px 2px rgba(60, 64, 67, 0.3), 0 1px 3px 1px rgba(60, 64, 67, 0.15);\n",
              "    fill: var(--button-hover-fill-color);\n",
              "  }\n",
              "\n",
              "  .colab-df-quickchart-complete:disabled,\n",
              "  .colab-df-quickchart-complete:disabled:hover {\n",
              "    background-color: var(--disabled-bg-color);\n",
              "    fill: var(--disabled-fill-color);\n",
              "    box-shadow: none;\n",
              "  }\n",
              "\n",
              "  .colab-df-spinner {\n",
              "    border: 2px solid var(--fill-color);\n",
              "    border-color: transparent;\n",
              "    border-bottom-color: var(--fill-color);\n",
              "    animation:\n",
              "      spin 1s steps(1) infinite;\n",
              "  }\n",
              "\n",
              "  @keyframes spin {\n",
              "    0% {\n",
              "      border-color: transparent;\n",
              "      border-bottom-color: var(--fill-color);\n",
              "      border-left-color: var(--fill-color);\n",
              "    }\n",
              "    20% {\n",
              "      border-color: transparent;\n",
              "      border-left-color: var(--fill-color);\n",
              "      border-top-color: var(--fill-color);\n",
              "    }\n",
              "    30% {\n",
              "      border-color: transparent;\n",
              "      border-left-color: var(--fill-color);\n",
              "      border-top-color: var(--fill-color);\n",
              "      border-right-color: var(--fill-color);\n",
              "    }\n",
              "    40% {\n",
              "      border-color: transparent;\n",
              "      border-right-color: var(--fill-color);\n",
              "      border-top-color: var(--fill-color);\n",
              "    }\n",
              "    60% {\n",
              "      border-color: transparent;\n",
              "      border-right-color: var(--fill-color);\n",
              "    }\n",
              "    80% {\n",
              "      border-color: transparent;\n",
              "      border-right-color: var(--fill-color);\n",
              "      border-bottom-color: var(--fill-color);\n",
              "    }\n",
              "    90% {\n",
              "      border-color: transparent;\n",
              "      border-bottom-color: var(--fill-color);\n",
              "    }\n",
              "  }\n",
              "</style>\n",
              "\n",
              "  <script>\n",
              "    async function quickchart(key) {\n",
              "      const quickchartButtonEl =\n",
              "        document.querySelector('#' + key + ' button');\n",
              "      quickchartButtonEl.disabled = true;  // To prevent multiple clicks.\n",
              "      quickchartButtonEl.classList.add('colab-df-spinner');\n",
              "      try {\n",
              "        const charts = await google.colab.kernel.invokeFunction(\n",
              "            'suggestCharts', [key], {});\n",
              "      } catch (error) {\n",
              "        console.error('Error during call to suggestCharts:', error);\n",
              "      }\n",
              "      quickchartButtonEl.classList.remove('colab-df-spinner');\n",
              "      quickchartButtonEl.classList.add('colab-df-quickchart-complete');\n",
              "    }\n",
              "    (() => {\n",
              "      let quickchartButtonEl =\n",
              "        document.querySelector('#df-afd6e3a2-57b1-4fe6-9c79-159d481a24f0 button');\n",
              "      quickchartButtonEl.style.display =\n",
              "        google.colab.kernel.accessAllowed ? 'block' : 'none';\n",
              "    })();\n",
              "  </script>\n",
              "</div>\n",
              "\n",
              "  <div id=\"id_0c9a13ea-eddf-4b7e-95c5-e9fcd6268f1e\">\n",
              "    <style>\n",
              "      .colab-df-generate {\n",
              "        background-color: #E8F0FE;\n",
              "        border: none;\n",
              "        border-radius: 50%;\n",
              "        cursor: pointer;\n",
              "        display: none;\n",
              "        fill: #1967D2;\n",
              "        height: 32px;\n",
              "        padding: 0 0 0 0;\n",
              "        width: 32px;\n",
              "      }\n",
              "\n",
              "      .colab-df-generate:hover {\n",
              "        background-color: #E2EBFA;\n",
              "        box-shadow: 0px 1px 2px rgba(60, 64, 67, 0.3), 0px 1px 3px 1px rgba(60, 64, 67, 0.15);\n",
              "        fill: #174EA6;\n",
              "      }\n",
              "\n",
              "      [theme=dark] .colab-df-generate {\n",
              "        background-color: #3B4455;\n",
              "        fill: #D2E3FC;\n",
              "      }\n",
              "\n",
              "      [theme=dark] .colab-df-generate:hover {\n",
              "        background-color: #434B5C;\n",
              "        box-shadow: 0px 1px 3px 1px rgba(0, 0, 0, 0.15);\n",
              "        filter: drop-shadow(0px 1px 2px rgba(0, 0, 0, 0.3));\n",
              "        fill: #FFFFFF;\n",
              "      }\n",
              "    </style>\n",
              "    <button class=\"colab-df-generate\" onclick=\"generateWithVariable('model_results')\"\n",
              "            title=\"Generate code using this dataframe.\"\n",
              "            style=\"display:none;\">\n",
              "\n",
              "  <svg xmlns=\"http://www.w3.org/2000/svg\" height=\"24px\"viewBox=\"0 0 24 24\"\n",
              "       width=\"24px\">\n",
              "    <path d=\"M7,19H8.4L18.45,9,17,7.55,7,17.6ZM5,21V16.75L18.45,3.32a2,2,0,0,1,2.83,0l1.4,1.43a1.91,1.91,0,0,1,.58,1.4,1.91,1.91,0,0,1-.58,1.4L9.25,21ZM18.45,9,17,7.55Zm-12,3A5.31,5.31,0,0,0,4.9,8.1,5.31,5.31,0,0,0,1,6.5,5.31,5.31,0,0,0,4.9,4.9,5.31,5.31,0,0,0,6.5,1,5.31,5.31,0,0,0,8.1,4.9,5.31,5.31,0,0,0,12,6.5,5.46,5.46,0,0,0,6.5,12Z\"/>\n",
              "  </svg>\n",
              "    </button>\n",
              "    <script>\n",
              "      (() => {\n",
              "      const buttonEl =\n",
              "        document.querySelector('#id_0c9a13ea-eddf-4b7e-95c5-e9fcd6268f1e button.colab-df-generate');\n",
              "      buttonEl.style.display =\n",
              "        google.colab.kernel.accessAllowed ? 'block' : 'none';\n",
              "\n",
              "      buttonEl.onclick = () => {\n",
              "        google.colab.notebook.generateWithVariable('model_results');\n",
              "      }\n",
              "      })();\n",
              "    </script>\n",
              "  </div>\n",
              "\n",
              "    </div>\n",
              "  </div>\n"
            ],
            "application/vnd.google.colaboratory.intrinsic+json": {
              "type": "dataframe",
              "variable_name": "model_results",
              "summary": "{\n  \"name\": \"model_results\",\n  \"rows\": 7,\n  \"fields\": [\n    {\n      \"column\": \"MODELS\",\n      \"properties\": {\n        \"dtype\": \"string\",\n        \"num_unique_values\": 7,\n        \"samples\": [\n          \"LogisticRegression\",\n          \"SVM\",\n          \"DistilBertModel\"\n        ],\n        \"semantic_type\": \"\",\n        \"description\": \"\"\n      }\n    },\n    {\n      \"column\": \"PRECISION\",\n      \"properties\": {\n        \"dtype\": \"number\",\n        \"std\": 0.18991616947635456,\n        \"min\": 0.4594,\n        \"max\": 0.98,\n        \"num_unique_values\": 7,\n        \"samples\": [\n          0.9695,\n          0.9563,\n          0.4594\n        ],\n        \"semantic_type\": \"\",\n        \"description\": \"\"\n      }\n    },\n    {\n      \"column\": \"RECALL\",\n      \"properties\": {\n        \"dtype\": \"number\",\n        \"std\": 0.19447586825447866,\n        \"min\": 0.4434,\n        \"max\": 0.9735,\n        \"num_unique_values\": 7,\n        \"samples\": [\n          0.9694,\n          0.954,\n          0.4434\n        ],\n        \"semantic_type\": \"\",\n        \"description\": \"\"\n      }\n    },\n    {\n      \"column\": \"F1SCORE\",\n      \"properties\": {\n        \"dtype\": \"number\",\n        \"std\": 0.19392198971555058,\n        \"min\": 0.4462,\n        \"max\": 0.9736,\n        \"num_unique_values\": 7,\n        \"samples\": [\n          0.9693,\n          0.9539,\n          0.4462\n        ],\n        \"semantic_type\": \"\",\n        \"description\": \"\"\n      }\n    },\n    {\n      \"column\": \"ACCURACY\",\n      \"properties\": {\n        \"dtype\": \"number\",\n        \"std\": 0.19562142861489723,\n        \"min\": 0.4434,\n        \"max\": 0.9822,\n        \"num_unique_values\": 7,\n        \"samples\": [\n          0.9694,\n          0.954,\n          0.4434\n        ],\n        \"semantic_type\": \"\",\n        \"description\": \"\"\n      }\n    }\n  ]\n}"
            }
          },
          "metadata": {},
          "execution_count": 6
        }
      ]
    },
    {
      "cell_type": "markdown",
      "id": "Q-SpVEJv4Kmz",
      "metadata": {
        "id": "Q-SpVEJv4Kmz"
      },
      "source": [
        "# MODEL EVALUATION"
      ]
    },
    {
      "cell_type": "markdown",
      "id": "DVco-SLT4QPx",
      "metadata": {
        "id": "DVco-SLT4QPx"
      },
      "source": [
        "The best Model is the Vader Model with an Accuracy of `0.9492`, precision of `0.9520`,Recall of  `0.9492` and a F1Score `  0.9501`\n"
      ]
    },
    {
      "cell_type": "markdown",
      "id": "ffa98cf3",
      "metadata": {
        "id": "ffa98cf3"
      },
      "source": [
        "# CONCLUSION"
      ]
    },
    {
      "cell_type": "markdown",
      "id": "edc6a3f3",
      "metadata": {
        "id": "edc6a3f3"
      },
      "source": [
        "Considering the defined metrics of success, the VADER model exceeded expectations across all categories:\n",
        "\n",
        "- Accuracy: The VADER model achieved an accuracy of 94.92%, surpassing the target range of 85-90%. This indicates that the model correctly classified an exceptionally high proportion of sentiments across all categories.\n",
        "\n",
        "- Precision: For the positive class, VADER achieved a precision of 95.2%, and for the negative class, 76.92%. Both of these meet or exceed the target range of 80-90%. The neutral class precision of 96.39% significantly outperformed the 75-85% target. This demonstrates the model's strong ability to correctly identify sentiments, particularly for positive and neutral tweets.\n",
        "\n",
        "- Recall: VADER's recall scores were 95.43% for positive, 84.16% for negative, and 94.9% for neutral sentiments. All of these substantially exceed the target range of 75-80%, indicating the model's excellent capability in identifying a high proportion of actual sentiments across all classes.\n",
        "\n",
        "- F1 Score: The overall F1 score of 95% far surpasses the target range of 0.75 to 0.85. This high F1 score reflects a strong balance between precision and recall across all sentiment classes.\n",
        "\n",
        ">In conclusion, the VADER model not only met but significantly exceeded all the defined metrics of success. Its high accuracy, precision, recall, and F1-score across all sentiment categories (positive, negative, and neutral) demonstrate its robustness and reliability for this specific task. The success of VADER, a rule-based model specifically designed for social media text, highlights the importance of domain-specific tools in sentiment analysis. While machine learning models like Random Forest showed good performance, they couldn't match the specialized capabilities of VADER in handling the nuances of social media language, particularly in the context of Olympic-related discussions.\n",
        "\n",
        "\n"
      ]
    },
    {
      "cell_type": "markdown",
      "id": "j7zRnA7L79YF",
      "metadata": {
        "id": "j7zRnA7L79YF"
      },
      "source": [
        " # RECOMMENDATIONS"
      ]
    },
    {
      "cell_type": "markdown",
      "id": "g2gNDSzBZ2PB",
      "metadata": {
        "id": "g2gNDSzBZ2PB"
      },
      "source": [
        "1.\tImplement a real-time sentiment tracking dashboard for organizers and media partners, allowing them to respond quickly to shifts in public opinion.\n",
        "2.\tDevelop a multi-lingual sentiment analysis capability to cater to the international nature of the Olympics, using language-specific versions of VADER where available.\n",
        "3.\tCreate a sentiment-based alert system for potentially controversial or viral topics, enabling rapid response from the communications team.\n",
        "4.\tIntegrate sentiment analysis results with other data sources (e.g., ticket sales, TV ratings) to provide a comprehensive view of public engagement.\n",
        "5.\tUse sentiment trends to guide content creation and social media strategies, focusing on themes and athletes that generate positive engagement.\n",
        "6.\tProvide regular sentiment reports to sponsors, helping them optimize their Olympic-related marketing campaigns.\n",
        "7.\tCollaborate with local Paris businesses to use sentiment data for improving visitor experiences during the Olympics.\n"
      ]
    },
    {
      "cell_type": "markdown",
      "id": "CdmrHwKr79YG",
      "metadata": {
        "id": "CdmrHwKr79YG"
      },
      "source": [
        "# NEXT STEPS"
      ]
    },
    {
      "cell_type": "markdown",
      "id": "CwCsY7CRaENH",
      "metadata": {
        "id": "CwCsY7CRaENH"
      },
      "source": [
        "\n",
        "1.\tEnhance Feature Engineering: Incorporate Olympics-specific features such as mentions of specific sports, athletes, or events to improve classification accuracy.\n",
        "2.\tDevelop Custom Olympic VADER Lexicon: Create a specialized lexicon for VADER that includes Olympic-specific terms and their sentiment associations.\n",
        "3.\tImplement Cross-Platform Analysis: Extend the sentiment analysis to multiple social media platforms and news sources for a more comprehensive view.\n",
        "4.\tCreate Interactive Visualizations: Develop user-friendly, interactive dashboards for stakeholders to explore sentiment data in real-time.\n",
        "5.\tEstablish Benchmarking System: Set up a system to compare sentiment trends with previous Olympic events to identify unique characteristics of the Paris Olympics.\n",
        "6.\tAutomate Insight Generation: Develop algorithms to automatically identify and report on significant shifts in sentiment or emerging trends.\n",
        "7.\tConduct Stakeholder Training: Offer training sessions for various stakeholders on how to interpret and act upon the sentiment analysis results.\n",
        "8.\tPlan for Long-Term Analysis: Set up infrastructure for continued analysis post-Olympics to track the event's lasting impact on public sentiment towards Paris and the Olympic movement.\n",
        "9.Preprocess the multilingual olympics data and fine-tune a model to accurately detect sentiment across the different languages."
      ]
    }
  ],
  "metadata": {
    "accelerator": "GPU",
    "colab": {
      "gpuType": "T4",
      "provenance": []
    },
    "kernelspec": {
      "display_name": "Python 3",
      "name": "python3"
    },
    "language_info": {
      "name": "python"
    },
    "widgets": {
      "application/vnd.jupyter.widget-state+json": {
        "0a4556fc63244a1fb6be688b68bd5a5b": {
          "model_module": "@jupyter-widgets/base",
          "model_module_version": "1.2.0",
          "model_name": "LayoutModel",
          "state": {
            "_model_module": "@jupyter-widgets/base",
            "_model_module_version": "1.2.0",
            "_model_name": "LayoutModel",
            "_view_count": null,
            "_view_module": "@jupyter-widgets/base",
            "_view_module_version": "1.2.0",
            "_view_name": "LayoutView",
            "align_content": null,
            "align_items": null,
            "align_self": null,
            "border": null,
            "bottom": null,
            "display": null,
            "flex": null,
            "flex_flow": null,
            "grid_area": null,
            "grid_auto_columns": null,
            "grid_auto_flow": null,
            "grid_auto_rows": null,
            "grid_column": null,
            "grid_gap": null,
            "grid_row": null,
            "grid_template_areas": null,
            "grid_template_columns": null,
            "grid_template_rows": null,
            "height": null,
            "justify_content": null,
            "justify_items": null,
            "left": null,
            "margin": null,
            "max_height": null,
            "max_width": null,
            "min_height": null,
            "min_width": null,
            "object_fit": null,
            "object_position": null,
            "order": null,
            "overflow": null,
            "overflow_x": null,
            "overflow_y": null,
            "padding": null,
            "right": null,
            "top": null,
            "visibility": null,
            "width": null
          }
        },
        "0aa9bfc6d361472ca90eae34db0fb399": {
          "model_module": "@jupyter-widgets/controls",
          "model_module_version": "1.5.0",
          "model_name": "FloatProgressModel",
          "state": {
            "_dom_classes": [],
            "_model_module": "@jupyter-widgets/controls",
            "_model_module_version": "1.5.0",
            "_model_name": "FloatProgressModel",
            "_view_count": null,
            "_view_module": "@jupyter-widgets/controls",
            "_view_module_version": "1.5.0",
            "_view_name": "ProgressView",
            "bar_style": "success",
            "description": "",
            "description_tooltip": null,
            "layout": "IPY_MODEL_16f9fbea6e634921a0d0edf0fc63aa8b",
            "max": 483,
            "min": 0,
            "orientation": "horizontal",
            "style": "IPY_MODEL_240652935ff24bc38adb3679d500fa21",
            "value": 483
          }
        },
        "0efc26f7fe9a40d5ab6c4096f49f8d36": {
          "model_module": "@jupyter-widgets/controls",
          "model_module_version": "1.5.0",
          "model_name": "ProgressStyleModel",
          "state": {
            "_model_module": "@jupyter-widgets/controls",
            "_model_module_version": "1.5.0",
            "_model_name": "ProgressStyleModel",
            "_view_count": null,
            "_view_module": "@jupyter-widgets/base",
            "_view_module_version": "1.2.0",
            "_view_name": "StyleView",
            "bar_color": null,
            "description_width": ""
          }
        },
        "125466eb1be449509c90830b6b56f6d6": {
          "model_module": "@jupyter-widgets/base",
          "model_module_version": "1.2.0",
          "model_name": "LayoutModel",
          "state": {
            "_model_module": "@jupyter-widgets/base",
            "_model_module_version": "1.2.0",
            "_model_name": "LayoutModel",
            "_view_count": null,
            "_view_module": "@jupyter-widgets/base",
            "_view_module_version": "1.2.0",
            "_view_name": "LayoutView",
            "align_content": null,
            "align_items": null,
            "align_self": null,
            "border": null,
            "bottom": null,
            "display": null,
            "flex": null,
            "flex_flow": null,
            "grid_area": null,
            "grid_auto_columns": null,
            "grid_auto_flow": null,
            "grid_auto_rows": null,
            "grid_column": null,
            "grid_gap": null,
            "grid_row": null,
            "grid_template_areas": null,
            "grid_template_columns": null,
            "grid_template_rows": null,
            "height": null,
            "justify_content": null,
            "justify_items": null,
            "left": null,
            "margin": null,
            "max_height": null,
            "max_width": null,
            "min_height": null,
            "min_width": null,
            "object_fit": null,
            "object_position": null,
            "order": null,
            "overflow": null,
            "overflow_x": null,
            "overflow_y": null,
            "padding": null,
            "right": null,
            "top": null,
            "visibility": null,
            "width": null
          }
        },
        "15046d48ad37464a95c35bde66d1f661": {
          "model_module": "@jupyter-widgets/controls",
          "model_module_version": "1.5.0",
          "model_name": "DescriptionStyleModel",
          "state": {
            "_model_module": "@jupyter-widgets/controls",
            "_model_module_version": "1.5.0",
            "_model_name": "DescriptionStyleModel",
            "_view_count": null,
            "_view_module": "@jupyter-widgets/base",
            "_view_module_version": "1.2.0",
            "_view_name": "StyleView",
            "description_width": ""
          }
        },
        "16f9fbea6e634921a0d0edf0fc63aa8b": {
          "model_module": "@jupyter-widgets/base",
          "model_module_version": "1.2.0",
          "model_name": "LayoutModel",
          "state": {
            "_model_module": "@jupyter-widgets/base",
            "_model_module_version": "1.2.0",
            "_model_name": "LayoutModel",
            "_view_count": null,
            "_view_module": "@jupyter-widgets/base",
            "_view_module_version": "1.2.0",
            "_view_name": "LayoutView",
            "align_content": null,
            "align_items": null,
            "align_self": null,
            "border": null,
            "bottom": null,
            "display": null,
            "flex": null,
            "flex_flow": null,
            "grid_area": null,
            "grid_auto_columns": null,
            "grid_auto_flow": null,
            "grid_auto_rows": null,
            "grid_column": null,
            "grid_gap": null,
            "grid_row": null,
            "grid_template_areas": null,
            "grid_template_columns": null,
            "grid_template_rows": null,
            "height": null,
            "justify_content": null,
            "justify_items": null,
            "left": null,
            "margin": null,
            "max_height": null,
            "max_width": null,
            "min_height": null,
            "min_width": null,
            "object_fit": null,
            "object_position": null,
            "order": null,
            "overflow": null,
            "overflow_x": null,
            "overflow_y": null,
            "padding": null,
            "right": null,
            "top": null,
            "visibility": null,
            "width": null
          }
        },
        "1920fed8d8f344ed81020a5e85f82837": {
          "model_module": "@jupyter-widgets/base",
          "model_module_version": "1.2.0",
          "model_name": "LayoutModel",
          "state": {
            "_model_module": "@jupyter-widgets/base",
            "_model_module_version": "1.2.0",
            "_model_name": "LayoutModel",
            "_view_count": null,
            "_view_module": "@jupyter-widgets/base",
            "_view_module_version": "1.2.0",
            "_view_name": "LayoutView",
            "align_content": null,
            "align_items": null,
            "align_self": null,
            "border": null,
            "bottom": null,
            "display": null,
            "flex": null,
            "flex_flow": null,
            "grid_area": null,
            "grid_auto_columns": null,
            "grid_auto_flow": null,
            "grid_auto_rows": null,
            "grid_column": null,
            "grid_gap": null,
            "grid_row": null,
            "grid_template_areas": null,
            "grid_template_columns": null,
            "grid_template_rows": null,
            "height": null,
            "justify_content": null,
            "justify_items": null,
            "left": null,
            "margin": null,
            "max_height": null,
            "max_width": null,
            "min_height": null,
            "min_width": null,
            "object_fit": null,
            "object_position": null,
            "order": null,
            "overflow": null,
            "overflow_x": null,
            "overflow_y": null,
            "padding": null,
            "right": null,
            "top": null,
            "visibility": null,
            "width": null
          }
        },
        "197a0a39c27f49b98864f9944dd4d463": {
          "model_module": "@jupyter-widgets/base",
          "model_module_version": "1.2.0",
          "model_name": "LayoutModel",
          "state": {
            "_model_module": "@jupyter-widgets/base",
            "_model_module_version": "1.2.0",
            "_model_name": "LayoutModel",
            "_view_count": null,
            "_view_module": "@jupyter-widgets/base",
            "_view_module_version": "1.2.0",
            "_view_name": "LayoutView",
            "align_content": null,
            "align_items": null,
            "align_self": null,
            "border": null,
            "bottom": null,
            "display": null,
            "flex": null,
            "flex_flow": null,
            "grid_area": null,
            "grid_auto_columns": null,
            "grid_auto_flow": null,
            "grid_auto_rows": null,
            "grid_column": null,
            "grid_gap": null,
            "grid_row": null,
            "grid_template_areas": null,
            "grid_template_columns": null,
            "grid_template_rows": null,
            "height": null,
            "justify_content": null,
            "justify_items": null,
            "left": null,
            "margin": null,
            "max_height": null,
            "max_width": null,
            "min_height": null,
            "min_width": null,
            "object_fit": null,
            "object_position": null,
            "order": null,
            "overflow": null,
            "overflow_x": null,
            "overflow_y": null,
            "padding": null,
            "right": null,
            "top": null,
            "visibility": null,
            "width": null
          }
        },
        "240652935ff24bc38adb3679d500fa21": {
          "model_module": "@jupyter-widgets/controls",
          "model_module_version": "1.5.0",
          "model_name": "ProgressStyleModel",
          "state": {
            "_model_module": "@jupyter-widgets/controls",
            "_model_module_version": "1.5.0",
            "_model_name": "ProgressStyleModel",
            "_view_count": null,
            "_view_module": "@jupyter-widgets/base",
            "_view_module_version": "1.2.0",
            "_view_name": "StyleView",
            "bar_color": null,
            "description_width": ""
          }
        },
        "24d27ffe67cc4d09ac72c08d6b52ec0f": {
          "model_module": "@jupyter-widgets/base",
          "model_module_version": "1.2.0",
          "model_name": "LayoutModel",
          "state": {
            "_model_module": "@jupyter-widgets/base",
            "_model_module_version": "1.2.0",
            "_model_name": "LayoutModel",
            "_view_count": null,
            "_view_module": "@jupyter-widgets/base",
            "_view_module_version": "1.2.0",
            "_view_name": "LayoutView",
            "align_content": null,
            "align_items": null,
            "align_self": null,
            "border": null,
            "bottom": null,
            "display": null,
            "flex": null,
            "flex_flow": null,
            "grid_area": null,
            "grid_auto_columns": null,
            "grid_auto_flow": null,
            "grid_auto_rows": null,
            "grid_column": null,
            "grid_gap": null,
            "grid_row": null,
            "grid_template_areas": null,
            "grid_template_columns": null,
            "grid_template_rows": null,
            "height": null,
            "justify_content": null,
            "justify_items": null,
            "left": null,
            "margin": null,
            "max_height": null,
            "max_width": null,
            "min_height": null,
            "min_width": null,
            "object_fit": null,
            "object_position": null,
            "order": null,
            "overflow": null,
            "overflow_x": null,
            "overflow_y": null,
            "padding": null,
            "right": null,
            "top": null,
            "visibility": null,
            "width": null
          }
        },
        "284b1adb1102406c905122945f28f542": {
          "model_module": "@jupyter-widgets/base",
          "model_module_version": "1.2.0",
          "model_name": "LayoutModel",
          "state": {
            "_model_module": "@jupyter-widgets/base",
            "_model_module_version": "1.2.0",
            "_model_name": "LayoutModel",
            "_view_count": null,
            "_view_module": "@jupyter-widgets/base",
            "_view_module_version": "1.2.0",
            "_view_name": "LayoutView",
            "align_content": null,
            "align_items": null,
            "align_self": null,
            "border": null,
            "bottom": null,
            "display": null,
            "flex": null,
            "flex_flow": null,
            "grid_area": null,
            "grid_auto_columns": null,
            "grid_auto_flow": null,
            "grid_auto_rows": null,
            "grid_column": null,
            "grid_gap": null,
            "grid_row": null,
            "grid_template_areas": null,
            "grid_template_columns": null,
            "grid_template_rows": null,
            "height": null,
            "justify_content": null,
            "justify_items": null,
            "left": null,
            "margin": null,
            "max_height": null,
            "max_width": null,
            "min_height": null,
            "min_width": null,
            "object_fit": null,
            "object_position": null,
            "order": null,
            "overflow": null,
            "overflow_x": null,
            "overflow_y": null,
            "padding": null,
            "right": null,
            "top": null,
            "visibility": null,
            "width": null
          }
        },
        "3cfdebd67dea4f38902023344566d43a": {
          "model_module": "@jupyter-widgets/base",
          "model_module_version": "1.2.0",
          "model_name": "LayoutModel",
          "state": {
            "_model_module": "@jupyter-widgets/base",
            "_model_module_version": "1.2.0",
            "_model_name": "LayoutModel",
            "_view_count": null,
            "_view_module": "@jupyter-widgets/base",
            "_view_module_version": "1.2.0",
            "_view_name": "LayoutView",
            "align_content": null,
            "align_items": null,
            "align_self": null,
            "border": null,
            "bottom": null,
            "display": null,
            "flex": null,
            "flex_flow": null,
            "grid_area": null,
            "grid_auto_columns": null,
            "grid_auto_flow": null,
            "grid_auto_rows": null,
            "grid_column": null,
            "grid_gap": null,
            "grid_row": null,
            "grid_template_areas": null,
            "grid_template_columns": null,
            "grid_template_rows": null,
            "height": null,
            "justify_content": null,
            "justify_items": null,
            "left": null,
            "margin": null,
            "max_height": null,
            "max_width": null,
            "min_height": null,
            "min_width": null,
            "object_fit": null,
            "object_position": null,
            "order": null,
            "overflow": null,
            "overflow_x": null,
            "overflow_y": null,
            "padding": null,
            "right": null,
            "top": null,
            "visibility": null,
            "width": null
          }
        },
        "3d6217d89f1543829181fdfbe34eabde": {
          "model_module": "@jupyter-widgets/base",
          "model_module_version": "1.2.0",
          "model_name": "LayoutModel",
          "state": {
            "_model_module": "@jupyter-widgets/base",
            "_model_module_version": "1.2.0",
            "_model_name": "LayoutModel",
            "_view_count": null,
            "_view_module": "@jupyter-widgets/base",
            "_view_module_version": "1.2.0",
            "_view_name": "LayoutView",
            "align_content": null,
            "align_items": null,
            "align_self": null,
            "border": null,
            "bottom": null,
            "display": null,
            "flex": null,
            "flex_flow": null,
            "grid_area": null,
            "grid_auto_columns": null,
            "grid_auto_flow": null,
            "grid_auto_rows": null,
            "grid_column": null,
            "grid_gap": null,
            "grid_row": null,
            "grid_template_areas": null,
            "grid_template_columns": null,
            "grid_template_rows": null,
            "height": null,
            "justify_content": null,
            "justify_items": null,
            "left": null,
            "margin": null,
            "max_height": null,
            "max_width": null,
            "min_height": null,
            "min_width": null,
            "object_fit": null,
            "object_position": null,
            "order": null,
            "overflow": null,
            "overflow_x": null,
            "overflow_y": null,
            "padding": null,
            "right": null,
            "top": null,
            "visibility": null,
            "width": null
          }
        },
        "3f0651f68972475780fd148fe6612e82": {
          "model_module": "@jupyter-widgets/controls",
          "model_module_version": "1.5.0",
          "model_name": "ProgressStyleModel",
          "state": {
            "_model_module": "@jupyter-widgets/controls",
            "_model_module_version": "1.5.0",
            "_model_name": "ProgressStyleModel",
            "_view_count": null,
            "_view_module": "@jupyter-widgets/base",
            "_view_module_version": "1.2.0",
            "_view_name": "StyleView",
            "bar_color": null,
            "description_width": ""
          }
        },
        "41461b48c3d44ca7a4b0d1e511f8b63b": {
          "model_module": "@jupyter-widgets/controls",
          "model_module_version": "1.5.0",
          "model_name": "ProgressStyleModel",
          "state": {
            "_model_module": "@jupyter-widgets/controls",
            "_model_module_version": "1.5.0",
            "_model_name": "ProgressStyleModel",
            "_view_count": null,
            "_view_module": "@jupyter-widgets/base",
            "_view_module_version": "1.2.0",
            "_view_name": "StyleView",
            "bar_color": null,
            "description_width": ""
          }
        },
        "4303017d1ea54f70b8f1649efb48263a": {
          "model_module": "@jupyter-widgets/base",
          "model_module_version": "1.2.0",
          "model_name": "LayoutModel",
          "state": {
            "_model_module": "@jupyter-widgets/base",
            "_model_module_version": "1.2.0",
            "_model_name": "LayoutModel",
            "_view_count": null,
            "_view_module": "@jupyter-widgets/base",
            "_view_module_version": "1.2.0",
            "_view_name": "LayoutView",
            "align_content": null,
            "align_items": null,
            "align_self": null,
            "border": null,
            "bottom": null,
            "display": null,
            "flex": null,
            "flex_flow": null,
            "grid_area": null,
            "grid_auto_columns": null,
            "grid_auto_flow": null,
            "grid_auto_rows": null,
            "grid_column": null,
            "grid_gap": null,
            "grid_row": null,
            "grid_template_areas": null,
            "grid_template_columns": null,
            "grid_template_rows": null,
            "height": null,
            "justify_content": null,
            "justify_items": null,
            "left": null,
            "margin": null,
            "max_height": null,
            "max_width": null,
            "min_height": null,
            "min_width": null,
            "object_fit": null,
            "object_position": null,
            "order": null,
            "overflow": null,
            "overflow_x": null,
            "overflow_y": null,
            "padding": null,
            "right": null,
            "top": null,
            "visibility": null,
            "width": null
          }
        },
        "48187e923b8e4ee5ad3941ce50172c2b": {
          "model_module": "@jupyter-widgets/controls",
          "model_module_version": "1.5.0",
          "model_name": "DescriptionStyleModel",
          "state": {
            "_model_module": "@jupyter-widgets/controls",
            "_model_module_version": "1.5.0",
            "_model_name": "DescriptionStyleModel",
            "_view_count": null,
            "_view_module": "@jupyter-widgets/base",
            "_view_module_version": "1.2.0",
            "_view_name": "StyleView",
            "description_width": ""
          }
        },
        "4ad3cda4090347988b115e02181aeb09": {
          "model_module": "@jupyter-widgets/controls",
          "model_module_version": "1.5.0",
          "model_name": "DescriptionStyleModel",
          "state": {
            "_model_module": "@jupyter-widgets/controls",
            "_model_module_version": "1.5.0",
            "_model_name": "DescriptionStyleModel",
            "_view_count": null,
            "_view_module": "@jupyter-widgets/base",
            "_view_module_version": "1.2.0",
            "_view_name": "StyleView",
            "description_width": ""
          }
        },
        "532ae59b8fe84a87b84f7fe5a275e0e0": {
          "model_module": "@jupyter-widgets/controls",
          "model_module_version": "1.5.0",
          "model_name": "DescriptionStyleModel",
          "state": {
            "_model_module": "@jupyter-widgets/controls",
            "_model_module_version": "1.5.0",
            "_model_name": "DescriptionStyleModel",
            "_view_count": null,
            "_view_module": "@jupyter-widgets/base",
            "_view_module_version": "1.2.0",
            "_view_name": "StyleView",
            "description_width": ""
          }
        },
        "534bb37dc08147e7ba9a974672a1e3a1": {
          "model_module": "@jupyter-widgets/controls",
          "model_module_version": "1.5.0",
          "model_name": "FloatProgressModel",
          "state": {
            "_dom_classes": [],
            "_model_module": "@jupyter-widgets/controls",
            "_model_module_version": "1.5.0",
            "_model_name": "FloatProgressModel",
            "_view_count": null,
            "_view_module": "@jupyter-widgets/controls",
            "_view_module_version": "1.5.0",
            "_view_name": "ProgressView",
            "bar_style": "success",
            "description": "",
            "description_tooltip": null,
            "layout": "IPY_MODEL_a866388543d84597a7e5d0f1970cb665",
            "max": 267954768,
            "min": 0,
            "orientation": "horizontal",
            "style": "IPY_MODEL_3f0651f68972475780fd148fe6612e82",
            "value": 267954768
          }
        },
        "551227c5e03f428c8e1033446707ce2c": {
          "model_module": "@jupyter-widgets/base",
          "model_module_version": "1.2.0",
          "model_name": "LayoutModel",
          "state": {
            "_model_module": "@jupyter-widgets/base",
            "_model_module_version": "1.2.0",
            "_model_name": "LayoutModel",
            "_view_count": null,
            "_view_module": "@jupyter-widgets/base",
            "_view_module_version": "1.2.0",
            "_view_name": "LayoutView",
            "align_content": null,
            "align_items": null,
            "align_self": null,
            "border": null,
            "bottom": null,
            "display": null,
            "flex": null,
            "flex_flow": null,
            "grid_area": null,
            "grid_auto_columns": null,
            "grid_auto_flow": null,
            "grid_auto_rows": null,
            "grid_column": null,
            "grid_gap": null,
            "grid_row": null,
            "grid_template_areas": null,
            "grid_template_columns": null,
            "grid_template_rows": null,
            "height": null,
            "justify_content": null,
            "justify_items": null,
            "left": null,
            "margin": null,
            "max_height": null,
            "max_width": null,
            "min_height": null,
            "min_width": null,
            "object_fit": null,
            "object_position": null,
            "order": null,
            "overflow": null,
            "overflow_x": null,
            "overflow_y": null,
            "padding": null,
            "right": null,
            "top": null,
            "visibility": null,
            "width": null
          }
        },
        "55ffd0116b06477c880b7df39dab6903": {
          "model_module": "@jupyter-widgets/controls",
          "model_module_version": "1.5.0",
          "model_name": "FloatProgressModel",
          "state": {
            "_dom_classes": [],
            "_model_module": "@jupyter-widgets/controls",
            "_model_module_version": "1.5.0",
            "_model_name": "FloatProgressModel",
            "_view_count": null,
            "_view_module": "@jupyter-widgets/controls",
            "_view_module_version": "1.5.0",
            "_view_name": "ProgressView",
            "bar_style": "success",
            "description": "",
            "description_tooltip": null,
            "layout": "IPY_MODEL_197a0a39c27f49b98864f9944dd4d463",
            "max": 466062,
            "min": 0,
            "orientation": "horizontal",
            "style": "IPY_MODEL_0efc26f7fe9a40d5ab6c4096f49f8d36",
            "value": 466062
          }
        },
        "56746f8a4bd1468c9df40e9487c62888": {
          "model_module": "@jupyter-widgets/controls",
          "model_module_version": "1.5.0",
          "model_name": "HBoxModel",
          "state": {
            "_dom_classes": [],
            "_model_module": "@jupyter-widgets/controls",
            "_model_module_version": "1.5.0",
            "_model_name": "HBoxModel",
            "_view_count": null,
            "_view_module": "@jupyter-widgets/controls",
            "_view_module_version": "1.5.0",
            "_view_name": "HBoxView",
            "box_style": "",
            "children": [
              "IPY_MODEL_67c631ac1de545d0b486d1bbf586a69a",
              "IPY_MODEL_9c6332c45bd54164a92b2b1d6fd9d8cb",
              "IPY_MODEL_5e628d40d1dc44f0b53841a7dacf6fe4"
            ],
            "layout": "IPY_MODEL_284b1adb1102406c905122945f28f542"
          }
        },
        "59c278dba7714a31b9f9e416e295a62f": {
          "model_module": "@jupyter-widgets/controls",
          "model_module_version": "1.5.0",
          "model_name": "DescriptionStyleModel",
          "state": {
            "_model_module": "@jupyter-widgets/controls",
            "_model_module_version": "1.5.0",
            "_model_name": "DescriptionStyleModel",
            "_view_count": null,
            "_view_module": "@jupyter-widgets/base",
            "_view_module_version": "1.2.0",
            "_view_name": "StyleView",
            "description_width": ""
          }
        },
        "5e628d40d1dc44f0b53841a7dacf6fe4": {
          "model_module": "@jupyter-widgets/controls",
          "model_module_version": "1.5.0",
          "model_name": "HTMLModel",
          "state": {
            "_dom_classes": [],
            "_model_module": "@jupyter-widgets/controls",
            "_model_module_version": "1.5.0",
            "_model_name": "HTMLModel",
            "_view_count": null,
            "_view_module": "@jupyter-widgets/controls",
            "_view_module_version": "1.5.0",
            "_view_name": "HTMLView",
            "description": "",
            "description_tooltip": null,
            "layout": "IPY_MODEL_4303017d1ea54f70b8f1649efb48263a",
            "placeholder": "​",
            "style": "IPY_MODEL_e8ad9b5e2ef2412c93510faaa4bfa7c3",
            "value": " 232k/232k [00:00&lt;00:00, 2.87MB/s]"
          }
        },
        "67c631ac1de545d0b486d1bbf586a69a": {
          "model_module": "@jupyter-widgets/controls",
          "model_module_version": "1.5.0",
          "model_name": "HTMLModel",
          "state": {
            "_dom_classes": [],
            "_model_module": "@jupyter-widgets/controls",
            "_model_module_version": "1.5.0",
            "_model_name": "HTMLModel",
            "_view_count": null,
            "_view_module": "@jupyter-widgets/controls",
            "_view_module_version": "1.5.0",
            "_view_name": "HTMLView",
            "description": "",
            "description_tooltip": null,
            "layout": "IPY_MODEL_ccc1e0c5a2644b648c9864b4367f5e7c",
            "placeholder": "​",
            "style": "IPY_MODEL_15046d48ad37464a95c35bde66d1f661",
            "value": "vocab.txt: 100%"
          }
        },
        "688724714eaf4074b82593090357dbf9": {
          "model_module": "@jupyter-widgets/base",
          "model_module_version": "1.2.0",
          "model_name": "LayoutModel",
          "state": {
            "_model_module": "@jupyter-widgets/base",
            "_model_module_version": "1.2.0",
            "_model_name": "LayoutModel",
            "_view_count": null,
            "_view_module": "@jupyter-widgets/base",
            "_view_module_version": "1.2.0",
            "_view_name": "LayoutView",
            "align_content": null,
            "align_items": null,
            "align_self": null,
            "border": null,
            "bottom": null,
            "display": null,
            "flex": null,
            "flex_flow": null,
            "grid_area": null,
            "grid_auto_columns": null,
            "grid_auto_flow": null,
            "grid_auto_rows": null,
            "grid_column": null,
            "grid_gap": null,
            "grid_row": null,
            "grid_template_areas": null,
            "grid_template_columns": null,
            "grid_template_rows": null,
            "height": null,
            "justify_content": null,
            "justify_items": null,
            "left": null,
            "margin": null,
            "max_height": null,
            "max_width": null,
            "min_height": null,
            "min_width": null,
            "object_fit": null,
            "object_position": null,
            "order": null,
            "overflow": null,
            "overflow_x": null,
            "overflow_y": null,
            "padding": null,
            "right": null,
            "top": null,
            "visibility": null,
            "width": null
          }
        },
        "7543dadeb79e429f9f56e6f7652c8737": {
          "model_module": "@jupyter-widgets/controls",
          "model_module_version": "1.5.0",
          "model_name": "DescriptionStyleModel",
          "state": {
            "_model_module": "@jupyter-widgets/controls",
            "_model_module_version": "1.5.0",
            "_model_name": "DescriptionStyleModel",
            "_view_count": null,
            "_view_module": "@jupyter-widgets/base",
            "_view_module_version": "1.2.0",
            "_view_name": "StyleView",
            "description_width": ""
          }
        },
        "7be10c9217354c6cbc2b73c3a5df31ca": {
          "model_module": "@jupyter-widgets/base",
          "model_module_version": "1.2.0",
          "model_name": "LayoutModel",
          "state": {
            "_model_module": "@jupyter-widgets/base",
            "_model_module_version": "1.2.0",
            "_model_name": "LayoutModel",
            "_view_count": null,
            "_view_module": "@jupyter-widgets/base",
            "_view_module_version": "1.2.0",
            "_view_name": "LayoutView",
            "align_content": null,
            "align_items": null,
            "align_self": null,
            "border": null,
            "bottom": null,
            "display": null,
            "flex": null,
            "flex_flow": null,
            "grid_area": null,
            "grid_auto_columns": null,
            "grid_auto_flow": null,
            "grid_auto_rows": null,
            "grid_column": null,
            "grid_gap": null,
            "grid_row": null,
            "grid_template_areas": null,
            "grid_template_columns": null,
            "grid_template_rows": null,
            "height": null,
            "justify_content": null,
            "justify_items": null,
            "left": null,
            "margin": null,
            "max_height": null,
            "max_width": null,
            "min_height": null,
            "min_width": null,
            "object_fit": null,
            "object_position": null,
            "order": null,
            "overflow": null,
            "overflow_x": null,
            "overflow_y": null,
            "padding": null,
            "right": null,
            "top": null,
            "visibility": null,
            "width": null
          }
        },
        "8411c76264784f1f834699000d998760": {
          "model_module": "@jupyter-widgets/controls",
          "model_module_version": "1.5.0",
          "model_name": "HTMLModel",
          "state": {
            "_dom_classes": [],
            "_model_module": "@jupyter-widgets/controls",
            "_model_module_version": "1.5.0",
            "_model_name": "HTMLModel",
            "_view_count": null,
            "_view_module": "@jupyter-widgets/controls",
            "_view_module_version": "1.5.0",
            "_view_name": "HTMLView",
            "description": "",
            "description_tooltip": null,
            "layout": "IPY_MODEL_551227c5e03f428c8e1033446707ce2c",
            "placeholder": "​",
            "style": "IPY_MODEL_b28e58f6e40d4e5aa50073ae876ff91c",
            "value": "config.json: 100%"
          }
        },
        "87396a552c2b49eea62c9a5a7656a090": {
          "model_module": "@jupyter-widgets/controls",
          "model_module_version": "1.5.0",
          "model_name": "ProgressStyleModel",
          "state": {
            "_model_module": "@jupyter-widgets/controls",
            "_model_module_version": "1.5.0",
            "_model_name": "ProgressStyleModel",
            "_view_count": null,
            "_view_module": "@jupyter-widgets/base",
            "_view_module_version": "1.2.0",
            "_view_name": "StyleView",
            "bar_color": null,
            "description_width": ""
          }
        },
        "8e1738f277cb41a38924a008740d832c": {
          "model_module": "@jupyter-widgets/base",
          "model_module_version": "1.2.0",
          "model_name": "LayoutModel",
          "state": {
            "_model_module": "@jupyter-widgets/base",
            "_model_module_version": "1.2.0",
            "_model_name": "LayoutModel",
            "_view_count": null,
            "_view_module": "@jupyter-widgets/base",
            "_view_module_version": "1.2.0",
            "_view_name": "LayoutView",
            "align_content": null,
            "align_items": null,
            "align_self": null,
            "border": null,
            "bottom": null,
            "display": null,
            "flex": null,
            "flex_flow": null,
            "grid_area": null,
            "grid_auto_columns": null,
            "grid_auto_flow": null,
            "grid_auto_rows": null,
            "grid_column": null,
            "grid_gap": null,
            "grid_row": null,
            "grid_template_areas": null,
            "grid_template_columns": null,
            "grid_template_rows": null,
            "height": null,
            "justify_content": null,
            "justify_items": null,
            "left": null,
            "margin": null,
            "max_height": null,
            "max_width": null,
            "min_height": null,
            "min_width": null,
            "object_fit": null,
            "object_position": null,
            "order": null,
            "overflow": null,
            "overflow_x": null,
            "overflow_y": null,
            "padding": null,
            "right": null,
            "top": null,
            "visibility": null,
            "width": null
          }
        },
        "91c95e0b445841d7b60726278c2463d7": {
          "model_module": "@jupyter-widgets/controls",
          "model_module_version": "1.5.0",
          "model_name": "HTMLModel",
          "state": {
            "_dom_classes": [],
            "_model_module": "@jupyter-widgets/controls",
            "_model_module_version": "1.5.0",
            "_model_name": "HTMLModel",
            "_view_count": null,
            "_view_module": "@jupyter-widgets/controls",
            "_view_module_version": "1.5.0",
            "_view_name": "HTMLView",
            "description": "",
            "description_tooltip": null,
            "layout": "IPY_MODEL_94fb05a904944ab180642669477b684f",
            "placeholder": "​",
            "style": "IPY_MODEL_48187e923b8e4ee5ad3941ce50172c2b",
            "value": " 48.0/48.0 [00:00&lt;00:00, 2.69kB/s]"
          }
        },
        "94fb05a904944ab180642669477b684f": {
          "model_module": "@jupyter-widgets/base",
          "model_module_version": "1.2.0",
          "model_name": "LayoutModel",
          "state": {
            "_model_module": "@jupyter-widgets/base",
            "_model_module_version": "1.2.0",
            "_model_name": "LayoutModel",
            "_view_count": null,
            "_view_module": "@jupyter-widgets/base",
            "_view_module_version": "1.2.0",
            "_view_name": "LayoutView",
            "align_content": null,
            "align_items": null,
            "align_self": null,
            "border": null,
            "bottom": null,
            "display": null,
            "flex": null,
            "flex_flow": null,
            "grid_area": null,
            "grid_auto_columns": null,
            "grid_auto_flow": null,
            "grid_auto_rows": null,
            "grid_column": null,
            "grid_gap": null,
            "grid_row": null,
            "grid_template_areas": null,
            "grid_template_columns": null,
            "grid_template_rows": null,
            "height": null,
            "justify_content": null,
            "justify_items": null,
            "left": null,
            "margin": null,
            "max_height": null,
            "max_width": null,
            "min_height": null,
            "min_width": null,
            "object_fit": null,
            "object_position": null,
            "order": null,
            "overflow": null,
            "overflow_x": null,
            "overflow_y": null,
            "padding": null,
            "right": null,
            "top": null,
            "visibility": null,
            "width": null
          }
        },
        "95a49b69fef743918a4cbfa4760dce25": {
          "model_module": "@jupyter-widgets/controls",
          "model_module_version": "1.5.0",
          "model_name": "HTMLModel",
          "state": {
            "_dom_classes": [],
            "_model_module": "@jupyter-widgets/controls",
            "_model_module_version": "1.5.0",
            "_model_name": "HTMLModel",
            "_view_count": null,
            "_view_module": "@jupyter-widgets/controls",
            "_view_module_version": "1.5.0",
            "_view_name": "HTMLView",
            "description": "",
            "description_tooltip": null,
            "layout": "IPY_MODEL_3cfdebd67dea4f38902023344566d43a",
            "placeholder": "​",
            "style": "IPY_MODEL_7543dadeb79e429f9f56e6f7652c8737",
            "value": " 466k/466k [00:00&lt;00:00, 3.54MB/s]"
          }
        },
        "9c6332c45bd54164a92b2b1d6fd9d8cb": {
          "model_module": "@jupyter-widgets/controls",
          "model_module_version": "1.5.0",
          "model_name": "FloatProgressModel",
          "state": {
            "_dom_classes": [],
            "_model_module": "@jupyter-widgets/controls",
            "_model_module_version": "1.5.0",
            "_model_name": "FloatProgressModel",
            "_view_count": null,
            "_view_module": "@jupyter-widgets/controls",
            "_view_module_version": "1.5.0",
            "_view_name": "ProgressView",
            "bar_style": "success",
            "description": "",
            "description_tooltip": null,
            "layout": "IPY_MODEL_1920fed8d8f344ed81020a5e85f82837",
            "max": 231508,
            "min": 0,
            "orientation": "horizontal",
            "style": "IPY_MODEL_87396a552c2b49eea62c9a5a7656a090",
            "value": 231508
          }
        },
        "9ea94fdc87ef433aabc1da00a4f99f3c": {
          "model_module": "@jupyter-widgets/base",
          "model_module_version": "1.2.0",
          "model_name": "LayoutModel",
          "state": {
            "_model_module": "@jupyter-widgets/base",
            "_model_module_version": "1.2.0",
            "_model_name": "LayoutModel",
            "_view_count": null,
            "_view_module": "@jupyter-widgets/base",
            "_view_module_version": "1.2.0",
            "_view_name": "LayoutView",
            "align_content": null,
            "align_items": null,
            "align_self": null,
            "border": null,
            "bottom": null,
            "display": null,
            "flex": null,
            "flex_flow": null,
            "grid_area": null,
            "grid_auto_columns": null,
            "grid_auto_flow": null,
            "grid_auto_rows": null,
            "grid_column": null,
            "grid_gap": null,
            "grid_row": null,
            "grid_template_areas": null,
            "grid_template_columns": null,
            "grid_template_rows": null,
            "height": null,
            "justify_content": null,
            "justify_items": null,
            "left": null,
            "margin": null,
            "max_height": null,
            "max_width": null,
            "min_height": null,
            "min_width": null,
            "object_fit": null,
            "object_position": null,
            "order": null,
            "overflow": null,
            "overflow_x": null,
            "overflow_y": null,
            "padding": null,
            "right": null,
            "top": null,
            "visibility": null,
            "width": null
          }
        },
        "a73c8ba3b6c94ca7b2b8c2acc786699d": {
          "model_module": "@jupyter-widgets/controls",
          "model_module_version": "1.5.0",
          "model_name": "HBoxModel",
          "state": {
            "_dom_classes": [],
            "_model_module": "@jupyter-widgets/controls",
            "_model_module_version": "1.5.0",
            "_model_name": "HBoxModel",
            "_view_count": null,
            "_view_module": "@jupyter-widgets/controls",
            "_view_module_version": "1.5.0",
            "_view_name": "HBoxView",
            "box_style": "",
            "children": [
              "IPY_MODEL_b6e58bb33b564f5da522d79aaeec4665",
              "IPY_MODEL_534bb37dc08147e7ba9a974672a1e3a1",
              "IPY_MODEL_dcc980625e384631ae104a7c01b750d3"
            ],
            "layout": "IPY_MODEL_688724714eaf4074b82593090357dbf9"
          }
        },
        "a866388543d84597a7e5d0f1970cb665": {
          "model_module": "@jupyter-widgets/base",
          "model_module_version": "1.2.0",
          "model_name": "LayoutModel",
          "state": {
            "_model_module": "@jupyter-widgets/base",
            "_model_module_version": "1.2.0",
            "_model_name": "LayoutModel",
            "_view_count": null,
            "_view_module": "@jupyter-widgets/base",
            "_view_module_version": "1.2.0",
            "_view_name": "LayoutView",
            "align_content": null,
            "align_items": null,
            "align_self": null,
            "border": null,
            "bottom": null,
            "display": null,
            "flex": null,
            "flex_flow": null,
            "grid_area": null,
            "grid_auto_columns": null,
            "grid_auto_flow": null,
            "grid_auto_rows": null,
            "grid_column": null,
            "grid_gap": null,
            "grid_row": null,
            "grid_template_areas": null,
            "grid_template_columns": null,
            "grid_template_rows": null,
            "height": null,
            "justify_content": null,
            "justify_items": null,
            "left": null,
            "margin": null,
            "max_height": null,
            "max_width": null,
            "min_height": null,
            "min_width": null,
            "object_fit": null,
            "object_position": null,
            "order": null,
            "overflow": null,
            "overflow_x": null,
            "overflow_y": null,
            "padding": null,
            "right": null,
            "top": null,
            "visibility": null,
            "width": null
          }
        },
        "aad14f9c73144572908a6426f92c75c5": {
          "model_module": "@jupyter-widgets/controls",
          "model_module_version": "1.5.0",
          "model_name": "FloatProgressModel",
          "state": {
            "_dom_classes": [],
            "_model_module": "@jupyter-widgets/controls",
            "_model_module_version": "1.5.0",
            "_model_name": "FloatProgressModel",
            "_view_count": null,
            "_view_module": "@jupyter-widgets/controls",
            "_view_module_version": "1.5.0",
            "_view_name": "ProgressView",
            "bar_style": "success",
            "description": "",
            "description_tooltip": null,
            "layout": "IPY_MODEL_3d6217d89f1543829181fdfbe34eabde",
            "max": 48,
            "min": 0,
            "orientation": "horizontal",
            "style": "IPY_MODEL_41461b48c3d44ca7a4b0d1e511f8b63b",
            "value": 48
          }
        },
        "abf5633ee06744029071e99b48f40cd4": {
          "model_module": "@jupyter-widgets/controls",
          "model_module_version": "1.5.0",
          "model_name": "HTMLModel",
          "state": {
            "_dom_classes": [],
            "_model_module": "@jupyter-widgets/controls",
            "_model_module_version": "1.5.0",
            "_model_name": "HTMLModel",
            "_view_count": null,
            "_view_module": "@jupyter-widgets/controls",
            "_view_module_version": "1.5.0",
            "_view_name": "HTMLView",
            "description": "",
            "description_tooltip": null,
            "layout": "IPY_MODEL_9ea94fdc87ef433aabc1da00a4f99f3c",
            "placeholder": "​",
            "style": "IPY_MODEL_59c278dba7714a31b9f9e416e295a62f",
            "value": " 483/483 [00:00&lt;00:00, 33.2kB/s]"
          }
        },
        "b28e58f6e40d4e5aa50073ae876ff91c": {
          "model_module": "@jupyter-widgets/controls",
          "model_module_version": "1.5.0",
          "model_name": "DescriptionStyleModel",
          "state": {
            "_model_module": "@jupyter-widgets/controls",
            "_model_module_version": "1.5.0",
            "_model_name": "DescriptionStyleModel",
            "_view_count": null,
            "_view_module": "@jupyter-widgets/base",
            "_view_module_version": "1.2.0",
            "_view_name": "StyleView",
            "description_width": ""
          }
        },
        "b6e58bb33b564f5da522d79aaeec4665": {
          "model_module": "@jupyter-widgets/controls",
          "model_module_version": "1.5.0",
          "model_name": "HTMLModel",
          "state": {
            "_dom_classes": [],
            "_model_module": "@jupyter-widgets/controls",
            "_model_module_version": "1.5.0",
            "_model_name": "HTMLModel",
            "_view_count": null,
            "_view_module": "@jupyter-widgets/controls",
            "_view_module_version": "1.5.0",
            "_view_name": "HTMLView",
            "description": "",
            "description_tooltip": null,
            "layout": "IPY_MODEL_0a4556fc63244a1fb6be688b68bd5a5b",
            "placeholder": "​",
            "style": "IPY_MODEL_4ad3cda4090347988b115e02181aeb09",
            "value": "model.safetensors: 100%"
          }
        },
        "bd600bd9bb14455082207b42f3954b91": {
          "model_module": "@jupyter-widgets/controls",
          "model_module_version": "1.5.0",
          "model_name": "HBoxModel",
          "state": {
            "_dom_classes": [],
            "_model_module": "@jupyter-widgets/controls",
            "_model_module_version": "1.5.0",
            "_model_name": "HBoxModel",
            "_view_count": null,
            "_view_module": "@jupyter-widgets/controls",
            "_view_module_version": "1.5.0",
            "_view_name": "HBoxView",
            "box_style": "",
            "children": [
              "IPY_MODEL_f2a055215253483482a1bd396c18ac67",
              "IPY_MODEL_aad14f9c73144572908a6426f92c75c5",
              "IPY_MODEL_91c95e0b445841d7b60726278c2463d7"
            ],
            "layout": "IPY_MODEL_8e1738f277cb41a38924a008740d832c"
          }
        },
        "c2f06ffd1d0b4722aae4e999daf2d15f": {
          "model_module": "@jupyter-widgets/controls",
          "model_module_version": "1.5.0",
          "model_name": "DescriptionStyleModel",
          "state": {
            "_model_module": "@jupyter-widgets/controls",
            "_model_module_version": "1.5.0",
            "_model_name": "DescriptionStyleModel",
            "_view_count": null,
            "_view_module": "@jupyter-widgets/base",
            "_view_module_version": "1.2.0",
            "_view_name": "StyleView",
            "description_width": ""
          }
        },
        "c7ba4ed9a858424198cabe55685a6134": {
          "model_module": "@jupyter-widgets/controls",
          "model_module_version": "1.5.0",
          "model_name": "HTMLModel",
          "state": {
            "_dom_classes": [],
            "_model_module": "@jupyter-widgets/controls",
            "_model_module_version": "1.5.0",
            "_model_name": "HTMLModel",
            "_view_count": null,
            "_view_module": "@jupyter-widgets/controls",
            "_view_module_version": "1.5.0",
            "_view_name": "HTMLView",
            "description": "",
            "description_tooltip": null,
            "layout": "IPY_MODEL_125466eb1be449509c90830b6b56f6d6",
            "placeholder": "​",
            "style": "IPY_MODEL_532ae59b8fe84a87b84f7fe5a275e0e0",
            "value": "tokenizer.json: 100%"
          }
        },
        "ccc1e0c5a2644b648c9864b4367f5e7c": {
          "model_module": "@jupyter-widgets/base",
          "model_module_version": "1.2.0",
          "model_name": "LayoutModel",
          "state": {
            "_model_module": "@jupyter-widgets/base",
            "_model_module_version": "1.2.0",
            "_model_name": "LayoutModel",
            "_view_count": null,
            "_view_module": "@jupyter-widgets/base",
            "_view_module_version": "1.2.0",
            "_view_name": "LayoutView",
            "align_content": null,
            "align_items": null,
            "align_self": null,
            "border": null,
            "bottom": null,
            "display": null,
            "flex": null,
            "flex_flow": null,
            "grid_area": null,
            "grid_auto_columns": null,
            "grid_auto_flow": null,
            "grid_auto_rows": null,
            "grid_column": null,
            "grid_gap": null,
            "grid_row": null,
            "grid_template_areas": null,
            "grid_template_columns": null,
            "grid_template_rows": null,
            "height": null,
            "justify_content": null,
            "justify_items": null,
            "left": null,
            "margin": null,
            "max_height": null,
            "max_width": null,
            "min_height": null,
            "min_width": null,
            "object_fit": null,
            "object_position": null,
            "order": null,
            "overflow": null,
            "overflow_x": null,
            "overflow_y": null,
            "padding": null,
            "right": null,
            "top": null,
            "visibility": null,
            "width": null
          }
        },
        "da8a6ca45b12462aaf719816f6a98dbd": {
          "model_module": "@jupyter-widgets/controls",
          "model_module_version": "1.5.0",
          "model_name": "DescriptionStyleModel",
          "state": {
            "_model_module": "@jupyter-widgets/controls",
            "_model_module_version": "1.5.0",
            "_model_name": "DescriptionStyleModel",
            "_view_count": null,
            "_view_module": "@jupyter-widgets/base",
            "_view_module_version": "1.2.0",
            "_view_name": "StyleView",
            "description_width": ""
          }
        },
        "dc34d95a86b34714b302c1dd7ac3fc30": {
          "model_module": "@jupyter-widgets/controls",
          "model_module_version": "1.5.0",
          "model_name": "HBoxModel",
          "state": {
            "_dom_classes": [],
            "_model_module": "@jupyter-widgets/controls",
            "_model_module_version": "1.5.0",
            "_model_name": "HBoxModel",
            "_view_count": null,
            "_view_module": "@jupyter-widgets/controls",
            "_view_module_version": "1.5.0",
            "_view_name": "HBoxView",
            "box_style": "",
            "children": [
              "IPY_MODEL_8411c76264784f1f834699000d998760",
              "IPY_MODEL_0aa9bfc6d361472ca90eae34db0fb399",
              "IPY_MODEL_abf5633ee06744029071e99b48f40cd4"
            ],
            "layout": "IPY_MODEL_7be10c9217354c6cbc2b73c3a5df31ca"
          }
        },
        "dcc980625e384631ae104a7c01b750d3": {
          "model_module": "@jupyter-widgets/controls",
          "model_module_version": "1.5.0",
          "model_name": "HTMLModel",
          "state": {
            "_dom_classes": [],
            "_model_module": "@jupyter-widgets/controls",
            "_model_module_version": "1.5.0",
            "_model_name": "HTMLModel",
            "_view_count": null,
            "_view_module": "@jupyter-widgets/controls",
            "_view_module_version": "1.5.0",
            "_view_name": "HTMLView",
            "description": "",
            "description_tooltip": null,
            "layout": "IPY_MODEL_e84a68b0d1174f21b93758e70f92963b",
            "placeholder": "​",
            "style": "IPY_MODEL_da8a6ca45b12462aaf719816f6a98dbd",
            "value": " 268M/268M [00:01&lt;00:00, 241MB/s]"
          }
        },
        "e6ed6cf2ad2c4d64ad4ea97c97295f71": {
          "model_module": "@jupyter-widgets/controls",
          "model_module_version": "1.5.0",
          "model_name": "HBoxModel",
          "state": {
            "_dom_classes": [],
            "_model_module": "@jupyter-widgets/controls",
            "_model_module_version": "1.5.0",
            "_model_name": "HBoxModel",
            "_view_count": null,
            "_view_module": "@jupyter-widgets/controls",
            "_view_module_version": "1.5.0",
            "_view_name": "HBoxView",
            "box_style": "",
            "children": [
              "IPY_MODEL_c7ba4ed9a858424198cabe55685a6134",
              "IPY_MODEL_55ffd0116b06477c880b7df39dab6903",
              "IPY_MODEL_95a49b69fef743918a4cbfa4760dce25"
            ],
            "layout": "IPY_MODEL_24d27ffe67cc4d09ac72c08d6b52ec0f"
          }
        },
        "e84a68b0d1174f21b93758e70f92963b": {
          "model_module": "@jupyter-widgets/base",
          "model_module_version": "1.2.0",
          "model_name": "LayoutModel",
          "state": {
            "_model_module": "@jupyter-widgets/base",
            "_model_module_version": "1.2.0",
            "_model_name": "LayoutModel",
            "_view_count": null,
            "_view_module": "@jupyter-widgets/base",
            "_view_module_version": "1.2.0",
            "_view_name": "LayoutView",
            "align_content": null,
            "align_items": null,
            "align_self": null,
            "border": null,
            "bottom": null,
            "display": null,
            "flex": null,
            "flex_flow": null,
            "grid_area": null,
            "grid_auto_columns": null,
            "grid_auto_flow": null,
            "grid_auto_rows": null,
            "grid_column": null,
            "grid_gap": null,
            "grid_row": null,
            "grid_template_areas": null,
            "grid_template_columns": null,
            "grid_template_rows": null,
            "height": null,
            "justify_content": null,
            "justify_items": null,
            "left": null,
            "margin": null,
            "max_height": null,
            "max_width": null,
            "min_height": null,
            "min_width": null,
            "object_fit": null,
            "object_position": null,
            "order": null,
            "overflow": null,
            "overflow_x": null,
            "overflow_y": null,
            "padding": null,
            "right": null,
            "top": null,
            "visibility": null,
            "width": null
          }
        },
        "e8ad9b5e2ef2412c93510faaa4bfa7c3": {
          "model_module": "@jupyter-widgets/controls",
          "model_module_version": "1.5.0",
          "model_name": "DescriptionStyleModel",
          "state": {
            "_model_module": "@jupyter-widgets/controls",
            "_model_module_version": "1.5.0",
            "_model_name": "DescriptionStyleModel",
            "_view_count": null,
            "_view_module": "@jupyter-widgets/base",
            "_view_module_version": "1.2.0",
            "_view_name": "StyleView",
            "description_width": ""
          }
        },
        "f2a055215253483482a1bd396c18ac67": {
          "model_module": "@jupyter-widgets/controls",
          "model_module_version": "1.5.0",
          "model_name": "HTMLModel",
          "state": {
            "_dom_classes": [],
            "_model_module": "@jupyter-widgets/controls",
            "_model_module_version": "1.5.0",
            "_model_name": "HTMLModel",
            "_view_count": null,
            "_view_module": "@jupyter-widgets/controls",
            "_view_module_version": "1.5.0",
            "_view_name": "HTMLView",
            "description": "",
            "description_tooltip": null,
            "layout": "IPY_MODEL_f2e6af808df94f2cb375369ca6574d7c",
            "placeholder": "​",
            "style": "IPY_MODEL_c2f06ffd1d0b4722aae4e999daf2d15f",
            "value": "tokenizer_config.json: 100%"
          }
        },
        "f2e6af808df94f2cb375369ca6574d7c": {
          "model_module": "@jupyter-widgets/base",
          "model_module_version": "1.2.0",
          "model_name": "LayoutModel",
          "state": {
            "_model_module": "@jupyter-widgets/base",
            "_model_module_version": "1.2.0",
            "_model_name": "LayoutModel",
            "_view_count": null,
            "_view_module": "@jupyter-widgets/base",
            "_view_module_version": "1.2.0",
            "_view_name": "LayoutView",
            "align_content": null,
            "align_items": null,
            "align_self": null,
            "border": null,
            "bottom": null,
            "display": null,
            "flex": null,
            "flex_flow": null,
            "grid_area": null,
            "grid_auto_columns": null,
            "grid_auto_flow": null,
            "grid_auto_rows": null,
            "grid_column": null,
            "grid_gap": null,
            "grid_row": null,
            "grid_template_areas": null,
            "grid_template_columns": null,
            "grid_template_rows": null,
            "height": null,
            "justify_content": null,
            "justify_items": null,
            "left": null,
            "margin": null,
            "max_height": null,
            "max_width": null,
            "min_height": null,
            "min_width": null,
            "object_fit": null,
            "object_position": null,
            "order": null,
            "overflow": null,
            "overflow_x": null,
            "overflow_y": null,
            "padding": null,
            "right": null,
            "top": null,
            "visibility": null,
            "width": null
          }
        }
      }
    }
  },
  "nbformat": 4,
  "nbformat_minor": 5
}