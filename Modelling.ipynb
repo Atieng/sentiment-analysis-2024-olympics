{
 "cells": [
  {
   "cell_type": "markdown",
   "metadata": {},
   "source": [
    "# Modelling\n",
    "\n",
    "Importing the needed libraries"
   ]
  },
  {
   "cell_type": "code",
   "execution_count": 24,
   "metadata": {},
   "outputs": [],
   "source": [
    "import pandas as pd\n",
    "import re\n",
    "import nltk\n",
    "from nltk.corpus import stopwords\n",
    "from vaderSentiment.vaderSentiment import SentimentIntensityAnalyzer\n",
    "from nltk.stem import WordNetLemmatizer\n",
    "import warnings\n",
    "warnings.filterwarnings(\"ignore\", message=r\".*Some weights of.*not used.*\")\n",
    "from nltk.sentiment import SentimentIntensityAnalyzer\n",
    "from sklearn.pipeline import Pipeline\n",
    "from nltk.stem.porter import PorterStemmer\n",
    "from sklearn.preprocessing import StandardScaler\n",
    "from sklearn.model_selection import GridSearchCV\n",
    "from sklearn.metrics import accuracy_score\n",
    "from sklearn.model_selection import cross_val_score\n",
    "import pickle\n",
    "from sklearn.feature_extraction.text import TfidfVectorizer\n",
    "import os\n",
    "from transformers import BertTokenizer,TFBertModel\n",
    "import torch\n",
    "import numpy as np\n",
    "from sklearn.model_selection import train_test_split\n",
    "from sklearn.linear_model import LogisticRegression\n",
    "from sklearn.svm import SVC\n",
    "from sklearn.ensemble import RandomForestClassifier\n",
    "from sklearn.naive_bayes import MultinomialNB\n",
    "from sklearn.metrics import accuracy_score, classification_report, confusion_matrix, ConfusionMatrixDisplay\n",
    "from imblearn.over_sampling import SMOTE\n",
    "import matplotlib.pyplot as plt\n",
    "from sklearn.model_selection import train_test_split, GridSearchCV\n"
   ]
  },
  {
   "cell_type": "markdown",
   "metadata": {},
   "source": [
    "## Data preparation\n",
    "\n",
    "Extraction and preprocessing of unlabelled data for modelling"
   ]
  },
  {
   "cell_type": "code",
   "execution_count": 3,
   "metadata": {},
   "outputs": [
    {
     "data": {
      "text/html": [
       "<div>\n",
       "<style scoped>\n",
       "    .dataframe tbody tr th:only-of-type {\n",
       "        vertical-align: middle;\n",
       "    }\n",
       "\n",
       "    .dataframe tbody tr th {\n",
       "        vertical-align: top;\n",
       "    }\n",
       "\n",
       "    .dataframe thead th {\n",
       "        text-align: right;\n",
       "    }\n",
       "</style>\n",
       "<table border=\"1\" class=\"dataframe\">\n",
       "  <thead>\n",
       "    <tr style=\"text-align: right;\">\n",
       "      <th></th>\n",
       "      <th>Category</th>\n",
       "      <th>Keyword</th>\n",
       "      <th>Web_Page_URL</th>\n",
       "      <th>Tweet_Website</th>\n",
       "      <th>Author_Name</th>\n",
       "      <th>Author_Web_Page_URL</th>\n",
       "      <th>Tweet_Timestamp</th>\n",
       "      <th>Tweet_Content</th>\n",
       "      <th>Tweet_Image_URL</th>\n",
       "      <th>Tweet_Video_URL</th>\n",
       "      <th>Tweet_AD</th>\n",
       "      <th>Tweet_Number_of_Reviews</th>\n",
       "      <th>Tweet_Number_of_Retweets</th>\n",
       "      <th>Tweet_Number_of_Likes</th>\n",
       "      <th>Tweet_Number_of_Looks</th>\n",
       "    </tr>\n",
       "  </thead>\n",
       "  <tbody>\n",
       "    <tr>\n",
       "      <th>0</th>\n",
       "      <td>TopPost</td>\n",
       "      <td>#paris2024</td>\n",
       "      <td>https://twitter.com/search?q=#paris2024&amp;src=ty...</td>\n",
       "      <td>https://twitter.com/usabasketball/status/18216...</td>\n",
       "      <td>USA Basketball</td>\n",
       "      <td>https://twitter.com/usabasketball</td>\n",
       "      <td>2024-08-08</td>\n",
       "      <td>Olympic Legends. #USABMNT #Paris2024 #Basketball</td>\n",
       "      <td>https://pbs.twimg.com/media/GUfcvY8bYAA0fD6?fo...</td>\n",
       "      <td>https://twitter.com/usabasketball/status/18216...</td>\n",
       "      <td>False</td>\n",
       "      <td>241</td>\n",
       "      <td>7.6K</td>\n",
       "      <td>52K</td>\n",
       "      <td>3.2M</td>\n",
       "    </tr>\n",
       "    <tr>\n",
       "      <th>1</th>\n",
       "      <td>TopPost</td>\n",
       "      <td>#paris2024</td>\n",
       "      <td>https://twitter.com/search?q=#paris2024&amp;src=ty...</td>\n",
       "      <td>https://twitter.com/canlesofficial/status/1821...</td>\n",
       "      <td>Canles</td>\n",
       "      <td>https://twitter.com/canlesofficial</td>\n",
       "      <td>NaN</td>\n",
       "      <td>We've created footwear that not only feels inc...</td>\n",
       "      <td>NaN</td>\n",
       "      <td>https://twitter.com/canlesofficial/status/1821...</td>\n",
       "      <td>True</td>\n",
       "      <td>NaN</td>\n",
       "      <td>NaN</td>\n",
       "      <td>2</td>\n",
       "      <td>32K</td>\n",
       "    </tr>\n",
       "    <tr>\n",
       "      <th>2</th>\n",
       "      <td>TopPost</td>\n",
       "      <td>#paris2024</td>\n",
       "      <td>https://twitter.com/search?q=#paris2024&amp;src=ty...</td>\n",
       "      <td>https://twitter.com/Olympics/status/1821643768...</td>\n",
       "      <td>The Olympic GamesReload</td>\n",
       "      <td>https://twitter.com/Olympics</td>\n",
       "      <td>2024-08-08</td>\n",
       "      <td>#OLYMPICRECORD FOR RIZKI JUNIANSYAH! @iwfnet |...</td>\n",
       "      <td>NaN</td>\n",
       "      <td>https://twitter.com/Olympics/status/1821643768...</td>\n",
       "      <td>False</td>\n",
       "      <td>201</td>\n",
       "      <td>9.3K</td>\n",
       "      <td>14K</td>\n",
       "      <td>377K</td>\n",
       "    </tr>\n",
       "    <tr>\n",
       "      <th>3</th>\n",
       "      <td>TopPost</td>\n",
       "      <td>#paris2024</td>\n",
       "      <td>https://twitter.com/search?q=#paris2024&amp;src=ty...</td>\n",
       "      <td>https://twitter.com/FIBA/status/18216605850475...</td>\n",
       "      <td>FIBA</td>\n",
       "      <td>https://twitter.com/FIBA</td>\n",
       "      <td>NaN</td>\n",
       "      <td>Everyone is watching the ball. Except for him....</td>\n",
       "      <td>https://pbs.twimg.com/media/GUfWSPCXcAAWmGV?fo...</td>\n",
       "      <td>https://twitter.com/FIBA/status/18216605850475...</td>\n",
       "      <td>False</td>\n",
       "      <td>93</td>\n",
       "      <td>2.8K</td>\n",
       "      <td>14K</td>\n",
       "      <td>388K</td>\n",
       "    </tr>\n",
       "    <tr>\n",
       "      <th>4</th>\n",
       "      <td>TopPost</td>\n",
       "      <td>#paris2024</td>\n",
       "      <td>https://twitter.com/search?q=#paris2024&amp;src=ty...</td>\n",
       "      <td>https://twitter.com/WorldAthletics/status/1821...</td>\n",
       "      <td>World Athletics</td>\n",
       "      <td>https://twitter.com/WorldAthletics</td>\n",
       "      <td>2024-08-08</td>\n",
       "      <td>Men's javelin throw final was BIG  92.97m OR A...</td>\n",
       "      <td>https://pbs.twimg.com/media/GUfFbVIXgAAVYza?fo...</td>\n",
       "      <td>https://twitter.com/WorldAthletics/status/1821...</td>\n",
       "      <td>False</td>\n",
       "      <td>133</td>\n",
       "      <td>2K</td>\n",
       "      <td>11K</td>\n",
       "      <td>205K</td>\n",
       "    </tr>\n",
       "  </tbody>\n",
       "</table>\n",
       "</div>"
      ],
      "text/plain": [
       "  Category     Keyword                                       Web_Page_URL  \\\n",
       "0  TopPost  #paris2024  https://twitter.com/search?q=#paris2024&src=ty...   \n",
       "1  TopPost  #paris2024  https://twitter.com/search?q=#paris2024&src=ty...   \n",
       "2  TopPost  #paris2024  https://twitter.com/search?q=#paris2024&src=ty...   \n",
       "3  TopPost  #paris2024  https://twitter.com/search?q=#paris2024&src=ty...   \n",
       "4  TopPost  #paris2024  https://twitter.com/search?q=#paris2024&src=ty...   \n",
       "\n",
       "                                       Tweet_Website              Author_Name  \\\n",
       "0  https://twitter.com/usabasketball/status/18216...           USA Basketball   \n",
       "1  https://twitter.com/canlesofficial/status/1821...                   Canles   \n",
       "2  https://twitter.com/Olympics/status/1821643768...  The Olympic GamesReload   \n",
       "3  https://twitter.com/FIBA/status/18216605850475...                     FIBA   \n",
       "4  https://twitter.com/WorldAthletics/status/1821...          World Athletics   \n",
       "\n",
       "                  Author_Web_Page_URL Tweet_Timestamp  \\\n",
       "0   https://twitter.com/usabasketball      2024-08-08   \n",
       "1  https://twitter.com/canlesofficial             NaN   \n",
       "2        https://twitter.com/Olympics      2024-08-08   \n",
       "3            https://twitter.com/FIBA             NaN   \n",
       "4  https://twitter.com/WorldAthletics      2024-08-08   \n",
       "\n",
       "                                       Tweet_Content  \\\n",
       "0   Olympic Legends. #USABMNT #Paris2024 #Basketball   \n",
       "1  We've created footwear that not only feels inc...   \n",
       "2  #OLYMPICRECORD FOR RIZKI JUNIANSYAH! @iwfnet |...   \n",
       "3  Everyone is watching the ball. Except for him....   \n",
       "4  Men's javelin throw final was BIG  92.97m OR A...   \n",
       "\n",
       "                                     Tweet_Image_URL  \\\n",
       "0  https://pbs.twimg.com/media/GUfcvY8bYAA0fD6?fo...   \n",
       "1                                                NaN   \n",
       "2                                                NaN   \n",
       "3  https://pbs.twimg.com/media/GUfWSPCXcAAWmGV?fo...   \n",
       "4  https://pbs.twimg.com/media/GUfFbVIXgAAVYza?fo...   \n",
       "\n",
       "                                     Tweet_Video_URL  Tweet_AD  \\\n",
       "0  https://twitter.com/usabasketball/status/18216...     False   \n",
       "1  https://twitter.com/canlesofficial/status/1821...      True   \n",
       "2  https://twitter.com/Olympics/status/1821643768...     False   \n",
       "3  https://twitter.com/FIBA/status/18216605850475...     False   \n",
       "4  https://twitter.com/WorldAthletics/status/1821...     False   \n",
       "\n",
       "  Tweet_Number_of_Reviews Tweet_Number_of_Retweets Tweet_Number_of_Likes  \\\n",
       "0                     241                     7.6K                   52K   \n",
       "1                     NaN                      NaN                     2   \n",
       "2                     201                     9.3K                   14K   \n",
       "3                      93                     2.8K                   14K   \n",
       "4                     133                       2K                   11K   \n",
       "\n",
       "  Tweet_Number_of_Looks  \n",
       "0                  3.2M  \n",
       "1                   32K  \n",
       "2                  377K  \n",
       "3                  388K  \n",
       "4                  205K  "
      ]
     },
     "execution_count": 3,
     "metadata": {},
     "output_type": "execute_result"
    }
   ],
   "source": [
    "df = pd.read_csv('2024-olympics-sentiments.csv')\n",
    "df.head()"
   ]
  },
  {
   "cell_type": "code",
   "execution_count": 4,
   "metadata": {},
   "outputs": [
    {
     "data": {
      "text/html": [
       "<div>\n",
       "<style scoped>\n",
       "    .dataframe tbody tr th:only-of-type {\n",
       "        vertical-align: middle;\n",
       "    }\n",
       "\n",
       "    .dataframe tbody tr th {\n",
       "        vertical-align: top;\n",
       "    }\n",
       "\n",
       "    .dataframe thead th {\n",
       "        text-align: right;\n",
       "    }\n",
       "</style>\n",
       "<table border=\"1\" class=\"dataframe\">\n",
       "  <thead>\n",
       "    <tr style=\"text-align: right;\">\n",
       "      <th></th>\n",
       "      <th>Tweet_Content</th>\n",
       "    </tr>\n",
       "  </thead>\n",
       "  <tbody>\n",
       "    <tr>\n",
       "      <th>0</th>\n",
       "      <td>Olympic Legends. #USABMNT #Paris2024 #Basketball</td>\n",
       "    </tr>\n",
       "    <tr>\n",
       "      <th>1</th>\n",
       "      <td>We've created footwear that not only feels inc...</td>\n",
       "    </tr>\n",
       "    <tr>\n",
       "      <th>2</th>\n",
       "      <td>#OLYMPICRECORD FOR RIZKI JUNIANSYAH! @iwfnet |...</td>\n",
       "    </tr>\n",
       "    <tr>\n",
       "      <th>3</th>\n",
       "      <td>Everyone is watching the ball. Except for him....</td>\n",
       "    </tr>\n",
       "    <tr>\n",
       "      <th>4</th>\n",
       "      <td>Men's javelin throw final was BIG  92.97m OR A...</td>\n",
       "    </tr>\n",
       "  </tbody>\n",
       "</table>\n",
       "</div>"
      ],
      "text/plain": [
       "                                       Tweet_Content\n",
       "0   Olympic Legends. #USABMNT #Paris2024 #Basketball\n",
       "1  We've created footwear that not only feels inc...\n",
       "2  #OLYMPICRECORD FOR RIZKI JUNIANSYAH! @iwfnet |...\n",
       "3  Everyone is watching the ball. Except for him....\n",
       "4  Men's javelin throw final was BIG  92.97m OR A..."
      ]
     },
     "execution_count": 4,
     "metadata": {},
     "output_type": "execute_result"
    }
   ],
   "source": [
    "df = df[['Tweet_Content']]\n",
    "df.head()"
   ]
  },
  {
   "cell_type": "code",
   "execution_count": 5,
   "metadata": {},
   "outputs": [
    {
     "data": {
      "text/plain": [
       "Tweet_Content    18\n",
       "dtype: int64"
      ]
     },
     "execution_count": 5,
     "metadata": {},
     "output_type": "execute_result"
    }
   ],
   "source": [
    "df.isna().sum()"
   ]
  },
  {
   "cell_type": "code",
   "execution_count": 6,
   "metadata": {},
   "outputs": [],
   "source": [
    "df.dropna(inplace=True)"
   ]
  },
  {
   "cell_type": "code",
   "execution_count": 7,
   "metadata": {},
   "outputs": [
    {
     "data": {
      "text/plain": [
       "Tweet_Content    0\n",
       "dtype: int64"
      ]
     },
     "execution_count": 7,
     "metadata": {},
     "output_type": "execute_result"
    }
   ],
   "source": [
    "df.isna().sum()"
   ]
  },
  {
   "cell_type": "code",
   "execution_count": 8,
   "metadata": {},
   "outputs": [
    {
     "data": {
      "text/plain": [
       "47877"
      ]
     },
     "execution_count": 8,
     "metadata": {},
     "output_type": "execute_result"
    }
   ],
   "source": [
    "df.duplicated().sum()"
   ]
  },
  {
   "cell_type": "code",
   "execution_count": 9,
   "metadata": {},
   "outputs": [],
   "source": [
    "df = df.drop_duplicates()"
   ]
  },
  {
   "cell_type": "code",
   "execution_count": 10,
   "metadata": {},
   "outputs": [
    {
     "data": {
      "text/plain": [
       "0"
      ]
     },
     "execution_count": 10,
     "metadata": {},
     "output_type": "execute_result"
    }
   ],
   "source": [
    "df.duplicated().sum()"
   ]
  },
  {
   "cell_type": "code",
   "execution_count": 11,
   "metadata": {},
   "outputs": [
    {
     "data": {
      "text/plain": [
       "(5276, 1)"
      ]
     },
     "execution_count": 11,
     "metadata": {},
     "output_type": "execute_result"
    }
   ],
   "source": [
    "df.shape"
   ]
  },
  {
   "cell_type": "code",
   "execution_count": 12,
   "metadata": {},
   "outputs": [],
   "source": [
    "# Function to clean the tweets\n",
    "def clean_tweet(tweet):\n",
    "    # Remove URLs\n",
    "    tweet = re.sub(r'http\\S+|www\\S+|https\\S+', '', tweet, flags=re.MULTILINE)\n",
    "    # Remove user @ references and '#' from tweet\n",
    "    tweet = re.sub(r'\\@\\w+|\\#','', tweet)\n",
    "    # Remove punctuations\n",
    "    tweet = re.sub(r'[^\\w\\s]', '', tweet)\n",
    "    # Remove numbers\n",
    "    tweet = re.sub(r'\\d+', '', tweet)\n",
    "    # Lowercase the words\n",
    "    tweet = tweet.lower()\n",
    "    # Tokenize the tweet\n",
    "    tweet_tokens = tweet.split()\n",
    "    # Remove stopwords\n",
    "    filtered_words = [word for word in tweet_tokens if word not in set(stopwords.words('english'))]\n",
    "    \n",
    "    # Lemmatization\n",
    "    lemmatizer = WordNetLemmatizer()\n",
    "    lemma_words = [lemmatizer.lemmatize(w) for w in filtered_words]\n",
    "    \n",
    "    return \" \".join(lemma_words)\n"
   ]
  },
  {
   "cell_type": "code",
   "execution_count": 13,
   "metadata": {},
   "outputs": [],
   "source": [
    "# Apply the cleaning function to the tweet column\n",
    "df['clean_tweet'] = df['Tweet_Content'].apply(clean_tweet)"
   ]
  },
  {
   "cell_type": "code",
   "execution_count": 14,
   "metadata": {},
   "outputs": [
    {
     "data": {
      "text/html": [
       "<div>\n",
       "<style scoped>\n",
       "    .dataframe tbody tr th:only-of-type {\n",
       "        vertical-align: middle;\n",
       "    }\n",
       "\n",
       "    .dataframe tbody tr th {\n",
       "        vertical-align: top;\n",
       "    }\n",
       "\n",
       "    .dataframe thead th {\n",
       "        text-align: right;\n",
       "    }\n",
       "</style>\n",
       "<table border=\"1\" class=\"dataframe\">\n",
       "  <thead>\n",
       "    <tr style=\"text-align: right;\">\n",
       "      <th></th>\n",
       "      <th>Tweet_Content</th>\n",
       "      <th>clean_tweet</th>\n",
       "    </tr>\n",
       "  </thead>\n",
       "  <tbody>\n",
       "    <tr>\n",
       "      <th>0</th>\n",
       "      <td>Olympic Legends. #USABMNT #Paris2024 #Basketball</td>\n",
       "      <td>olympic legend usabmnt paris basketball</td>\n",
       "    </tr>\n",
       "    <tr>\n",
       "      <th>1</th>\n",
       "      <td>We've created footwear that not only feels inc...</td>\n",
       "      <td>weve created footwear feel incredible also imp...</td>\n",
       "    </tr>\n",
       "    <tr>\n",
       "      <th>2</th>\n",
       "      <td>#OLYMPICRECORD FOR RIZKI JUNIANSYAH! @iwfnet |...</td>\n",
       "      <td>olympicrecord rizki juniansyah weightlifting p...</td>\n",
       "    </tr>\n",
       "    <tr>\n",
       "      <th>3</th>\n",
       "      <td>Everyone is watching the ball. Except for him....</td>\n",
       "      <td>everyone watching ball except himparis x baske...</td>\n",
       "    </tr>\n",
       "    <tr>\n",
       "      <th>4</th>\n",
       "      <td>Men's javelin throw final was BIG  92.97m OR A...</td>\n",
       "      <td>men javelin throw final big arshad nadeem ande...</td>\n",
       "    </tr>\n",
       "  </tbody>\n",
       "</table>\n",
       "</div>"
      ],
      "text/plain": [
       "                                       Tweet_Content  \\\n",
       "0   Olympic Legends. #USABMNT #Paris2024 #Basketball   \n",
       "1  We've created footwear that not only feels inc...   \n",
       "2  #OLYMPICRECORD FOR RIZKI JUNIANSYAH! @iwfnet |...   \n",
       "3  Everyone is watching the ball. Except for him....   \n",
       "4  Men's javelin throw final was BIG  92.97m OR A...   \n",
       "\n",
       "                                         clean_tweet  \n",
       "0            olympic legend usabmnt paris basketball  \n",
       "1  weve created footwear feel incredible also imp...  \n",
       "2  olympicrecord rizki juniansyah weightlifting p...  \n",
       "3  everyone watching ball except himparis x baske...  \n",
       "4  men javelin throw final big arshad nadeem ande...  "
      ]
     },
     "execution_count": 14,
     "metadata": {},
     "output_type": "execute_result"
    }
   ],
   "source": [
    "df. head()"
   ]
  },
  {
   "cell_type": "markdown",
   "metadata": {},
   "source": [
    "Pseudo Sentiment assignment"
   ]
  },
  {
   "cell_type": "code",
   "execution_count": 15,
   "metadata": {},
   "outputs": [
    {
     "data": {
      "text/html": [
       "<div>\n",
       "<style scoped>\n",
       "    .dataframe tbody tr th:only-of-type {\n",
       "        vertical-align: middle;\n",
       "    }\n",
       "\n",
       "    .dataframe tbody tr th {\n",
       "        vertical-align: top;\n",
       "    }\n",
       "\n",
       "    .dataframe thead th {\n",
       "        text-align: right;\n",
       "    }\n",
       "</style>\n",
       "<table border=\"1\" class=\"dataframe\">\n",
       "  <thead>\n",
       "    <tr style=\"text-align: right;\">\n",
       "      <th></th>\n",
       "      <th>Tweet_Content</th>\n",
       "      <th>clean_tweet</th>\n",
       "      <th>Positive</th>\n",
       "      <th>Negative</th>\n",
       "      <th>Neutral</th>\n",
       "      <th>Compound</th>\n",
       "    </tr>\n",
       "  </thead>\n",
       "  <tbody>\n",
       "    <tr>\n",
       "      <th>0</th>\n",
       "      <td>Olympic Legends. #USABMNT #Paris2024 #Basketball</td>\n",
       "      <td>olympic legend usabmnt paris basketball</td>\n",
       "      <td>0.000</td>\n",
       "      <td>0.0</td>\n",
       "      <td>1.000</td>\n",
       "      <td>0.0000</td>\n",
       "    </tr>\n",
       "    <tr>\n",
       "      <th>1</th>\n",
       "      <td>We've created footwear that not only feels inc...</td>\n",
       "      <td>weve created footwear feel incredible also imp...</td>\n",
       "      <td>0.347</td>\n",
       "      <td>0.0</td>\n",
       "      <td>0.653</td>\n",
       "      <td>0.8442</td>\n",
       "    </tr>\n",
       "    <tr>\n",
       "      <th>2</th>\n",
       "      <td>#OLYMPICRECORD FOR RIZKI JUNIANSYAH! @iwfnet |...</td>\n",
       "      <td>olympicrecord rizki juniansyah weightlifting p...</td>\n",
       "      <td>0.000</td>\n",
       "      <td>0.0</td>\n",
       "      <td>1.000</td>\n",
       "      <td>0.0000</td>\n",
       "    </tr>\n",
       "    <tr>\n",
       "      <th>3</th>\n",
       "      <td>Everyone is watching the ball. Except for him....</td>\n",
       "      <td>everyone watching ball except himparis x baske...</td>\n",
       "      <td>0.000</td>\n",
       "      <td>0.0</td>\n",
       "      <td>1.000</td>\n",
       "      <td>0.0000</td>\n",
       "    </tr>\n",
       "    <tr>\n",
       "      <th>4</th>\n",
       "      <td>Men's javelin throw final was BIG  92.97m OR A...</td>\n",
       "      <td>men javelin throw final big arshad nadeem ande...</td>\n",
       "      <td>0.000</td>\n",
       "      <td>0.0</td>\n",
       "      <td>1.000</td>\n",
       "      <td>0.0000</td>\n",
       "    </tr>\n",
       "  </tbody>\n",
       "</table>\n",
       "</div>"
      ],
      "text/plain": [
       "                                       Tweet_Content  \\\n",
       "0   Olympic Legends. #USABMNT #Paris2024 #Basketball   \n",
       "1  We've created footwear that not only feels inc...   \n",
       "2  #OLYMPICRECORD FOR RIZKI JUNIANSYAH! @iwfnet |...   \n",
       "3  Everyone is watching the ball. Except for him....   \n",
       "4  Men's javelin throw final was BIG  92.97m OR A...   \n",
       "\n",
       "                                         clean_tweet  Positive  Negative  \\\n",
       "0            olympic legend usabmnt paris basketball     0.000       0.0   \n",
       "1  weve created footwear feel incredible also imp...     0.347       0.0   \n",
       "2  olympicrecord rizki juniansyah weightlifting p...     0.000       0.0   \n",
       "3  everyone watching ball except himparis x baske...     0.000       0.0   \n",
       "4  men javelin throw final big arshad nadeem ande...     0.000       0.0   \n",
       "\n",
       "   Neutral  Compound  \n",
       "0    1.000    0.0000  \n",
       "1    0.653    0.8442  \n",
       "2    1.000    0.0000  \n",
       "3    1.000    0.0000  \n",
       "4    1.000    0.0000  "
      ]
     },
     "execution_count": 15,
     "metadata": {},
     "output_type": "execute_result"
    }
   ],
   "source": [
    "#Vader\n",
    "# Initialize the SentimentIntensityAnalyzer\n",
    "sentiments = SentimentIntensityAnalyzer()\n",
    "\n",
    "# Calculate polarity scores for each tweet and store them in new columns in the DataFrame df\n",
    "df[\"Positive\"] = [sentiments.polarity_scores(tweet)[\"pos\"] for tweet in df[\"clean_tweet\"]]\n",
    "df[\"Negative\"] = [sentiments.polarity_scores(tweet)[\"neg\"] for tweet in df[\"clean_tweet\"]]\n",
    "df[\"Neutral\"] = [sentiments.polarity_scores(tweet)[\"neu\"] for tweet in df[\"clean_tweet\"]]\n",
    "df['Compound'] = [sentiments.polarity_scores(tweet)[\"compound\"] for tweet in df[\"clean_tweet\"]]\n",
    "\n",
    "# Print the first few rows of the DataFrame to see the results\n",
    "df.head()"
   ]
  },
  {
   "cell_type": "code",
   "execution_count": 16,
   "metadata": {},
   "outputs": [
    {
     "data": {
      "text/html": [
       "<div>\n",
       "<style scoped>\n",
       "    .dataframe tbody tr th:only-of-type {\n",
       "        vertical-align: middle;\n",
       "    }\n",
       "\n",
       "    .dataframe tbody tr th {\n",
       "        vertical-align: top;\n",
       "    }\n",
       "\n",
       "    .dataframe thead th {\n",
       "        text-align: right;\n",
       "    }\n",
       "</style>\n",
       "<table border=\"1\" class=\"dataframe\">\n",
       "  <thead>\n",
       "    <tr style=\"text-align: right;\">\n",
       "      <th></th>\n",
       "      <th>Tweet_Content</th>\n",
       "      <th>clean_tweet</th>\n",
       "      <th>Positive</th>\n",
       "      <th>Negative</th>\n",
       "      <th>Neutral</th>\n",
       "      <th>Compound</th>\n",
       "      <th>Sentiment</th>\n",
       "    </tr>\n",
       "  </thead>\n",
       "  <tbody>\n",
       "    <tr>\n",
       "      <th>0</th>\n",
       "      <td>Olympic Legends. #USABMNT #Paris2024 #Basketball</td>\n",
       "      <td>olympic legend usabmnt paris basketball</td>\n",
       "      <td>0.000</td>\n",
       "      <td>0.0</td>\n",
       "      <td>1.000</td>\n",
       "      <td>0.0000</td>\n",
       "      <td>Neutral</td>\n",
       "    </tr>\n",
       "    <tr>\n",
       "      <th>1</th>\n",
       "      <td>We've created footwear that not only feels inc...</td>\n",
       "      <td>weve created footwear feel incredible also imp...</td>\n",
       "      <td>0.347</td>\n",
       "      <td>0.0</td>\n",
       "      <td>0.653</td>\n",
       "      <td>0.8442</td>\n",
       "      <td>Positive</td>\n",
       "    </tr>\n",
       "    <tr>\n",
       "      <th>2</th>\n",
       "      <td>#OLYMPICRECORD FOR RIZKI JUNIANSYAH! @iwfnet |...</td>\n",
       "      <td>olympicrecord rizki juniansyah weightlifting p...</td>\n",
       "      <td>0.000</td>\n",
       "      <td>0.0</td>\n",
       "      <td>1.000</td>\n",
       "      <td>0.0000</td>\n",
       "      <td>Neutral</td>\n",
       "    </tr>\n",
       "    <tr>\n",
       "      <th>3</th>\n",
       "      <td>Everyone is watching the ball. Except for him....</td>\n",
       "      <td>everyone watching ball except himparis x baske...</td>\n",
       "      <td>0.000</td>\n",
       "      <td>0.0</td>\n",
       "      <td>1.000</td>\n",
       "      <td>0.0000</td>\n",
       "      <td>Neutral</td>\n",
       "    </tr>\n",
       "    <tr>\n",
       "      <th>4</th>\n",
       "      <td>Men's javelin throw final was BIG  92.97m OR A...</td>\n",
       "      <td>men javelin throw final big arshad nadeem ande...</td>\n",
       "      <td>0.000</td>\n",
       "      <td>0.0</td>\n",
       "      <td>1.000</td>\n",
       "      <td>0.0000</td>\n",
       "      <td>Neutral</td>\n",
       "    </tr>\n",
       "  </tbody>\n",
       "</table>\n",
       "</div>"
      ],
      "text/plain": [
       "                                       Tweet_Content  \\\n",
       "0   Olympic Legends. #USABMNT #Paris2024 #Basketball   \n",
       "1  We've created footwear that not only feels inc...   \n",
       "2  #OLYMPICRECORD FOR RIZKI JUNIANSYAH! @iwfnet |...   \n",
       "3  Everyone is watching the ball. Except for him....   \n",
       "4  Men's javelin throw final was BIG  92.97m OR A...   \n",
       "\n",
       "                                         clean_tweet  Positive  Negative  \\\n",
       "0            olympic legend usabmnt paris basketball     0.000       0.0   \n",
       "1  weve created footwear feel incredible also imp...     0.347       0.0   \n",
       "2  olympicrecord rizki juniansyah weightlifting p...     0.000       0.0   \n",
       "3  everyone watching ball except himparis x baske...     0.000       0.0   \n",
       "4  men javelin throw final big arshad nadeem ande...     0.000       0.0   \n",
       "\n",
       "   Neutral  Compound Sentiment  \n",
       "0    1.000    0.0000   Neutral  \n",
       "1    0.653    0.8442  Positive  \n",
       "2    1.000    0.0000   Neutral  \n",
       "3    1.000    0.0000   Neutral  \n",
       "4    1.000    0.0000   Neutral  "
      ]
     },
     "execution_count": 16,
     "metadata": {},
     "output_type": "execute_result"
    }
   ],
   "source": [
    "score = df[\"Compound\"].values\n",
    "sentiment = []\n",
    "for i in score:\n",
    "    if i >= 0.05 :\n",
    "        sentiment.append('Positive')\n",
    "    elif i <= -0.05 :\n",
    "        sentiment.append('Negative')\n",
    "    else:\n",
    "        sentiment.append('Neutral')\n",
    "df[\"Sentiment\"] = sentiment\n",
    "df.head()"
   ]
  },
  {
   "cell_type": "markdown",
   "metadata": {},
   "source": [
    "Class imbalance solution"
   ]
  },
  {
   "cell_type": "code",
   "execution_count": 17,
   "metadata": {},
   "outputs": [
    {
     "name": "stdout",
     "output_type": "stream",
     "text": [
      "Sentiment\n",
      "Neutral     2836\n",
      "Positive    1986\n",
      "Negative     454\n",
      "Name: count, dtype: int64\n"
     ]
    }
   ],
   "source": [
    "#Distribution of sentiments\n",
    "print(df['Sentiment'].value_counts())"
   ]
  },
  {
   "cell_type": "code",
   "execution_count": 18,
   "metadata": {},
   "outputs": [
    {
     "data": {
      "image/png": "[encoded data removed]",
      "text/plain": [
       "<Figure size 800x500 with 1 Axes>"
      ]
     },
     "metadata": {},
     "output_type": "display_data"
    }
   ],
   "source": [
    "\n",
    "# Splitting the data into features and target\n",
    "X = df['clean_tweet']\n",
    "y = df['Sentiment']\n",
    "\n",
    "# Visualizing class distribution before SMOTE\n",
    "fig, ax = plt.subplots(figsize=(8, 5))\n",
    "y.value_counts().plot(kind='bar', color='skyblue')\n",
    "ax.set_title('Original Class Distribution')\n",
    "ax.set_xlabel('Sentiment')\n",
    "ax.set_ylabel('Frequency')\n",
    "plt.show()\n"
   ]
  },
  {
   "cell_type": "code",
   "execution_count": 19,
   "metadata": {
    "scrolled": true
   },
   "outputs": [],
   "source": [
    "# Transforming the text data into vectors\n",
    "vectorizer = TfidfVectorizer()\n",
    "X_vectorized = vectorizer.fit_transform(X)\n",
    "\n",
    "# Splitting the data into training and testing sets\n",
    "X_train, X_test, y_train, y_test = train_test_split(X_vectorized, y, test_size=0.2, random_state=42)\n",
    "\n",
    "# Applying SMOTE to address class imbalance\n",
    "smote = SMOTE(random_state=42)\n",
    "X_sm, y_sm = smote.fit_resample(X_train, y_train)"
   ]
  },
  {
   "cell_type": "code",
   "execution_count": 20,
   "metadata": {},
   "outputs": [
    {
     "data": {
      "image/png": "[encoded data removed]",
      "text/plain": [
       "<Figure size 800x500 with 1 Axes>"
      ]
     },
     "metadata": {},
     "output_type": "display_data"
    }
   ],
   "source": [
    "# Visualizing class distribution after SMOTE\n",
    "fig, ax = plt.subplots(figsize=(8, 5))\n",
    "y_sm.value_counts().plot(kind='bar', color='lightgreen')\n",
    "ax.set_title('Class Distribution After SMOTE')\n",
    "ax.set_xlabel('Sentiment')\n",
    "ax.set_ylabel('Frequency')\n",
    "plt.show()"
   ]
  },
  {
   "cell_type": "markdown",
   "metadata": {},
   "source": [
    "## Models \n",
    "Base model selection"
   ]
  },
  {
   "cell_type": "markdown",
   "metadata": {},
   "source": [
    "#### Machine Learning Pipelines for Sentiment Analysis\n",
    "we train and evaluate several machine learning models for sentiment analysis using a pipeline approach. The models included are:\n",
    "- Logistic Regression\n",
    "- Support Vector Machine\n",
    "- Random Forest\n",
    "- Naive Bayes\n",
    "\n",
    "Each model is evaluated based on its accuracy and other performance metrics, and the best-performing model is saved for future use.\n",
    "\n",
    "#### Pipeline Definitions\n",
    "We define pipelines for each of the models. The pipelines include necessary preprocessing steps like standardization, followed by the classifier.\n"
   ]
  },
  {
   "cell_type": "code",
   "execution_count": 29,
   "metadata": {
    "scrolled": true
   },
   "outputs": [
    {
     "name": "stdout",
     "output_type": "stream",
     "text": [
      "Training and evaluating baseline models...\n",
      "\n",
      "Logistic Regression pipeline classification report:\n",
      "\n",
      "              precision    recall  f1-score   support\n",
      "\n",
      "    Negative       0.60      0.39      0.47        79\n",
      "     Neutral       0.79      0.88      0.83       559\n",
      "    Positive       0.80      0.73      0.76       418\n",
      "\n",
      "    accuracy                           0.79      1056\n",
      "   macro avg       0.73      0.67      0.69      1056\n",
      "weighted avg       0.78      0.79      0.78      1056\n",
      "\n",
      "Confusion Matrix for Logistic Regression:\n",
      "\n",
      "[[ 31  24  24]\n",
      " [ 14 491  54]\n",
      " [  7 104 307]]\n",
      "Support Vector Machine pipeline classification report:\n",
      "\n",
      "              precision    recall  f1-score   support\n",
      "\n",
      "    Negative       0.23      0.29      0.26        79\n",
      "     Neutral       0.72      0.76      0.74       559\n",
      "    Positive       0.76      0.66      0.71       418\n",
      "\n",
      "    accuracy                           0.69      1056\n",
      "   macro avg       0.57      0.57      0.57      1056\n",
      "weighted avg       0.70      0.69      0.69      1056\n",
      "\n",
      "Confusion Matrix for Support Vector Machine:\n",
      "\n",
      "[[ 23  35  21]\n",
      " [ 66 427  66]\n",
      " [ 12 129 277]]\n",
      "Random Forest pipeline classification report:\n",
      "\n",
      "              precision    recall  f1-score   support\n",
      "\n",
      "    Negative       0.88      0.27      0.41        79\n",
      "     Neutral       0.78      0.95      0.85       559\n",
      "    Positive       0.87      0.72      0.79       418\n",
      "\n",
      "    accuracy                           0.81      1056\n",
      "   macro avg       0.84      0.65      0.68      1056\n",
      "weighted avg       0.82      0.81      0.79      1056\n",
      "\n",
      "Confusion Matrix for Random Forest:\n",
      "\n",
      "[[ 21  39  19]\n",
      " [  1 532  26]\n",
      " [  2 115 301]]\n",
      "Naive Bayes pipeline classification report:\n",
      "\n",
      "              precision    recall  f1-score   support\n",
      "\n",
      "    Negative       0.41      0.58      0.48        79\n",
      "     Neutral       0.87      0.71      0.78       559\n",
      "    Positive       0.71      0.83      0.77       418\n",
      "\n",
      "    accuracy                           0.75      1056\n",
      "   macro avg       0.66      0.71      0.68      1056\n",
      "weighted avg       0.77      0.75      0.75      1056\n",
      "\n",
      "Confusion Matrix for Naive Bayes:\n",
      "\n",
      "[[ 46  11  22]\n",
      " [ 44 395 120]\n",
      " [ 23  47 348]]\n",
      "\n",
      "The best performing model is Random Forest with an accuracy of 0.809.\n",
      "Random Forest model has been saved successfully as 'random_forest_model.pkl'.\n"
     ]
    }
   ],
   "source": [
    "\n",
    "# Define pipelines\n",
    "pipe_lr = Pipeline([\n",
    "    ('scl', StandardScaler(with_mean=False)),  # with_mean=False for compatibility with sparse matrices\n",
    "    ('clf', LogisticRegression(random_state=42, max_iter=1000))\n",
    "])\n",
    "pipe_svm = Pipeline([\n",
    "    ('scl', StandardScaler(with_mean=False)),\n",
    "    ('clf', SVC(random_state=42))\n",
    "])\n",
    "pipe_rf = Pipeline([\n",
    "    ('clf', RandomForestClassifier(random_state=42))\n",
    "])\n",
    "pipe_nb = Pipeline([\n",
    "    ('clf', MultinomialNB())\n",
    "])\n",
    "\n",
    "# List of pipelines for easy iteration\n",
    "pipelines = [pipe_lr, pipe_svm, pipe_rf, pipe_nb]\n",
    "pipe_dict = {0: 'Logistic Regression', 1: 'Support Vector Machine', 2: 'Random Forest', 3: 'Naive Bayes'}\n",
    "\n",
    "# Initialize variables to track the best model\n",
    "best_accuracy = 0\n",
    "best_pipeline = None\n",
    "best_model_name = \"\"\n",
    "\n",
    "print(\"Training and evaluating baseline models...\\n\")\n",
    "for idx, pipe in enumerate(pipelines):\n",
    "    # Train the model\n",
    "    pipe.fit(X_sm, y_sm)\n",
    "    \n",
    "    # Predict on the test set\n",
    "    y_pred = pipe.predict(X_test)\n",
    "    \n",
    "    # Calculate accuracy\n",
    "    accuracy = accuracy_score(y_test, y_pred)\n",
    "  \n",
    "    # Print the classification report\n",
    "    print(f'{pipe_dict[idx]} pipeline classification report:\\n')\n",
    "    print(classification_report(y_test, y_pred))\n",
    "    \n",
    "    # Print the confusion matrix\n",
    "    print(f'Confusion Matrix for {pipe_dict[idx]}:\\n')\n",
    "    print(confusion_matrix(y_test, y_pred))\n",
    "    \n",
    "    # Check if this model has the best accuracy\n",
    "    if accuracy > best_accuracy:\n",
    "        best_accuracy = accuracy\n",
    "        best_pipeline = pipe\n",
    "        best_model_name = pipe_dict[idx]\n",
    "\n",
    "# Print the best model details\n",
    "print(f\"\\nThe best performing model is {best_model_name} with an accuracy of {best_accuracy:.3f}.\")\n",
    "\n",
    "# Pickle the best model\n",
    "with open(f'{best_model_name.replace(\" \", \"_\").lower()}_model.pkl', 'wb') as model_file:\n",
    "    pickle.dump(best_pipeline, model_file)\n",
    "\n",
    "print(f\"{best_model_name} model has been saved successfully as '{best_model_name.replace(' ', '_').lower()}_model.pkl'.\")"
   ]
  },
  {
   "cell_type": "markdown",
   "metadata": {},
   "source": [
    "\n",
    "#### Summary\n",
    "The **Random Forest** model achieved an accuracy of **0.809**, making it the best-performing model in this evaluation. This model shows strong performance, particularly in classifying Neutral and Positive sentiments.\n",
    "\n",
    "The Random Forest model has been saved successfully as `'random_forest_model.pkl'`.\n",
    " \n",
    "To improve the model's performance, the next step will involve tuning the hyperparameters of the Random Forest model. This process aims to optimize the model's performance and ensure it generalizes well to unseen data.\n"
   ]
  },
  {
   "cell_type": "markdown",
   "metadata": {},
   "source": [
    "**Tuning the best model**"
   ]
  },
  {
   "cell_type": "code",
   "execution_count": 30,
   "metadata": {},
   "outputs": [
    {
     "name": "stdout",
     "output_type": "stream",
     "text": [
      "Performing hyperparameter tuning for Random Forest...\n",
      "\n",
      "Fitting 5 folds for each of 108 candidates, totalling 540 fits\n",
      "Best parameters for Random Forest: {'clf__max_depth': None, 'clf__min_samples_leaf': 1, 'clf__min_samples_split': 2, 'clf__n_estimators': 200}\n",
      "\n",
      "Random Forest tuned model classification report:\n",
      "\n",
      "              precision    recall  f1-score   support\n",
      "\n",
      "    Negative       0.90      0.23      0.36        79\n",
      "     Neutral       0.78      0.96      0.86       559\n",
      "    Positive       0.88      0.72      0.79       418\n",
      "\n",
      "    accuracy                           0.81      1056\n",
      "   macro avg       0.85      0.64      0.67      1056\n",
      "weighted avg       0.82      0.81      0.79      1056\n",
      "\n",
      "Confusion Matrix for Random Forest tuned model:\n",
      "\n",
      "[[ 18  41  20]\n",
      " [  1 535  23]\n",
      " [  1 114 303]]\n",
      "Tuned Random Forest model has been saved successfully as 'random_forest_tuned_model.pkl'.\n"
     ]
    }
   ],
   "source": [
    "# Define the parameter grid based on the best model\n",
    "if best_model_name == 'Logistic Regression':\n",
    "    param_grid = {\n",
    "        'clf__C': [0.1, 1, 10, 100],\n",
    "        'clf__solver': ['newton-cg', 'lbfgs', 'liblinear']\n",
    "    }\n",
    "elif best_model_name == 'Support Vector Machine':\n",
    "    param_grid = {\n",
    "        'clf__C': [0.1, 1, 10, 100],\n",
    "        'clf__gamma': [1, 0.1, 0.01, 0.001],\n",
    "        'clf__kernel': ['linear', 'rbf']\n",
    "    }\n",
    "elif best_model_name == 'Random Forest':\n",
    "    param_grid = {\n",
    "        'clf__n_estimators': [100, 200, 300],\n",
    "        'clf__max_depth': [None, 10, 20, 30],\n",
    "        'clf__min_samples_split': [2, 5, 10],\n",
    "        'clf__min_samples_leaf': [1, 2, 4]\n",
    "    }\n",
    "elif best_model_name == 'Naive Bayes':\n",
    "    param_grid = {\n",
    "        'clf__alpha': [0.1, 0.5, 1.0]\n",
    "    }\n",
    "\n",
    "# Perform GridSearchCV\n",
    "print(f\"Performing hyperparameter tuning for {best_model_name}...\\n\")\n",
    "grid_search = GridSearchCV(estimator=best_pipeline, param_grid=param_grid, \n",
    "                           cv=5, n_jobs=-1, verbose=2, scoring='accuracy')\n",
    "grid_search.fit(X_sm, y_sm)\n",
    "\n",
    "# Get the best parameters and the best model\n",
    "best_params = grid_search.best_params_\n",
    "best_tuned_model = grid_search.best_estimator_\n",
    "\n",
    "# Print the best parameters\n",
    "print(f\"Best parameters for {best_model_name}: {best_params}\\n\")\n",
    "\n",
    "# Evaluate the tuned model on the test set\n",
    "y_pred_tuned = best_tuned_model.predict(X_test)\n",
    "accuracy_tuned = accuracy_score(y_test, y_pred_tuned)\n",
    "\n",
    "# Print the classification report and confusion matrix\n",
    "print(f\"{best_model_name} tuned model classification report:\\n\")\n",
    "print(classification_report(y_test, y_pred_tuned))\n",
    "print(f\"Confusion Matrix for {best_model_name} tuned model:\\n\")\n",
    "print(confusion_matrix(y_test, y_pred_tuned))\n",
    "\n",
    "# Pickle the tuned model\n",
    "tuned_model_filename = f'{best_model_name.replace(\" \", \"_\").lower()}_tuned_model.pkl'\n",
    "with open(tuned_model_filename, 'wb') as model_file:\n",
    "    pickle.dump(best_tuned_model, model_file)\n",
    "\n",
    "print(f\"Tuned {best_model_name} model has been saved successfully as '{tuned_model_filename}'.\")"
   ]
  },
  {
   "cell_type": "markdown",
   "metadata": {},
   "source": [
    "#### Summary"
   ]
  },
  {
   "cell_type": "markdown",
   "metadata": {},
   "source": [
    "The tuned Random Forest model achieved an accuracy of 0.81 on the test set, maintaining strong performance in classifying Neutral and Positive sentiments. The model improved, resulting in better generalization capabilities.\n",
    "\n",
    "The tuned Random Forest model has been saved successfully as `random_forest_tuned_model.pkl`"
   ]
  },
  {
   "cell_type": "markdown",
   "metadata": {},
   "source": [
    "#### Saving our vectorizer for deployment"
   ]
  },
  {
   "cell_type": "code",
   "execution_count": 31,
   "metadata": {},
   "outputs": [
    {
     "name": "stdout",
     "output_type": "stream",
     "text": [
      "TF-IDF vectorizer has been saved successfully as 'tfidf_vectorizer.pkl'.\n"
     ]
    }
   ],
   "source": [
    "# Save the vectorizer \n",
    "vectorizer_filename = 'tfidf_vectorizer.pkl'\n",
    "with open(vectorizer_filename, 'wb') as vec_file:\n",
    "    pickle.dump(vectorizer, vec_file)\n",
    "\n",
    "print(f\"TF-IDF vectorizer has been saved successfully as '{vectorizer_filename}'.\")"
   ]
  },
  {
   "cell_type": "markdown",
   "metadata": {},
   "source": [
    "#### Model testing"
   ]
  },
  {
   "cell_type": "code",
   "execution_count": 38,
   "metadata": {},
   "outputs": [
    {
     "name": "stdin",
     "output_type": "stream",
     "text": [
      "Enter a tweet to analyze sentiment:  #paris2024\n"
     ]
    },
    {
     "name": "stdout",
     "output_type": "stream",
     "text": [
      "The sentiment of the tweet is: Neutral\n"
     ]
    }
   ],
   "source": [
    "# Load the pickled vectorizer\n",
    "with open('tfidf_vectorizer.pkl', 'rb') as vec_file:\n",
    "    loaded_vectorizer = pickle.load(vec_file)\n",
    "\n",
    "# Load the pickled model (assuming it's a RandomForest model)\n",
    "with open('random_forest_tuned_model.pkl', 'rb') as model_file:\n",
    "    loaded_model = pickle.load(model_file)\n",
    "\n",
    "def predict_sentiment(text):\n",
    "    # Preprocess the text using the loaded vectorizer\n",
    "    text_transformed = loaded_vectorizer.transform([text])\n",
    "    \n",
    "    # Predict the sentiment using the loaded model\n",
    "    sentiment_predicted = loaded_model.predict(text_transformed)\n",
    "    \n",
    "    # Return the predicted sentiment label directly\n",
    "    return sentiment_predicted[0]\n",
    "\n",
    "# Prompting user for a tweet\n",
    "tweet = input(\"Enter a tweet to analyze sentiment: \")\n",
    "\n",
    "# Getting and printing the predicted sentiment\n",
    "predicted_sentiment = predict_sentiment(tweet)\n",
    "print(f\"The sentiment of the tweet is: {predicted_sentiment}\")"
   ]
  },
  {
   "cell_type": "markdown",
   "metadata": {},
   "source": [
    "### Pre-trained models testing and pickling for possible deployment"
   ]
  },
  {
   "cell_type": "markdown",
   "metadata": {},
   "source": [
    "- Vader Model\n",
    "- Distilbert Model"
   ]
  },
  {
   "cell_type": "markdown",
   "metadata": {},
   "source": [
    "#### Vader Model"
   ]
  },
  {
   "cell_type": "code",
   "execution_count": 33,
   "metadata": {},
   "outputs": [
    {
     "name": "stdout",
     "output_type": "stream",
     "text": [
      "VADER model has been saved successfully as 'vader_model.pkl'.\n"
     ]
    }
   ],
   "source": [
    "# VADER SentimentIntensityAnalyzer\n",
    "\n",
    "# Initialize the VADER SentimentIntensityAnalyzer\n",
    "vader_analyzer = SentimentIntensityAnalyzer()\n",
    "\n",
    "# Pickle the VADER model\n",
    "vader_model_filename = 'vader_model.pkl'\n",
    "with open(vader_model_filename, 'wb') as model_file:\n",
    "    pickle.dump(vader_analyzer, model_file)\n",
    "\n",
    "print(f\"VADER model has been saved successfully as '{vader_model_filename}'.\")"
   ]
  },
  {
   "cell_type": "code",
   "execution_count": 34,
   "metadata": {},
   "outputs": [
    {
     "name": "stdin",
     "output_type": "stream",
     "text": [
      "Enter a tweet to analyze sentiment:  US vs Serbia was rigged\n"
     ]
    },
    {
     "name": "stdout",
     "output_type": "stream",
     "text": [
      "The sentiment of the tweet is: Negative\n"
     ]
    }
   ],
   "source": [
    "# Load the pickled VADER model\n",
    "with open('vader_model.pkl', 'rb') as vader_file:\n",
    "    loaded_vader = pickle.load(vader_file)\n",
    "\n",
    "# Load the pickled vectorizer\n",
    "with open('tfidf_vectorizer.pkl', 'rb') as vec_file:\n",
    "    loaded_vectorizer = pickle.load(vec_file)\n",
    "\n",
    "def predict_sentiment_vader(text):\n",
    "    # Preprocess the text using the loaded vectorizer (if you want to combine TF-IDF with VADER)\n",
    "    text_transformed = loaded_vectorizer.transform([text])\n",
    "    \n",
    "    # Use the VADER model to predict the sentiment\n",
    "    vader_scores = loaded_vader.polarity_scores(text)\n",
    "    \n",
    "    # Determine sentiment based on VADER compound score\n",
    "    compound_score = vader_scores['compound']\n",
    "    if compound_score >= 0.05:\n",
    "        sentiment = 'Positive'\n",
    "    elif compound_score <= -0.05:\n",
    "        sentiment = 'Negative'\n",
    "    else:\n",
    "        sentiment = 'Neutral'\n",
    "    \n",
    "    # Return the predicted sentiment label\n",
    "    return sentiment\n",
    "\n",
    "# Prompting user for a tweet\n",
    "tweet = input(\"Enter a tweet to analyze sentiment: \")\n",
    "\n",
    "# Getting and printing the predicted sentiment\n",
    "predicted_sentiment = predict_sentiment_vader(tweet)\n",
    "print(f\"The sentiment of the tweet is: {predicted_sentiment}\")"
   ]
  },
  {
   "cell_type": "markdown",
   "metadata": {},
   "source": [
    "#### Distilbert Model"
   ]
  },
  {
   "cell_type": "code",
   "execution_count": 35,
   "metadata": {},
   "outputs": [
    {
     "name": "stderr",
     "output_type": "stream",
     "text": [
      "C:\\Users\\THINKPAD X1 CARBON\\anaconda3\\envs\\learn-env\\lib\\site-packages\\transformers\\tokenization_utils_base.py:1601: FutureWarning: `clean_up_tokenization_spaces` was not set. It will be set to `True` by default. This behavior will be depracted in transformers v4.45, and will be then set to `False` by default. For more details check this issue: https://github.com/huggingface/transformers/issues/31884\n",
      "  warnings.warn(\n"
     ]
    },
    {
     "name": "stdout",
     "output_type": "stream",
     "text": [
      "DistilBERT sentiment analysis model pipeline has been saved successfully.\n"
     ]
    }
   ],
   "source": [
    "#Distilbert Sentiment Analysis Model\n",
    "\n",
    "# Define the pre-trained sentiment analysis model\n",
    "model_name = \"distilbert-base-uncased-finetuned-sst-2-english\"\n",
    "model_revision = \"af0f99b\"\n",
    "\n",
    "# Create the sentiment analysis pipeline with the specified model\n",
    "classifier = pipeline(\"sentiment-analysis\", model=model_name, revision=model_revision)\n",
    "\n",
    "# Save the pipeline to a pickle file\n",
    "with open('distilbert_sentiment_pipeline.pkl', 'wb') as model_file:\n",
    "    pickle.dump(classifier, model_file)\n",
    "\n",
    "print(\"DistilBERT sentiment analysis model pipeline has been saved successfully.\")"
   ]
  },
  {
   "cell_type": "code",
   "execution_count": 36,
   "metadata": {},
   "outputs": [
    {
     "name": "stderr",
     "output_type": "stream",
     "text": [
      "C:\\Users\\THINKPAD X1 CARBON\\anaconda3\\envs\\learn-env\\lib\\site-packages\\torch\\storage.py:414: FutureWarning: You are using `torch.load` with `weights_only=False` (the current default value), which uses the default pickle module implicitly. It is possible to construct malicious pickle data which will execute arbitrary code during unpickling (See https://github.com/pytorch/pytorch/blob/main/SECURITY.md#untrusted-models for more details). In a future release, the default value for `weights_only` will be flipped to `True`. This limits the functions that could be executed during unpickling. Arbitrary objects will no longer be allowed to be loaded via this mode unless they are explicitly allowlisted by the user via `torch.serialization.add_safe_globals`. We recommend you start setting `weights_only=True` for any use case where you don't have full control of the loaded file. Please open an issue on GitHub for any issues related to this experimental feature.\n",
      "  return torch.load(io.BytesIO(b))\n"
     ]
    },
    {
     "name": "stdin",
     "output_type": "stream",
     "text": [
      "Enter a tweet to analyze sentiment:  I hated the olympics\n"
     ]
    },
    {
     "name": "stdout",
     "output_type": "stream",
     "text": [
      "The sentiment of the tweet is: NEGATIVE with a score of 0.9994\n"
     ]
    }
   ],
   "source": [
    "# Load the pickled DistilBERT sentiment analysis pipeline\n",
    "with open('distilbert_sentiment_pipeline.pkl', 'rb') as model_file:\n",
    "    loaded_classifier = pickle.load(model_file)\n",
    "\n",
    "# Prompt user for a tweet\n",
    "tweet = input(\"Enter a tweet to analyze sentiment: \")\n",
    "\n",
    "# Getting and printing the predicted sentiment\n",
    "predicted_sentiment = loaded_classifier(tweet)\n",
    "print(f\"The sentiment of the tweet is: {predicted_sentiment[0]['label']} with a score of {predicted_sentiment[0]['score']:.4f}\")"
   ]
  },
  {
   "cell_type": "markdown",
   "metadata": {},
   "source": []
  }
 ],
 "metadata": {
  "kernelspec": {
   "display_name": "Python (learn-env)",
   "language": "python",
   "name": "learn-env"
  },
  "language_info": {
   "codemirror_mode": {
    "name": "ipython",
    "version": 3
   },
   "file_extension": ".py",
   "mimetype": "text/x-python",
   "name": "python",
   "nbconvert_exporter": "python",
   "pygments_lexer": "ipython3",
   "version": "3.11.5"
  }
 },
 "nbformat": 4,
 "nbformat_minor": 5
}
