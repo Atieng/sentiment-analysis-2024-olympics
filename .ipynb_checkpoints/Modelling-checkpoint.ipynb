{
 "cells": [
  {
   "cell_type": "code",
   "execution_count": 4,
   "id": "11615dfa",
   "metadata": {},
   "outputs": [],
   "source": [
    "import pandas as pd\n",
    "import re\n",
    "import nltk\n",
    "from nltk.corpus import stopwords\n",
    "from nltk.tokenize import word_tokenize\n",
    "from vaderSentiment.vaderSentiment import SentimentIntensityAnalyzer\n",
    "from nltk.stem import WordNetLemmatizer\n",
    "import warnings\n",
    "warnings.filterwarnings(\"ignore\", message=r\".*Some weights of.*not used.*\")\n",
    "from nltk.stem.porter import PorterStemmer\n",
    "from sklearn.preprocessing import MinMaxScaler\n",
    "from sklearn.feature_extraction.text import CountVectorizer\n",
    "from sklearn.metrics import confusion_matrix, ConfusionMatrixDisplay\n",
    "from sklearn.model_selection import GridSearchCV\n",
    "from sklearn.model_selection import StratifiedKFold\n",
    "from sklearn.metrics import accuracy_score\n",
    "from sklearn.model_selection import cross_val_score\n",
    "from sklearn.tree import DecisionTreeClassifier\n",
    "from xgboost import XGBClassifier\n",
    "import pickle\n",
    "import os\n",
    "from transformers import BertTokenizer,TFBertModel\n",
    "import torch\n",
    "import tensorflow as tf\n"
   ]
  },
  {
   "cell_type": "code",
   "execution_count": 2,
   "id": "f42989d9",
   "metadata": {},
   "outputs": [
    {
     "data": {
      "text/html": [
       "<div>\n",
       "<style scoped>\n",
       "    .dataframe tbody tr th:only-of-type {\n",
       "        vertical-align: middle;\n",
       "    }\n",
       "\n",
       "    .dataframe tbody tr th {\n",
       "        vertical-align: top;\n",
       "    }\n",
       "\n",
       "    .dataframe thead th {\n",
       "        text-align: right;\n",
       "    }\n",
       "</style>\n",
       "<table border=\"1\" class=\"dataframe\">\n",
       "  <thead>\n",
       "    <tr style=\"text-align: right;\">\n",
       "      <th></th>\n",
       "      <th>Category</th>\n",
       "      <th>Keyword</th>\n",
       "      <th>Web_Page_URL</th>\n",
       "      <th>Tweet_Website</th>\n",
       "      <th>Author_Name</th>\n",
       "      <th>Author_Web_Page_URL</th>\n",
       "      <th>Tweet_Timestamp</th>\n",
       "      <th>Tweet_Content</th>\n",
       "      <th>Tweet_Image_URL</th>\n",
       "      <th>Tweet_Video_URL</th>\n",
       "      <th>Tweet_AD</th>\n",
       "      <th>Tweet_Number_of_Reviews</th>\n",
       "      <th>Tweet_Number_of_Retweets</th>\n",
       "      <th>Tweet_Number_of_Likes</th>\n",
       "      <th>Tweet_Number_of_Looks</th>\n",
       "    </tr>\n",
       "  </thead>\n",
       "  <tbody>\n",
       "    <tr>\n",
       "      <th>0</th>\n",
       "      <td>TopPost</td>\n",
       "      <td>#paris2024</td>\n",
       "      <td>https://twitter.com/search?q=#paris2024&amp;src=ty...</td>\n",
       "      <td>https://twitter.com/usabasketball/status/18216...</td>\n",
       "      <td>USA Basketball</td>\n",
       "      <td>https://twitter.com/usabasketball</td>\n",
       "      <td>2024-08-08</td>\n",
       "      <td>Olympic Legends. #USABMNT #Paris2024 #Basketball</td>\n",
       "      <td>https://pbs.twimg.com/media/GUfcvY8bYAA0fD6?fo...</td>\n",
       "      <td>https://twitter.com/usabasketball/status/18216...</td>\n",
       "      <td>False</td>\n",
       "      <td>241</td>\n",
       "      <td>7.6K</td>\n",
       "      <td>52K</td>\n",
       "      <td>3.2M</td>\n",
       "    </tr>\n",
       "    <tr>\n",
       "      <th>1</th>\n",
       "      <td>TopPost</td>\n",
       "      <td>#paris2024</td>\n",
       "      <td>https://twitter.com/search?q=#paris2024&amp;src=ty...</td>\n",
       "      <td>https://twitter.com/canlesofficial/status/1821...</td>\n",
       "      <td>Canles</td>\n",
       "      <td>https://twitter.com/canlesofficial</td>\n",
       "      <td>NaN</td>\n",
       "      <td>We've created footwear that not only feels inc...</td>\n",
       "      <td>NaN</td>\n",
       "      <td>https://twitter.com/canlesofficial/status/1821...</td>\n",
       "      <td>True</td>\n",
       "      <td>NaN</td>\n",
       "      <td>NaN</td>\n",
       "      <td>2</td>\n",
       "      <td>32K</td>\n",
       "    </tr>\n",
       "    <tr>\n",
       "      <th>2</th>\n",
       "      <td>TopPost</td>\n",
       "      <td>#paris2024</td>\n",
       "      <td>https://twitter.com/search?q=#paris2024&amp;src=ty...</td>\n",
       "      <td>https://twitter.com/Olympics/status/1821643768...</td>\n",
       "      <td>The Olympic GamesReload</td>\n",
       "      <td>https://twitter.com/Olympics</td>\n",
       "      <td>2024-08-08</td>\n",
       "      <td>#OLYMPICRECORD FOR RIZKI JUNIANSYAH! @iwfnet |...</td>\n",
       "      <td>NaN</td>\n",
       "      <td>https://twitter.com/Olympics/status/1821643768...</td>\n",
       "      <td>False</td>\n",
       "      <td>201</td>\n",
       "      <td>9.3K</td>\n",
       "      <td>14K</td>\n",
       "      <td>377K</td>\n",
       "    </tr>\n",
       "    <tr>\n",
       "      <th>3</th>\n",
       "      <td>TopPost</td>\n",
       "      <td>#paris2024</td>\n",
       "      <td>https://twitter.com/search?q=#paris2024&amp;src=ty...</td>\n",
       "      <td>https://twitter.com/FIBA/status/18216605850475...</td>\n",
       "      <td>FIBA</td>\n",
       "      <td>https://twitter.com/FIBA</td>\n",
       "      <td>NaN</td>\n",
       "      <td>Everyone is watching the ball. Except for him....</td>\n",
       "      <td>https://pbs.twimg.com/media/GUfWSPCXcAAWmGV?fo...</td>\n",
       "      <td>https://twitter.com/FIBA/status/18216605850475...</td>\n",
       "      <td>False</td>\n",
       "      <td>93</td>\n",
       "      <td>2.8K</td>\n",
       "      <td>14K</td>\n",
       "      <td>388K</td>\n",
       "    </tr>\n",
       "    <tr>\n",
       "      <th>4</th>\n",
       "      <td>TopPost</td>\n",
       "      <td>#paris2024</td>\n",
       "      <td>https://twitter.com/search?q=#paris2024&amp;src=ty...</td>\n",
       "      <td>https://twitter.com/WorldAthletics/status/1821...</td>\n",
       "      <td>World Athletics</td>\n",
       "      <td>https://twitter.com/WorldAthletics</td>\n",
       "      <td>2024-08-08</td>\n",
       "      <td>Men's javelin throw final was BIG  92.97m OR A...</td>\n",
       "      <td>https://pbs.twimg.com/media/GUfFbVIXgAAVYza?fo...</td>\n",
       "      <td>https://twitter.com/WorldAthletics/status/1821...</td>\n",
       "      <td>False</td>\n",
       "      <td>133</td>\n",
       "      <td>2K</td>\n",
       "      <td>11K</td>\n",
       "      <td>205K</td>\n",
       "    </tr>\n",
       "  </tbody>\n",
       "</table>\n",
       "</div>"
      ],
      "text/plain": [
       "  Category     Keyword                                       Web_Page_URL  \\\n",
       "0  TopPost  #paris2024  https://twitter.com/search?q=#paris2024&src=ty...   \n",
       "1  TopPost  #paris2024  https://twitter.com/search?q=#paris2024&src=ty...   \n",
       "2  TopPost  #paris2024  https://twitter.com/search?q=#paris2024&src=ty...   \n",
       "3  TopPost  #paris2024  https://twitter.com/search?q=#paris2024&src=ty...   \n",
       "4  TopPost  #paris2024  https://twitter.com/search?q=#paris2024&src=ty...   \n",
       "\n",
       "                                       Tweet_Website              Author_Name  \\\n",
       "0  https://twitter.com/usabasketball/status/18216...           USA Basketball   \n",
       "1  https://twitter.com/canlesofficial/status/1821...                   Canles   \n",
       "2  https://twitter.com/Olympics/status/1821643768...  The Olympic GamesReload   \n",
       "3  https://twitter.com/FIBA/status/18216605850475...                     FIBA   \n",
       "4  https://twitter.com/WorldAthletics/status/1821...          World Athletics   \n",
       "\n",
       "                  Author_Web_Page_URL Tweet_Timestamp  \\\n",
       "0   https://twitter.com/usabasketball      2024-08-08   \n",
       "1  https://twitter.com/canlesofficial             NaN   \n",
       "2        https://twitter.com/Olympics      2024-08-08   \n",
       "3            https://twitter.com/FIBA             NaN   \n",
       "4  https://twitter.com/WorldAthletics      2024-08-08   \n",
       "\n",
       "                                       Tweet_Content  \\\n",
       "0   Olympic Legends. #USABMNT #Paris2024 #Basketball   \n",
       "1  We've created footwear that not only feels inc...   \n",
       "2  #OLYMPICRECORD FOR RIZKI JUNIANSYAH! @iwfnet |...   \n",
       "3  Everyone is watching the ball. Except for him....   \n",
       "4  Men's javelin throw final was BIG  92.97m OR A...   \n",
       "\n",
       "                                     Tweet_Image_URL  \\\n",
       "0  https://pbs.twimg.com/media/GUfcvY8bYAA0fD6?fo...   \n",
       "1                                                NaN   \n",
       "2                                                NaN   \n",
       "3  https://pbs.twimg.com/media/GUfWSPCXcAAWmGV?fo...   \n",
       "4  https://pbs.twimg.com/media/GUfFbVIXgAAVYza?fo...   \n",
       "\n",
       "                                     Tweet_Video_URL  Tweet_AD  \\\n",
       "0  https://twitter.com/usabasketball/status/18216...     False   \n",
       "1  https://twitter.com/canlesofficial/status/1821...      True   \n",
       "2  https://twitter.com/Olympics/status/1821643768...     False   \n",
       "3  https://twitter.com/FIBA/status/18216605850475...     False   \n",
       "4  https://twitter.com/WorldAthletics/status/1821...     False   \n",
       "\n",
       "  Tweet_Number_of_Reviews Tweet_Number_of_Retweets Tweet_Number_of_Likes  \\\n",
       "0                     241                     7.6K                   52K   \n",
       "1                     NaN                      NaN                     2   \n",
       "2                     201                     9.3K                   14K   \n",
       "3                      93                     2.8K                   14K   \n",
       "4                     133                       2K                   11K   \n",
       "\n",
       "  Tweet_Number_of_Looks  \n",
       "0                  3.2M  \n",
       "1                   32K  \n",
       "2                  377K  \n",
       "3                  388K  \n",
       "4                  205K  "
      ]
     },
     "execution_count": 2,
     "metadata": {},
     "output_type": "execute_result"
    }
   ],
   "source": [
    "df = pd.read_csv('2024-olympics-sentiments.csv')\n",
    "df.head()"
   ]
  },
  {
   "cell_type": "code",
   "execution_count": 3,
   "id": "585de955",
   "metadata": {},
   "outputs": [
    {
     "data": {
      "text/html": [
       "<div>\n",
       "<style scoped>\n",
       "    .dataframe tbody tr th:only-of-type {\n",
       "        vertical-align: middle;\n",
       "    }\n",
       "\n",
       "    .dataframe tbody tr th {\n",
       "        vertical-align: top;\n",
       "    }\n",
       "\n",
       "    .dataframe thead th {\n",
       "        text-align: right;\n",
       "    }\n",
       "</style>\n",
       "<table border=\"1\" class=\"dataframe\">\n",
       "  <thead>\n",
       "    <tr style=\"text-align: right;\">\n",
       "      <th></th>\n",
       "      <th>Tweet_Content</th>\n",
       "    </tr>\n",
       "  </thead>\n",
       "  <tbody>\n",
       "    <tr>\n",
       "      <th>0</th>\n",
       "      <td>Olympic Legends. #USABMNT #Paris2024 #Basketball</td>\n",
       "    </tr>\n",
       "    <tr>\n",
       "      <th>1</th>\n",
       "      <td>We've created footwear that not only feels inc...</td>\n",
       "    </tr>\n",
       "    <tr>\n",
       "      <th>2</th>\n",
       "      <td>#OLYMPICRECORD FOR RIZKI JUNIANSYAH! @iwfnet |...</td>\n",
       "    </tr>\n",
       "    <tr>\n",
       "      <th>3</th>\n",
       "      <td>Everyone is watching the ball. Except for him....</td>\n",
       "    </tr>\n",
       "    <tr>\n",
       "      <th>4</th>\n",
       "      <td>Men's javelin throw final was BIG  92.97m OR A...</td>\n",
       "    </tr>\n",
       "  </tbody>\n",
       "</table>\n",
       "</div>"
      ],
      "text/plain": [
       "                                       Tweet_Content\n",
       "0   Olympic Legends. #USABMNT #Paris2024 #Basketball\n",
       "1  We've created footwear that not only feels inc...\n",
       "2  #OLYMPICRECORD FOR RIZKI JUNIANSYAH! @iwfnet |...\n",
       "3  Everyone is watching the ball. Except for him....\n",
       "4  Men's javelin throw final was BIG  92.97m OR A..."
      ]
     },
     "execution_count": 3,
     "metadata": {},
     "output_type": "execute_result"
    }
   ],
   "source": [
    "df = df[['Tweet_Content']]\n",
    "df.head()"
   ]
  },
  {
   "cell_type": "code",
   "execution_count": 4,
   "id": "2128d8cb-566e-4292-8f09-e361000bb94c",
   "metadata": {},
   "outputs": [
    {
     "data": {
      "text/plain": [
       "Tweet_Content    18\n",
       "dtype: int64"
      ]
     },
     "execution_count": 4,
     "metadata": {},
     "output_type": "execute_result"
    }
   ],
   "source": [
    "df.isna().sum()"
   ]
  },
  {
   "cell_type": "code",
   "execution_count": 5,
   "id": "7974ba47",
   "metadata": {},
   "outputs": [],
   "source": [
    "df.dropna(inplace=True)"
   ]
  },
  {
   "cell_type": "code",
   "execution_count": 6,
   "id": "f3dad907",
   "metadata": {},
   "outputs": [
    {
     "data": {
      "text/plain": [
       "Tweet_Content    0\n",
       "dtype: int64"
      ]
     },
     "execution_count": 6,
     "metadata": {},
     "output_type": "execute_result"
    }
   ],
   "source": [
    "df.isna().sum()"
   ]
  },
  {
   "cell_type": "code",
   "execution_count": 7,
   "id": "d72bd179-c4d9-4c50-8ab8-fa5763b486f9",
   "metadata": {},
   "outputs": [
    {
     "data": {
      "text/plain": [
       "47877"
      ]
     },
     "execution_count": 7,
     "metadata": {},
     "output_type": "execute_result"
    }
   ],
   "source": [
    "df.duplicated().sum()"
   ]
  },
  {
   "cell_type": "code",
   "execution_count": 8,
   "id": "651a2915-a6c8-47f0-8fb8-03694750d1ac",
   "metadata": {},
   "outputs": [],
   "source": [
    "df = df.drop_duplicates()"
   ]
  },
  {
   "cell_type": "code",
   "execution_count": 9,
   "id": "869efea4-8397-4685-9bcd-89cc1064c14f",
   "metadata": {},
   "outputs": [
    {
     "data": {
      "text/plain": [
       "0"
      ]
     },
     "execution_count": 9,
     "metadata": {},
     "output_type": "execute_result"
    }
   ],
   "source": [
    "df.duplicated().sum()"
   ]
  },
  {
   "cell_type": "code",
   "execution_count": 10,
   "id": "1abcd01e-7c90-462f-a8ac-aa919bd35a80",
   "metadata": {},
   "outputs": [
    {
     "data": {
      "text/plain": [
       "(5276, 1)"
      ]
     },
     "execution_count": 10,
     "metadata": {},
     "output_type": "execute_result"
    }
   ],
   "source": [
    "df.shape"
   ]
  },
  {
   "cell_type": "code",
   "execution_count": 11,
   "id": "fc2f63da",
   "metadata": {},
   "outputs": [],
   "source": [
    "# Function to clean the tweets\n",
    "def clean_tweet(tweet):\n",
    "    # Remove URLs\n",
    "    tweet = re.sub(r'http\\S+|www\\S+|https\\S+', '', tweet, flags=re.MULTILINE)\n",
    "    # Remove user @ references and '#' from tweet\n",
    "    tweet = re.sub(r'\\@\\w+|\\#','', tweet)\n",
    "    # Remove punctuations\n",
    "    tweet = re.sub(r'[^\\w\\s]', '', tweet)\n",
    "    # Remove numbers\n",
    "    tweet = re.sub(r'\\d+', '', tweet)\n",
    "    # Lowercase the words\n",
    "    tweet = tweet.lower()\n",
    "    # Tokenize the tweet\n",
    "    tweet_tokens = tweet.split()\n",
    "    # Remove stopwords\n",
    "    filtered_words = [word for word in tweet_tokens if word not in set(stopwords.words('english'))]\n",
    "    \n",
    "    # Lemmatization\n",
    "    lemmatizer = WordNetLemmatizer()\n",
    "    lemma_words = [lemmatizer.lemmatize(w) for w in filtered_words]\n",
    "    \n",
    "    return \" \".join(lemma_words)\n"
   ]
  },
  {
   "cell_type": "code",
   "execution_count": 12,
   "id": "dda94d6d-d599-40a0-bfcd-f4ac2108f4c6",
   "metadata": {},
   "outputs": [],
   "source": [
    "# Apply the cleaning function to the tweet column\n",
    "df['clean_tweet'] = df['Tweet_Content'].apply(clean_tweet)"
   ]
  },
  {
   "cell_type": "code",
   "execution_count": 13,
   "id": "56b0a2c3-0448-4a3f-9649-a02bcf768b92",
   "metadata": {},
   "outputs": [
    {
     "data": {
      "text/html": [
       "<div>\n",
       "<style scoped>\n",
       "    .dataframe tbody tr th:only-of-type {\n",
       "        vertical-align: middle;\n",
       "    }\n",
       "\n",
       "    .dataframe tbody tr th {\n",
       "        vertical-align: top;\n",
       "    }\n",
       "\n",
       "    .dataframe thead th {\n",
       "        text-align: right;\n",
       "    }\n",
       "</style>\n",
       "<table border=\"1\" class=\"dataframe\">\n",
       "  <thead>\n",
       "    <tr style=\"text-align: right;\">\n",
       "      <th></th>\n",
       "      <th>Tweet_Content</th>\n",
       "      <th>clean_tweet</th>\n",
       "    </tr>\n",
       "  </thead>\n",
       "  <tbody>\n",
       "    <tr>\n",
       "      <th>0</th>\n",
       "      <td>Olympic Legends. #USABMNT #Paris2024 #Basketball</td>\n",
       "      <td>olympic legend usabmnt paris basketball</td>\n",
       "    </tr>\n",
       "    <tr>\n",
       "      <th>1</th>\n",
       "      <td>We've created footwear that not only feels inc...</td>\n",
       "      <td>weve created footwear feel incredible also imp...</td>\n",
       "    </tr>\n",
       "    <tr>\n",
       "      <th>2</th>\n",
       "      <td>#OLYMPICRECORD FOR RIZKI JUNIANSYAH! @iwfnet |...</td>\n",
       "      <td>olympicrecord rizki juniansyah weightlifting p...</td>\n",
       "    </tr>\n",
       "    <tr>\n",
       "      <th>3</th>\n",
       "      <td>Everyone is watching the ball. Except for him....</td>\n",
       "      <td>everyone watching ball except himparis x baske...</td>\n",
       "    </tr>\n",
       "    <tr>\n",
       "      <th>4</th>\n",
       "      <td>Men's javelin throw final was BIG  92.97m OR A...</td>\n",
       "      <td>men javelin throw final big arshad nadeem ande...</td>\n",
       "    </tr>\n",
       "  </tbody>\n",
       "</table>\n",
       "</div>"
      ],
      "text/plain": [
       "                                       Tweet_Content  \\\n",
       "0   Olympic Legends. #USABMNT #Paris2024 #Basketball   \n",
       "1  We've created footwear that not only feels inc...   \n",
       "2  #OLYMPICRECORD FOR RIZKI JUNIANSYAH! @iwfnet |...   \n",
       "3  Everyone is watching the ball. Except for him....   \n",
       "4  Men's javelin throw final was BIG  92.97m OR A...   \n",
       "\n",
       "                                         clean_tweet  \n",
       "0            olympic legend usabmnt paris basketball  \n",
       "1  weve created footwear feel incredible also imp...  \n",
       "2  olympicrecord rizki juniansyah weightlifting p...  \n",
       "3  everyone watching ball except himparis x baske...  \n",
       "4  men javelin throw final big arshad nadeem ande...  "
      ]
     },
     "execution_count": 13,
     "metadata": {},
     "output_type": "execute_result"
    }
   ],
   "source": [
    "df. head()"
   ]
  },
  {
   "cell_type": "code",
   "execution_count": 14,
   "id": "4f6b8c55-bc37-4e47-b9a0-4126ddbe2fb7",
   "metadata": {},
   "outputs": [
    {
     "data": {
      "text/html": [
       "<div>\n",
       "<style scoped>\n",
       "    .dataframe tbody tr th:only-of-type {\n",
       "        vertical-align: middle;\n",
       "    }\n",
       "\n",
       "    .dataframe tbody tr th {\n",
       "        vertical-align: top;\n",
       "    }\n",
       "\n",
       "    .dataframe thead th {\n",
       "        text-align: right;\n",
       "    }\n",
       "</style>\n",
       "<table border=\"1\" class=\"dataframe\">\n",
       "  <thead>\n",
       "    <tr style=\"text-align: right;\">\n",
       "      <th></th>\n",
       "      <th>Tweet_Content</th>\n",
       "      <th>clean_tweet</th>\n",
       "      <th>Positive</th>\n",
       "      <th>Negative</th>\n",
       "      <th>Neutral</th>\n",
       "      <th>Compound</th>\n",
       "    </tr>\n",
       "  </thead>\n",
       "  <tbody>\n",
       "    <tr>\n",
       "      <th>0</th>\n",
       "      <td>Olympic Legends. #USABMNT #Paris2024 #Basketball</td>\n",
       "      <td>olympic legend usabmnt paris basketball</td>\n",
       "      <td>0.00</td>\n",
       "      <td>0.0</td>\n",
       "      <td>1.00</td>\n",
       "      <td>0.0000</td>\n",
       "    </tr>\n",
       "    <tr>\n",
       "      <th>1</th>\n",
       "      <td>We've created footwear that not only feels inc...</td>\n",
       "      <td>weve created footwear feel incredible also imp...</td>\n",
       "      <td>0.36</td>\n",
       "      <td>0.0</td>\n",
       "      <td>0.64</td>\n",
       "      <td>0.8648</td>\n",
       "    </tr>\n",
       "    <tr>\n",
       "      <th>2</th>\n",
       "      <td>#OLYMPICRECORD FOR RIZKI JUNIANSYAH! @iwfnet |...</td>\n",
       "      <td>olympicrecord rizki juniansyah weightlifting p...</td>\n",
       "      <td>0.00</td>\n",
       "      <td>0.0</td>\n",
       "      <td>1.00</td>\n",
       "      <td>0.0000</td>\n",
       "    </tr>\n",
       "    <tr>\n",
       "      <th>3</th>\n",
       "      <td>Everyone is watching the ball. Except for him....</td>\n",
       "      <td>everyone watching ball except himparis x baske...</td>\n",
       "      <td>0.00</td>\n",
       "      <td>0.0</td>\n",
       "      <td>1.00</td>\n",
       "      <td>0.0000</td>\n",
       "    </tr>\n",
       "    <tr>\n",
       "      <th>4</th>\n",
       "      <td>Men's javelin throw final was BIG  92.97m OR A...</td>\n",
       "      <td>men javelin throw final big arshad nadeem ande...</td>\n",
       "      <td>0.00</td>\n",
       "      <td>0.0</td>\n",
       "      <td>1.00</td>\n",
       "      <td>0.0000</td>\n",
       "    </tr>\n",
       "  </tbody>\n",
       "</table>\n",
       "</div>"
      ],
      "text/plain": [
       "                                       Tweet_Content  \\\n",
       "0   Olympic Legends. #USABMNT #Paris2024 #Basketball   \n",
       "1  We've created footwear that not only feels inc...   \n",
       "2  #OLYMPICRECORD FOR RIZKI JUNIANSYAH! @iwfnet |...   \n",
       "3  Everyone is watching the ball. Except for him....   \n",
       "4  Men's javelin throw final was BIG  92.97m OR A...   \n",
       "\n",
       "                                         clean_tweet  Positive  Negative  \\\n",
       "0            olympic legend usabmnt paris basketball      0.00       0.0   \n",
       "1  weve created footwear feel incredible also imp...      0.36       0.0   \n",
       "2  olympicrecord rizki juniansyah weightlifting p...      0.00       0.0   \n",
       "3  everyone watching ball except himparis x baske...      0.00       0.0   \n",
       "4  men javelin throw final big arshad nadeem ande...      0.00       0.0   \n",
       "\n",
       "   Neutral  Compound  \n",
       "0     1.00    0.0000  \n",
       "1     0.64    0.8648  \n",
       "2     1.00    0.0000  \n",
       "3     1.00    0.0000  \n",
       "4     1.00    0.0000  "
      ]
     },
     "execution_count": 14,
     "metadata": {},
     "output_type": "execute_result"
    }
   ],
   "source": [
    "#Vader\n",
    "# Initialize the SentimentIntensityAnalyzer\n",
    "sentiments = SentimentIntensityAnalyzer()\n",
    "\n",
    "# Calculate polarity scores for each tweet and store them in new columns in the DataFrame df\n",
    "df[\"Positive\"] = [sentiments.polarity_scores(tweet)[\"pos\"] for tweet in df[\"clean_tweet\"]]\n",
    "df[\"Negative\"] = [sentiments.polarity_scores(tweet)[\"neg\"] for tweet in df[\"clean_tweet\"]]\n",
    "df[\"Neutral\"] = [sentiments.polarity_scores(tweet)[\"neu\"] for tweet in df[\"clean_tweet\"]]\n",
    "df['Compound'] = [sentiments.polarity_scores(tweet)[\"compound\"] for tweet in df[\"clean_tweet\"]]\n",
    "\n",
    "# Print the first few rows of the DataFrame to see the results\n",
    "df.head()"
   ]
  },
  {
   "cell_type": "code",
   "execution_count": 15,
   "id": "4afadb9d-b48f-44ba-9686-ed872bad31c5",
   "metadata": {},
   "outputs": [
    {
     "data": {
      "text/html": [
       "<div>\n",
       "<style scoped>\n",
       "    .dataframe tbody tr th:only-of-type {\n",
       "        vertical-align: middle;\n",
       "    }\n",
       "\n",
       "    .dataframe tbody tr th {\n",
       "        vertical-align: top;\n",
       "    }\n",
       "\n",
       "    .dataframe thead th {\n",
       "        text-align: right;\n",
       "    }\n",
       "</style>\n",
       "<table border=\"1\" class=\"dataframe\">\n",
       "  <thead>\n",
       "    <tr style=\"text-align: right;\">\n",
       "      <th></th>\n",
       "      <th>Tweet_Content</th>\n",
       "      <th>clean_tweet</th>\n",
       "      <th>Positive</th>\n",
       "      <th>Negative</th>\n",
       "      <th>Neutral</th>\n",
       "      <th>Compound</th>\n",
       "      <th>Sentiment</th>\n",
       "    </tr>\n",
       "  </thead>\n",
       "  <tbody>\n",
       "    <tr>\n",
       "      <th>0</th>\n",
       "      <td>Olympic Legends. #USABMNT #Paris2024 #Basketball</td>\n",
       "      <td>olympic legend usabmnt paris basketball</td>\n",
       "      <td>0.00</td>\n",
       "      <td>0.0</td>\n",
       "      <td>1.00</td>\n",
       "      <td>0.0000</td>\n",
       "      <td>Neutral</td>\n",
       "    </tr>\n",
       "    <tr>\n",
       "      <th>1</th>\n",
       "      <td>We've created footwear that not only feels inc...</td>\n",
       "      <td>weve created footwear feel incredible also imp...</td>\n",
       "      <td>0.36</td>\n",
       "      <td>0.0</td>\n",
       "      <td>0.64</td>\n",
       "      <td>0.8648</td>\n",
       "      <td>Positive</td>\n",
       "    </tr>\n",
       "    <tr>\n",
       "      <th>2</th>\n",
       "      <td>#OLYMPICRECORD FOR RIZKI JUNIANSYAH! @iwfnet |...</td>\n",
       "      <td>olympicrecord rizki juniansyah weightlifting p...</td>\n",
       "      <td>0.00</td>\n",
       "      <td>0.0</td>\n",
       "      <td>1.00</td>\n",
       "      <td>0.0000</td>\n",
       "      <td>Neutral</td>\n",
       "    </tr>\n",
       "    <tr>\n",
       "      <th>3</th>\n",
       "      <td>Everyone is watching the ball. Except for him....</td>\n",
       "      <td>everyone watching ball except himparis x baske...</td>\n",
       "      <td>0.00</td>\n",
       "      <td>0.0</td>\n",
       "      <td>1.00</td>\n",
       "      <td>0.0000</td>\n",
       "      <td>Neutral</td>\n",
       "    </tr>\n",
       "    <tr>\n",
       "      <th>4</th>\n",
       "      <td>Men's javelin throw final was BIG  92.97m OR A...</td>\n",
       "      <td>men javelin throw final big arshad nadeem ande...</td>\n",
       "      <td>0.00</td>\n",
       "      <td>0.0</td>\n",
       "      <td>1.00</td>\n",
       "      <td>0.0000</td>\n",
       "      <td>Neutral</td>\n",
       "    </tr>\n",
       "  </tbody>\n",
       "</table>\n",
       "</div>"
      ],
      "text/plain": [
       "                                       Tweet_Content  \\\n",
       "0   Olympic Legends. #USABMNT #Paris2024 #Basketball   \n",
       "1  We've created footwear that not only feels inc...   \n",
       "2  #OLYMPICRECORD FOR RIZKI JUNIANSYAH! @iwfnet |...   \n",
       "3  Everyone is watching the ball. Except for him....   \n",
       "4  Men's javelin throw final was BIG  92.97m OR A...   \n",
       "\n",
       "                                         clean_tweet  Positive  Negative  \\\n",
       "0            olympic legend usabmnt paris basketball      0.00       0.0   \n",
       "1  weve created footwear feel incredible also imp...      0.36       0.0   \n",
       "2  olympicrecord rizki juniansyah weightlifting p...      0.00       0.0   \n",
       "3  everyone watching ball except himparis x baske...      0.00       0.0   \n",
       "4  men javelin throw final big arshad nadeem ande...      0.00       0.0   \n",
       "\n",
       "   Neutral  Compound Sentiment  \n",
       "0     1.00    0.0000   Neutral  \n",
       "1     0.64    0.8648  Positive  \n",
       "2     1.00    0.0000   Neutral  \n",
       "3     1.00    0.0000   Neutral  \n",
       "4     1.00    0.0000   Neutral  "
      ]
     },
     "execution_count": 15,
     "metadata": {},
     "output_type": "execute_result"
    }
   ],
   "source": [
    "score = df[\"Compound\"].values\n",
    "sentiment = []\n",
    "for i in score:\n",
    "    if i >= 0.05 :\n",
    "        sentiment.append('Positive')\n",
    "    elif i <= -0.05 :\n",
    "        sentiment.append('Negative')\n",
    "    else:\n",
    "        sentiment.append('Neutral')\n",
    "df[\"Sentiment\"] = sentiment\n",
    "df.head()"
   ]
  },
  {
   "cell_type": "code",
   "execution_count": 16,
   "id": "d229298b",
   "metadata": {},
   "outputs": [
    {
     "name": "stdout",
     "output_type": "stream",
     "text": [
      "Sentiment\n",
      "Neutral     2811\n",
      "Positive    2013\n",
      "Negative     452\n",
      "Name: count, dtype: int64\n"
     ]
    }
   ],
   "source": [
    "#Distribution of sentiments\n",
    "print(df['Sentiment'].value_counts())"
   ]
  },
  {
   "cell_type": "code",
   "execution_count": 17,
   "id": "ba904b4b",
   "metadata": {},
   "outputs": [
    {
     "data": {
      "image/png": "[encoded data removed]",
      "text/plain": [
       "<Figure size 800x500 with 1 Axes>"
      ]
     },
     "metadata": {},
     "output_type": "display_data"
    }
   ],
   "source": [
    "import matplotlib.pyplot as plt\n",
    "# Splitting the data into features and target\n",
    "X = df['clean_tweet']\n",
    "y = df['Sentiment']\n",
    "\n",
    "# Visualizing class distribution before SMOTE\n",
    "fig, ax = plt.subplots(figsize=(8, 5))\n",
    "y.value_counts().plot(kind='bar', color='skyblue')\n",
    "ax.set_title('Original Class Distribution')\n",
    "ax.set_xlabel('Sentiment')\n",
    "ax.set_ylabel('Frequency')\n",
    "plt.show()\n"
   ]
  },
  {
   "cell_type": "code",
   "execution_count": 18,
   "id": "6612caf1-b351-498e-b182-552ecfcce041",
   "metadata": {
    "scrolled": true
   },
   "outputs": [],
   "source": [
    "from imblearn.over_sampling import SMOTE\n",
    "from sklearn.model_selection import train_test_split\n",
    "\n",
    "# Transforming the text data into vectors\n",
    "from sklearn.feature_extraction.text import TfidfVectorizer\n",
    "vectorizer = TfidfVectorizer()\n",
    "X_vectorized = vectorizer.fit_transform(X)\n",
    "\n",
    "# Splitting the data into training and testing sets\n",
    "X_train, X_test, y_train, y_test = train_test_split(X_vectorized, y, test_size=0.2, random_state=42)\n",
    "\n",
    "# Applying SMOTE to address class imbalance\n",
    "smote = SMOTE(random_state=42)\n",
    "X_sm, y_sm = smote.fit_resample(X_train, y_train)"
   ]
  },
  {
   "cell_type": "code",
   "execution_count": 19,
   "id": "d6319361",
   "metadata": {},
   "outputs": [
    {
     "data": {
      "image/png": "[encoded data removed]",
      "text/plain": [
       "<Figure size 800x500 with 1 Axes>"
      ]
     },
     "metadata": {},
     "output_type": "display_data"
    }
   ],
   "source": [
    "# Visualizing class distribution after SMOTE\n",
    "fig, ax = plt.subplots(figsize=(8, 5))\n",
    "y_sm.value_counts().plot(kind='bar', color='lightgreen')\n",
    "ax.set_title('Class Distribution After SMOTE')\n",
    "ax.set_xlabel('Sentiment')\n",
    "ax.set_ylabel('Frequency')\n",
    "plt.show()"
   ]
  },
  {
   "cell_type": "code",
   "execution_count": 21,
   "id": "242f1609",
   "metadata": {},
   "outputs": [
    {
     "name": "stdout",
     "output_type": "stream",
     "text": [
      "Training and evaluating baseline models...\n",
      "\n"
     ]
    },
    {
     "name": "stderr",
     "output_type": "stream",
     "text": [
      "C:\\Users\\THINKPAD X1 CARBON\\anaconda3\\envs\\learn-env\\lib\\site-packages\\sklearn\\linear_model\\_logistic.py:460: ConvergenceWarning: lbfgs failed to converge (status=1):\n",
      "STOP: TOTAL NO. of ITERATIONS REACHED LIMIT.\n",
      "\n",
      "Increase the number of iterations (max_iter) or scale the data as shown in:\n",
      "    https://scikit-learn.org/stable/modules/preprocessing.html\n",
      "Please also refer to the documentation for alternative solver options:\n",
      "    https://scikit-learn.org/stable/modules/linear_model.html#logistic-regression\n",
      "  n_iter_i = _check_optimize_result(\n"
     ]
    },
    {
     "name": "stdout",
     "output_type": "stream",
     "text": [
      "Logistic Regression pipeline classification report:\n",
      "\n",
      "              precision    recall  f1-score   support\n",
      "\n",
      "    Negative       0.57      0.37      0.45        78\n",
      "     Neutral       0.79      0.89      0.84       555\n",
      "    Positive       0.81      0.74      0.77       423\n",
      "\n",
      "    accuracy                           0.79      1056\n",
      "   macro avg       0.72      0.67      0.69      1056\n",
      "weighted avg       0.78      0.79      0.78      1056\n",
      "\n",
      "Confusion Matrix for Logistic Regression:\n",
      "\n",
      "[[ 29  26  23]\n",
      " [ 15 492  48]\n",
      " [  7 104 312]]\n",
      "Support Vector Machine pipeline classification report:\n",
      "\n",
      "              precision    recall  f1-score   support\n",
      "\n",
      "    Negative       0.23      0.28      0.25        78\n",
      "     Neutral       0.72      0.76      0.74       555\n",
      "    Positive       0.75      0.67      0.71       423\n",
      "\n",
      "    accuracy                           0.69      1056\n",
      "   macro avg       0.57      0.57      0.57      1056\n",
      "weighted avg       0.70      0.69      0.69      1056\n",
      "\n",
      "Confusion Matrix for Support Vector Machine:\n",
      "\n",
      "[[ 22  33  23]\n",
      " [ 63 421  71]\n",
      " [ 11 127 285]]\n",
      "Random Forest pipeline classification report:\n",
      "\n",
      "              precision    recall  f1-score   support\n",
      "\n",
      "    Negative       0.95      0.27      0.42        78\n",
      "     Neutral       0.77      0.95      0.85       555\n",
      "    Positive       0.88      0.71      0.78       423\n",
      "\n",
      "    accuracy                           0.81      1056\n",
      "   macro avg       0.87      0.64      0.68      1056\n",
      "weighted avg       0.82      0.81      0.79      1056\n",
      "\n",
      "Confusion Matrix for Random Forest:\n",
      "\n",
      "[[ 21  39  18]\n",
      " [  1 529  25]\n",
      " [  0 122 301]]\n",
      "Naive Bayes pipeline classification report:\n",
      "\n",
      "              precision    recall  f1-score   support\n",
      "\n",
      "    Negative       0.39      0.58      0.47        78\n",
      "     Neutral       0.86      0.70      0.77       555\n",
      "    Positive       0.72      0.83      0.77       423\n",
      "\n",
      "    accuracy                           0.74      1056\n",
      "   macro avg       0.66      0.70      0.67      1056\n",
      "weighted avg       0.77      0.74      0.75      1056\n",
      "\n",
      "Confusion Matrix for Naive Bayes:\n",
      "\n",
      "[[ 45  11  22]\n",
      " [ 49 389 117]\n",
      " [ 21  51 351]]\n",
      "\n",
      "The best performing model is Random Forest with an accuracy of 0.806.\n",
      "Random Forest model has been saved successfully as 'random_forest_model.pkl'.\n"
     ]
    }
   ],
   "source": [
    "import numpy as np\n",
    "import pandas as pd\n",
    "from sklearn.feature_extraction.text import TfidfVectorizer\n",
    "from sklearn.model_selection import train_test_split\n",
    "from sklearn.pipeline import Pipeline\n",
    "from sklearn.preprocessing import StandardScaler\n",
    "from sklearn.linear_model import LogisticRegression\n",
    "from sklearn.svm import SVC\n",
    "from sklearn.ensemble import RandomForestClassifier\n",
    "from sklearn.naive_bayes import MultinomialNB\n",
    "from sklearn.metrics import accuracy_score, classification_report, confusion_matrix\n",
    "from imblearn.over_sampling import SMOTE\n",
    "import pickle\n",
    "\n",
    "\n",
    "\n",
    "# Define pipelines\n",
    "pipe_lr = Pipeline([\n",
    "    ('scl', StandardScaler(with_mean=False)),  # with_mean=False for compatibility with sparse matrices\n",
    "    ('clf', LogisticRegression(random_state=42))\n",
    "])\n",
    "pipe_svm = Pipeline([\n",
    "    ('scl', StandardScaler(with_mean=False)),\n",
    "    ('clf', SVC(random_state=42))\n",
    "])\n",
    "pipe_rf = Pipeline([\n",
    "    ('clf', RandomForestClassifier(random_state=42))\n",
    "])\n",
    "pipe_nb = Pipeline([\n",
    "    ('clf', MultinomialNB())\n",
    "])\n",
    "\n",
    "# List of pipelines for easy iteration\n",
    "pipelines = [pipe_lr, pipe_svm, pipe_rf, pipe_nb]\n",
    "pipe_dict = {0: 'Logistic Regression', 1: 'Support Vector Machine', 2: 'Random Forest', 3: 'Naive Bayes'}\n",
    "\n",
    "# Initialize variables to track the best model\n",
    "best_accuracy = 0\n",
    "best_pipeline = None\n",
    "best_model_name = \"\"\n",
    "\n",
    "print(\"Training and evaluating baseline models...\\n\")\n",
    "for idx, pipe in enumerate(pipelines):\n",
    "    # Train the model\n",
    "    pipe.fit(X_sm, y_sm)\n",
    "    \n",
    "    # Predict on the test set\n",
    "    y_pred = pipe.predict(X_test)\n",
    "    \n",
    "    # Calculate accuracy\n",
    "    accuracy = accuracy_score(y_test, y_pred)\n",
    "    \n",
    "    # Print the classification report\n",
    "    print(f'{pipe_dict[idx]} pipeline classification report:\\n')\n",
    "    print(classification_report(y_test, y_pred))\n",
    "    \n",
    "    # Print the confusion matrix\n",
    "    print(f'Confusion Matrix for {pipe_dict[idx]}:\\n')\n",
    "    print(confusion_matrix(y_test, y_pred))\n",
    "    \n",
    "    # Check if this model has the best accuracy\n",
    "    if accuracy > best_accuracy:\n",
    "        best_accuracy = accuracy\n",
    "        best_pipeline = pipe\n",
    "        best_model_name = pipe_dict[idx]\n",
    "\n",
    "# Print the best model details\n",
    "print(f\"\\nThe best performing model is {best_model_name} with an accuracy of {best_accuracy:.3f}.\")\n",
    "\n",
    "# Pickle the best model\n",
    "with open(f'{best_model_name.replace(\" \", \"_\").lower()}_model.pkl', 'wb') as model_file:\n",
    "    pickle.dump(best_pipeline, model_file)\n",
    "\n",
    "print(f\"{best_model_name} model has been saved successfully as '{best_model_name.replace(' ', '_').lower()}_model.pkl'.\")"
   ]
  },
  {
   "cell_type": "code",
   "execution_count": 22,
   "id": "7cb3f732",
   "metadata": {},
   "outputs": [
    {
     "name": "stdout",
     "output_type": "stream",
     "text": [
      "Performing hyperparameter tuning for Random Forest...\n",
      "\n",
      "Fitting 5 folds for each of 108 candidates, totalling 540 fits\n",
      "Best parameters for Random Forest: {'clf__max_depth': None, 'clf__min_samples_leaf': 1, 'clf__min_samples_split': 2, 'clf__n_estimators': 100}\n",
      "\n",
      "Random Forest tuned model classification report:\n",
      "\n",
      "              precision    recall  f1-score   support\n",
      "\n",
      "    Negative       0.95      0.27      0.42        78\n",
      "     Neutral       0.77      0.95      0.85       555\n",
      "    Positive       0.88      0.71      0.78       423\n",
      "\n",
      "    accuracy                           0.81      1056\n",
      "   macro avg       0.87      0.64      0.68      1056\n",
      "weighted avg       0.82      0.81      0.79      1056\n",
      "\n",
      "Confusion Matrix for Random Forest tuned model:\n",
      "\n",
      "[[ 21  39  18]\n",
      " [  1 529  25]\n",
      " [  0 122 301]]\n",
      "Tuned Random Forest model has been saved successfully as 'random_forest_tuned_model.pkl'.\n"
     ]
    }
   ],
   "source": [
    "from sklearn.model_selection import GridSearchCV\n",
    "\n",
    "# Define the parameter grid based on the best model\n",
    "if best_model_name == 'Logistic Regression':\n",
    "    param_grid = {\n",
    "        'clf__C': [0.1, 1, 10, 100],\n",
    "        'clf__solver': ['newton-cg', 'lbfgs', 'liblinear']\n",
    "    }\n",
    "elif best_model_name == 'Support Vector Machine':\n",
    "    param_grid = {\n",
    "        'clf__C': [0.1, 1, 10, 100],\n",
    "        'clf__gamma': [1, 0.1, 0.01, 0.001],\n",
    "        'clf__kernel': ['linear', 'rbf']\n",
    "    }\n",
    "elif best_model_name == 'Random Forest':\n",
    "    param_grid = {\n",
    "        'clf__n_estimators': [100, 200, 300],\n",
    "        'clf__max_depth': [None, 10, 20, 30],\n",
    "        'clf__min_samples_split': [2, 5, 10],\n",
    "        'clf__min_samples_leaf': [1, 2, 4]\n",
    "    }\n",
    "elif best_model_name == 'Naive Bayes':\n",
    "    param_grid = {\n",
    "        'clf__alpha': [0.1, 0.5, 1.0]\n",
    "    }\n",
    "\n",
    "# Perform GridSearchCV\n",
    "print(f\"Performing hyperparameter tuning for {best_model_name}...\\n\")\n",
    "grid_search = GridSearchCV(estimator=best_pipeline, param_grid=param_grid, \n",
    "                           cv=5, n_jobs=-1, verbose=2, scoring='accuracy')\n",
    "grid_search.fit(X_sm, y_sm)\n",
    "\n",
    "# Get the best parameters and the best model\n",
    "best_params = grid_search.best_params_\n",
    "best_tuned_model = grid_search.best_estimator_\n",
    "\n",
    "# Print the best parameters\n",
    "print(f\"Best parameters for {best_model_name}: {best_params}\\n\")\n",
    "\n",
    "# Evaluate the tuned model on the test set\n",
    "y_pred_tuned = best_tuned_model.predict(X_test)\n",
    "accuracy_tuned = accuracy_score(y_test, y_pred_tuned)\n",
    "\n",
    "# Print the classification report and confusion matrix\n",
    "print(f\"{best_model_name} tuned model classification report:\\n\")\n",
    "print(classification_report(y_test, y_pred_tuned))\n",
    "print(f\"Confusion Matrix for {best_model_name} tuned model:\\n\")\n",
    "print(confusion_matrix(y_test, y_pred_tuned))\n",
    "\n",
    "# Pickle the tuned model\n",
    "tuned_model_filename = f'{best_model_name.replace(\" \", \"_\").lower()}_tuned_model.pkl'\n",
    "with open(tuned_model_filename, 'wb') as model_file:\n",
    "    pickle.dump(best_tuned_model, model_file)\n",
    "\n",
    "print(f\"Tuned {best_model_name} model has been saved successfully as '{tuned_model_filename}'.\")"
   ]
  },
  {
   "cell_type": "code",
   "execution_count": 23,
   "id": "8dbe653d-0736-43e9-8bac-9ae7108eee27",
   "metadata": {},
   "outputs": [
    {
     "name": "stdout",
     "output_type": "stream",
     "text": [
      "TF-IDF vectorizer has been saved successfully as 'tfidf_vectorizer.pkl'.\n"
     ]
    }
   ],
   "source": [
    "# Save the vectorizer \n",
    "vectorizer_filename = 'tfidf_vectorizer.pkl'\n",
    "with open(vectorizer_filename, 'wb') as vec_file:\n",
    "    pickle.dump(vectorizer, vec_file)\n",
    "\n",
    "print(f\"TF-IDF vectorizer has been saved successfully as '{vectorizer_filename}'.\")"
   ]
  },
  {
   "cell_type": "code",
   "execution_count": null,
   "id": "569ca3c7-2297-4030-8f87-a1e58e7e2f92",
   "metadata": {},
   "outputs": [],
   "source": []
  },
  {
   "cell_type": "code",
   "execution_count": 29,
   "id": "50e4bd1a-aa6c-46c5-a497-28f503caf977",
   "metadata": {},
   "outputs": [
    {
     "name": "stdin",
     "output_type": "stream",
     "text": [
      "Enter a tweet to analyze sentiment:   amazing olympics\n"
     ]
    },
    {
     "name": "stdout",
     "output_type": "stream",
     "text": [
      "The sentiment of the tweet is: Neutral\n"
     ]
    }
   ],
   "source": [
    "# Load the pickled vectorizer\n",
    "with open('tfidf_vectorizer.pkl', 'rb') as vec_file:\n",
    "    loaded_vectorizer = pickle.load(vec_file)\n",
    "\n",
    "# Load the pickled model (assuming it's a RandomForest model)\n",
    "with open('random_forest_tuned_model.pkl', 'rb') as model_file:\n",
    "    loaded_model = pickle.load(model_file)\n",
    "\n",
    "def predict_sentiment(text):\n",
    "    # Preprocess the text using the loaded vectorizer\n",
    "    text_transformed = loaded_vectorizer.transform([text])\n",
    "    \n",
    "    # Predict the sentiment using the loaded model\n",
    "    sentiment_predicted = loaded_model.predict(text_transformed)\n",
    "    \n",
    "    # Return the predicted sentiment label directly\n",
    "    return sentiment_predicted[0]\n",
    "\n",
    "# Prompting user for a tweet\n",
    "tweet = input(\"Enter a tweet to analyze sentiment: \")\n",
    "\n",
    "# Getting and printing the predicted sentiment\n",
    "predicted_sentiment = predict_sentiment(tweet)\n",
    "print(f\"The sentiment of the tweet is: {predicted_sentiment}\")"
   ]
  },
  {
   "cell_type": "markdown",
   "id": "22b7f3c9",
   "metadata": {},
   "source": [
    "Trying pretrained tools"
   ]
  },
  {
   "cell_type": "code",
   "execution_count": 25,
   "id": "a627a963-31b9-4cb2-b0b9-15394fbddcc8",
   "metadata": {},
   "outputs": [
    {
     "name": "stdout",
     "output_type": "stream",
     "text": [
      "VADER model has been saved successfully as 'vader_model.pkl'.\n"
     ]
    }
   ],
   "source": [
    "from nltk.sentiment import SentimentIntensityAnalyzer\n",
    "\n",
    "# Initialize the VADER SentimentIntensityAnalyzer\n",
    "vader_analyzer = SentimentIntensityAnalyzer()\n",
    "\n",
    "# Pickle the VADER model\n",
    "vader_model_filename = 'vader_model.pkl'\n",
    "with open(vader_model_filename, 'wb') as model_file:\n",
    "    pickle.dump(vader_analyzer, model_file)\n",
    "\n",
    "print(f\"VADER model has been saved successfully as '{vader_model_filename}'.\")"
   ]
  },
  {
   "cell_type": "code",
   "execution_count": 30,
   "id": "2da275dc-f62b-4acc-bfe1-ddc51f792fb4",
   "metadata": {},
   "outputs": [
    {
     "name": "stdin",
     "output_type": "stream",
     "text": [
      "Enter a tweet to analyze sentiment:   amazing olympics\n"
     ]
    },
    {
     "name": "stdout",
     "output_type": "stream",
     "text": [
      "The sentiment of the tweet is: Positive\n"
     ]
    }
   ],
   "source": [
    "# Load the pickled VADER model\n",
    "with open('vader_model.pkl', 'rb') as vader_file:\n",
    "    loaded_vader = pickle.load(vader_file)\n",
    "\n",
    "# Load the pickled vectorizer\n",
    "with open('tfidf_vectorizer.pkl', 'rb') as vec_file:\n",
    "    loaded_vectorizer = pickle.load(vec_file)\n",
    "\n",
    "def predict_sentiment_vader(text):\n",
    "    # Preprocess the text using the loaded vectorizer (if you want to combine TF-IDF with VADER)\n",
    "    text_transformed = loaded_vectorizer.transform([text])\n",
    "    \n",
    "    # Use the VADER model to predict the sentiment\n",
    "    vader_scores = loaded_vader.polarity_scores(text)\n",
    "    \n",
    "    # Determine sentiment based on VADER compound score\n",
    "    compound_score = vader_scores['compound']\n",
    "    if compound_score >= 0.05:\n",
    "        sentiment = 'Positive'\n",
    "    elif compound_score <= -0.05:\n",
    "        sentiment = 'Negative'\n",
    "    else:\n",
    "        sentiment = 'Neutral'\n",
    "    \n",
    "    # Return the predicted sentiment label\n",
    "    return sentiment\n",
    "\n",
    "# Prompting user for a tweet\n",
    "tweet = input(\"Enter a tweet to analyze sentiment: \")\n",
    "\n",
    "# Getting and printing the predicted sentiment\n",
    "predicted_sentiment = predict_sentiment_vader(tweet)\n",
    "print(f\"The sentiment of the tweet is: {predicted_sentiment}\")"
   ]
  },
  {
   "cell_type": "code",
   "execution_count": 5,
   "id": "6192c471-c0e1-4433-ae40-b72a59152c5e",
   "metadata": {},
   "outputs": [
    {
     "name": "stderr",
     "output_type": "stream",
     "text": [
      "C:\\Users\\THINKPAD X1 CARBON\\anaconda3\\envs\\learn-env\\lib\\site-packages\\transformers\\tokenization_utils_base.py:1601: FutureWarning: `clean_up_tokenization_spaces` was not set. It will be set to `True` by default. This behavior will be depracted in transformers v4.45, and will be then set to `False` by default. For more details check this issue: https://github.com/huggingface/transformers/issues/31884\n",
      "  warnings.warn(\n"
     ]
    },
    {
     "name": "stdout",
     "output_type": "stream",
     "text": [
      "DistilBERT sentiment analysis model pipeline has been saved successfully.\n"
     ]
    }
   ],
   "source": [
    "from transformers import pipeline\n",
    "\n",
    "# Define the pre-trained sentiment analysis model\n",
    "model_name = \"distilbert-base-uncased-finetuned-sst-2-english\"\n",
    "model_revision = \"af0f99b\"\n",
    "\n",
    "# Create the sentiment analysis pipeline with the specified model\n",
    "classifier = pipeline(\"sentiment-analysis\", model=model_name, revision=model_revision)\n",
    "\n",
    "# Save the pipeline to a pickle file\n",
    "with open('distilbert_sentiment_pipeline.pkl', 'wb') as model_file:\n",
    "    pickle.dump(classifier, model_file)\n",
    "\n",
    "print(\"DistilBERT sentiment analysis model pipeline has been saved successfully.\")"
   ]
  },
  {
   "cell_type": "code",
   "execution_count": null,
   "id": "36466f4e-46b9-472a-99d4-07befea51387",
   "metadata": {},
   "outputs": [
    {
     "name": "stderr",
     "output_type": "stream",
     "text": [
      "C:\\Users\\THINKPAD X1 CARBON\\anaconda3\\envs\\learn-env\\lib\\site-packages\\torch\\storage.py:414: FutureWarning: You are using `torch.load` with `weights_only=False` (the current default value), which uses the default pickle module implicitly. It is possible to construct malicious pickle data which will execute arbitrary code during unpickling (See https://github.com/pytorch/pytorch/blob/main/SECURITY.md#untrusted-models for more details). In a future release, the default value for `weights_only` will be flipped to `True`. This limits the functions that could be executed during unpickling. Arbitrary objects will no longer be allowed to be loaded via this mode unless they are explicitly allowlisted by the user via `torch.serialization.add_safe_globals`. We recommend you start setting `weights_only=True` for any use case where you don't have full control of the loaded file. Please open an issue on GitHub for any issues related to this experimental feature.\n",
      "  return torch.load(io.BytesIO(b))\n"
     ]
    }
   ],
   "source": [
    "# Load the pickled DistilBERT sentiment analysis pipeline\n",
    "with open('distilbert_sentiment_pipeline.pkl', 'rb') as model_file:\n",
    "    loaded_classifier = pickle.load(model_file)\n",
    "\n",
    "# Prompt user for a tweet\n",
    "tweet = input(\"Enter a tweet to analyze sentiment: \")\n",
    "\n",
    "# Getting and printing the predicted sentiment\n",
    "predicted_sentiment = loaded_classifier(tweet)\n",
    "print(f\"The sentiment of the tweet is: {predicted_sentiment[0]['label']} with a score of {predicted_sentiment[0]['score']:.4f}\")"
   ]
  },
  {
   "cell_type": "code",
   "execution_count": null,
   "id": "cae24d46-cf1d-40e3-8d90-90a0c6878b5a",
   "metadata": {},
   "outputs": [],
   "source": []
  }
 ],
 "metadata": {
  "kernelspec": {
   "display_name": "Python (learn-env)",
   "language": "python",
   "name": "learn-env"
  },
  "language_info": {
   "codemirror_mode": {
    "name": "ipython",
    "version": 3
   },
   "file_extension": ".py",
   "mimetype": "text/x-python",
   "name": "python",
   "nbconvert_exporter": "python",
   "pygments_lexer": "ipython3",
   "version": "3.8.5"
  }
 },
 "nbformat": 4,
 "nbformat_minor": 5
}
