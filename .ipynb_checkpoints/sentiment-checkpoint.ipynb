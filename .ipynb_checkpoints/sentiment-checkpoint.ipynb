{
 "cells": [
  {
   "cell_type": "markdown",
   "metadata": {},
   "source": [
    "# Business Understanding"
   ]
  },
  {
   "cell_type": "markdown",
   "metadata": {},
   "source": [
    "## Overview\n",
    "\n"
   ]
  },
  {
   "cell_type": "markdown",
   "metadata": {},
   "source": [
    "The Paris Olympics is a global sporting event that has garnered significant attention and engagement across various social media platforms. Analyzing public sentiment regarding the Olympics can provide valuable insights into how athletes, countries and the overall event are perceived. This analysis can benefit sports organizations, media outlets, sponsors offering feedback on public perception, performance and engagement levels thus helping to tailor content and marketing strategies. Sentiment analysis can also benefit city officials to improve planning and address concerns such as health and sanitation.\n",
    "The goal of this project is to perform a comprehensive sentiment analysis of social media content related to this year's Paris Olympics to understand public sentiment, identify emerging trends and provide a comprehensive understanding of how different aspects of the Olympics resonate with audiences worldwide."
   ]
  },
  {
   "cell_type": "markdown",
   "metadata": {},
   "source": [
    "## Problem Statement\n",
    "\n"
   ]
  },
  {
   "cell_type": "markdown",
   "metadata": {},
   "source": [
    "The Paris Olympics is a high-profile event that generates a substantial volume of unstructured social media data that reflects public sentiment. The challenge lies in effectively analyzing this vast and diverse stream of data while also tackling challenges such as language differences, sentiment variations and contextual meanings in order to provide accurate and actionable insights. "
   ]
  },
  {
   "cell_type": "markdown",
   "metadata": {},
   "source": [
    "## Proposed Solutions\n",
    "\n"
   ]
  },
  {
   "cell_type": "markdown",
   "metadata": {},
   "source": [
    "1.\tUse API access to collect data from major social media platforms and ensure compliance with platform policies and data protection regulations.\n",
    "2.\tImplement text normalization, tokenization and content filtering while utilizing language detection and translation tools for multilingual data handling. \n",
    "3.\tEmploy advanced natural language processing models like BERT or GPT for sentiment classification incorporating sarcasm detection and contextual analysis for improved accuracy. \n",
    "4.\tCreate an interactive dashboard using Tableau to display sentiment trends and insights with features for data filtering and exploring different aspects of the data."
   ]
  },
  {
   "cell_type": "markdown",
   "metadata": {},
   "source": [
    "## Objectives\n",
    "\n",
    "\n"
   ]
  },
  {
   "cell_type": "markdown",
   "metadata": {},
   "source": [
    "### Main Objective\n",
    "Develop a comprehensive social media sentiment analysis model that accurately captures and interprets public sentiment about the Paris Olympics from social media data."
   ]
  },
  {
   "cell_type": "markdown",
   "metadata": {},
   "source": [
    "### Specific Objectives\n",
    "1.\tTo extract, preprocess and clean social media data from multiple platforms addressing quality issues and handling multilingual content related to the Paris Olympics. \n",
    "2.\tTo develop and train advanced natural language processing models to accurately classify sentiments incorporating techniques to handle sarcasm and contextual nuances. \n",
    "3.\tTo create interactive visualizations to display sentiment trends and key events providing actionable insights to stakeholders based on comprehensive analysis of public opinions."
   ]
  },
  {
   "cell_type": "markdown",
   "metadata": {},
   "source": [
    "## Success Metrics\n",
    "\n"
   ]
  },
  {
   "cell_type": "markdown",
   "metadata": {},
   "source": [
    "- Accuracy – The proportion of correctly classified sentiments (positive, negative, neutral) out of all sentiments predicted by the model.\n",
    "85% - 90%\n",
    "\n",
    "- Precision -  The proportion of true positive sentiment predictions (correctly identified positive tweets) out of all predicted positives.\n",
    "80% - 90% for both positive and negative sentiment classes.\n",
    "75% - 85% for the neutral class.\n",
    "\n",
    "- Recall - The proportion of true positive sentiment predictions out of all actual positives.\n",
    "75% - 80% for all sentiment classes.\n",
    "\n",
    "- F1 Score - The harmonic mean of Precision and Recall that provides a single metric that balances both precision and recall.\n",
    "0.75 to 0.85\n",
    "\n",
    "- Area Under the Curve - Receiver Operating Characteristic (AUC-ROC) - Measures how well a model distinguishes between classes. > 0.85"
   ]
  },
  {
   "cell_type": "markdown",
   "metadata": {},
   "source": [
    "## Challenges\n"
   ]
  },
  {
   "cell_type": "markdown",
   "metadata": {},
   "source": [
    "- Social media data is noisy and unstructured presenting challenges for accurate analysis. \n",
    "- Distinguishing between positive, negative and neutral sentiments can be difficult especially when dealing with multilingual content thus affecting sentiment analysis accuracy\n",
    "- The volume of social media posts and comments can be overwhelming particularly during major events like the Olympics. Managing and processing large volumes of real-time data necessitates efficient data handling and processing techniques. \n",
    "- Interpreting context and sarcasm an extra layer of complexity as the sentiment expressed may not always align with the literal meaning of the words used. Social media content often includes informal language, slang and nuanced expressions that can skew sentiment analysis"
   ]
  },
  {
   "cell_type": "markdown",
   "metadata": {},
   "source": [
    "## Conclusion\n",
    "\n"
   ]
  },
  {
   "cell_type": "markdown",
   "metadata": {},
   "source": [
    "This sentiment analysis project aims to deliver a comprehensive understanding of public opinion about the Paris Olympics by leveraging social media data. By addressing the challenges of data quality, sentiment accuracy, multilingual content and implementing advanced NLP techniques, the project will provide actionable insights to the aforementioned stakeholders. Successful execution will enable better engagement strategies and enhance the overall experience of the Olympics for audiences worldwide."
   ]
  },
  {
   "cell_type": "markdown",
   "metadata": {},
   "source": [
    "## DATA UNDERSTANDING\n",
    "\n",
    "\n"
   ]
  },
  {
   "cell_type": "markdown",
   "metadata": {},
   "source": [
    "### Data Sources\n",
    "1.\tAPIs - Extract data from social media sites such as Twitter, Facebook and Instagram in the form of posts, tweets, comments and hashtags using their respective APIs. \n",
    "The focus will be on posts mentioning Paris Olympics, relevant hashtags and location-based data.\n",
    "\n",
    "2.\tWeb Scraping - Extract additional data from comments and discussions from news sites and sports forums such as ESPN and Sports Center"
   ]
  },
  {
   "cell_type": "markdown",
   "metadata": {},
   "source": [
    "### Datasets\n",
    "\n"
   ]
  },
  {
   "cell_type": "markdown",
   "metadata": {},
   "source": [
    "1.\tSocial media data in the form of tweets, facebook and Instagram posts and comments mentioning the Paris Olympics.\n",
    "2.\tNews articles, comments and replies discussing the various aspects of the Olympics."
   ]
  },
  {
   "cell_type": "markdown",
   "metadata": {},
   "source": [
    "### Relevance of The Data\n",
    "\n"
   ]
  },
  {
   "cell_type": "markdown",
   "metadata": {},
   "source": [
    ">The data sources and datasets identified for this project are highly relevant to analyzing public sentiment surrounding the Paris Olympics. Social media platforms like Twitter, Facebook and Instagram capture immediate reactions, discussions and emotional responses from a global audience thus providing a rich source of unfiltered public sentiment. \n",
    "The inclusion of location-based data and relevant hashtags allows for more targeted analysis potentially revealing geographical trends and topic-specific sentiments. Complementing this with web scraping of news sites and sports forums like ESPN and Sports Center adds depth to the analysis by incorporating more structured discussions and content.\n",
    "This combination of data sources offers a comprehensive view of public sentiment ranging from spontaneous reactions on social media to more considered opinions in news comment sections and sports forums."
   ]
  },
  {
   "cell_type": "markdown",
   "metadata": {},
   "source": [
    "#### Python Modules Importation"
   ]
  },
  {
   "cell_type": "code",
   "execution_count": null,
   "metadata": {},
   "outputs": [],
   "source": [
    "# import necessary modules\n",
    "# manupulation\n",
    "import pandas as pd\n",
    "import os\n",
    "import numpy as np"
   ]
  },
  {
   "cell_type": "markdown",
   "metadata": {},
   "source": [
    "#### Combining CSV Files"
   ]
  },
  {
   "cell_type": "code",
   "execution_count": 15,
   "metadata": {
    "scrolled": true
   },
   "outputs": [
    {
     "name": "stdout",
     "output_type": "stream",
     "text": [
      "<class 'pandas.core.frame.DataFrame'>\n",
      "RangeIndex: 2600 entries, 0 to 2599\n",
      "Data columns (total 18 columns):\n",
      " #   Column         Non-Null Count  Dtype \n",
      "---  ------         --------------  ----- \n",
      " 0   id             2600 non-null   int64 \n",
      " 1   tweetText      2600 non-null   object\n",
      " 2   tweetURL       2600 non-null   object\n",
      " 3   type           2600 non-null   object\n",
      " 4   tweetAuthor    2600 non-null   object\n",
      " 5   handle         2600 non-null   object\n",
      " 6   geo            1573 non-null   object\n",
      " 7   mentions       1177 non-null   object\n",
      " 8   hashtags       1024 non-null   object\n",
      " 9   replyCount     2600 non-null   int64 \n",
      " 10  quoteCount     2600 non-null   int64 \n",
      " 11  retweetCount   2600 non-null   int64 \n",
      " 12  likeCount      2600 non-null   int64 \n",
      " 13  views          2600 non-null   object\n",
      " 14  bookmarkCount  2600 non-null   int64 \n",
      " 15  createdAt      2600 non-null   object\n",
      " 16  allMediaURL    578 non-null    object\n",
      " 17  videoURL       136 non-null    object\n",
      "dtypes: int64(6), object(12)\n",
      "memory usage: 365.8+ KB\n"
     ]
    }
   ],
   "source": [
    "# Folder in which the csv files are found\n",
    "folder_path = 'X_data'\n",
    "\n",
    "# List of all the csv files found in the folder\n",
    "csv_files = [fil for fil in os.listdir(folder_path) if fil.endswith('.csv')]\n",
    "\n",
    "# Create an empty list to store DataFrames\n",
    "data_frames = []\n",
    "\n",
    "# Loop through the list of CSV files and read each one into a DataFrame\n",
    "for file in csv_files:\n",
    "    file_path = os.path.join(folder_path, file)\n",
    "    df = pd.read_csv(file_path)\n",
    "    data_frames.append(df)\n",
    "\n",
    "# Concatenate all DataFrames into one (stack vertically)\n",
    "merged_df = pd.concat(data_frames, ignore_index=True, sort=False)\n",
    "\n",
    "merged_df.info()\n",
    "\n",
    "# Save the concatenated DataFrame to a new CSV file\n",
    "new_df = 'merged_file.csv'\n",
    "merged_df.to_csv(new_df, index=False)\n",
    "# print(f'merged CSV file saved as {output_file}')\n",
    "\n"
   ]
  },
  {
   "cell_type": "code",
   "execution_count": 16,
   "metadata": {},
   "outputs": [
    {
     "data": {
      "text/html": [
       "<div>\n",
       "<style scoped>\n",
       "    .dataframe tbody tr th:only-of-type {\n",
       "        vertical-align: middle;\n",
       "    }\n",
       "\n",
       "    .dataframe tbody tr th {\n",
       "        vertical-align: top;\n",
       "    }\n",
       "\n",
       "    .dataframe thead th {\n",
       "        text-align: right;\n",
       "    }\n",
       "</style>\n",
       "<table border=\"1\" class=\"dataframe\">\n",
       "  <thead>\n",
       "    <tr style=\"text-align: right;\">\n",
       "      <th></th>\n",
       "      <th>id</th>\n",
       "      <th>tweetText</th>\n",
       "      <th>tweetURL</th>\n",
       "      <th>type</th>\n",
       "      <th>tweetAuthor</th>\n",
       "      <th>handle</th>\n",
       "      <th>geo</th>\n",
       "      <th>mentions</th>\n",
       "      <th>hashtags</th>\n",
       "      <th>replyCount</th>\n",
       "      <th>quoteCount</th>\n",
       "      <th>retweetCount</th>\n",
       "      <th>likeCount</th>\n",
       "      <th>views</th>\n",
       "      <th>bookmarkCount</th>\n",
       "      <th>createdAt</th>\n",
       "      <th>allMediaURL</th>\n",
       "      <th>videoURL</th>\n",
       "    </tr>\n",
       "  </thead>\n",
       "  <tbody>\n",
       "    <tr>\n",
       "      <th>0</th>\n",
       "      <td>1820934767312859634</td>\n",
       "      <td>Kellie Harrington homecoming after Tokyo 2020 ...</td>\n",
       "      <td>https://x.com/HonestFrank/status/1820934767312...</td>\n",
       "      <td>tweet</td>\n",
       "      <td>Francis Keogh</td>\n",
       "      <td>@HonestFrank</td>\n",
       "      <td>NaN</td>\n",
       "      <td>NaN</td>\n",
       "      <td>#Olympics,#boxing</td>\n",
       "      <td>0</td>\n",
       "      <td>0</td>\n",
       "      <td>0</td>\n",
       "      <td>0</td>\n",
       "      <td>-</td>\n",
       "      <td>0</td>\n",
       "      <td>2024-08-07 00:27:34</td>\n",
       "      <td>https://pbs.twimg.com/media/E8dKeTiWQAAdJVN.jpg</td>\n",
       "      <td>https://video.twimg.com/amplify_video/14251889...</td>\n",
       "    </tr>\n",
       "    <tr>\n",
       "      <th>1</th>\n",
       "      <td>1820934764871794856</td>\n",
       "      <td>ÎÎµ ÏÏÎ¿Ï Î¤ÎÎÎÎÎ©Î£ÎÎ¤Î Î¼ÏÎ®ÎºÎµ ...</td>\n",
       "      <td>https://x.com/WaltersPa4652/status/18209347648...</td>\n",
       "      <td>tweet</td>\n",
       "      <td>Paulette Walters</td>\n",
       "      <td>@WaltersPa4652</td>\n",
       "      <td>NaN</td>\n",
       "      <td>NaN</td>\n",
       "      <td>#TeamHellas,#paris2024,#Olympics,#paris2024gr</td>\n",
       "      <td>0</td>\n",
       "      <td>0</td>\n",
       "      <td>0</td>\n",
       "      <td>0</td>\n",
       "      <td>-</td>\n",
       "      <td>0</td>\n",
       "      <td>2024-08-07 00:27:33</td>\n",
       "      <td>NaN</td>\n",
       "      <td>NaN</td>\n",
       "    </tr>\n",
       "    <tr>\n",
       "      <th>2</th>\n",
       "      <td>1820934747964559415</td>\n",
       "      <td>@PopBase #Olympics USA is good but will be beaten</td>\n",
       "      <td>https://x.com/JayGaran/status/1820934747964559415</td>\n",
       "      <td>tweet</td>\n",
       "      <td>Jay Garan ð°ðªð°ðª</td>\n",
       "      <td>@JayGaran</td>\n",
       "      <td>Mombasa, Kenya</td>\n",
       "      <td>@PopBase</td>\n",
       "      <td>#Olympics</td>\n",
       "      <td>0</td>\n",
       "      <td>0</td>\n",
       "      <td>0</td>\n",
       "      <td>0</td>\n",
       "      <td>-</td>\n",
       "      <td>0</td>\n",
       "      <td>2024-08-07 00:27:29</td>\n",
       "      <td>NaN</td>\n",
       "      <td>NaN</td>\n",
       "    </tr>\n",
       "    <tr>\n",
       "      <th>3</th>\n",
       "      <td>1820934747280859532</td>\n",
       "      <td>ÎÎµ ÏÏÎ¿Ï Î¤ÎÎÎÎÎ©Î£ÎÎ¤Î Î¼ÏÎ®ÎºÎµ ...</td>\n",
       "      <td>https://x.com/WaltersPa4652/status/18209347472...</td>\n",
       "      <td>tweet</td>\n",
       "      <td>Paulette Walters</td>\n",
       "      <td>@WaltersPa4652</td>\n",
       "      <td>NaN</td>\n",
       "      <td>NaN</td>\n",
       "      <td>#TeamHellas,#paris2024,#Olympics,#paris2024gr</td>\n",
       "      <td>0</td>\n",
       "      <td>0</td>\n",
       "      <td>0</td>\n",
       "      <td>0</td>\n",
       "      <td>-</td>\n",
       "      <td>0</td>\n",
       "      <td>2024-08-07 00:27:29</td>\n",
       "      <td>NaN</td>\n",
       "      <td>NaN</td>\n",
       "    </tr>\n",
       "    <tr>\n",
       "      <th>4</th>\n",
       "      <td>1820934736237199545</td>\n",
       "      <td>#Olympics Women's semi-final:\\nBrazil are flyi...</td>\n",
       "      <td>https://x.com/BabaGol_/status/1820934736237199545</td>\n",
       "      <td>tweet</td>\n",
       "      <td>BabaGol</td>\n",
       "      <td>@BabaGol_</td>\n",
       "      <td>NaN</td>\n",
       "      <td>NaN</td>\n",
       "      <td>#Olympics</td>\n",
       "      <td>0</td>\n",
       "      <td>0</td>\n",
       "      <td>0</td>\n",
       "      <td>0</td>\n",
       "      <td>-</td>\n",
       "      <td>0</td>\n",
       "      <td>2024-08-07 00:27:27</td>\n",
       "      <td>https://pbs.twimg.com/media/GUVCeZMXEAAjpsA.jp...</td>\n",
       "      <td>NaN</td>\n",
       "    </tr>\n",
       "  </tbody>\n",
       "</table>\n",
       "</div>"
      ],
      "text/plain": [
       "                    id                                          tweetText  \\\n",
       "0  1820934767312859634  Kellie Harrington homecoming after Tokyo 2020 ...   \n",
       "1  1820934764871794856  ÎÎµ ÏÏÎ¿Ï Î¤ÎÎÎÎÎ©Î£ÎÎ¤Î Î¼ÏÎ®ÎºÎµ ...   \n",
       "2  1820934747964559415  @PopBase #Olympics USA is good but will be beaten   \n",
       "3  1820934747280859532  ÎÎµ ÏÏÎ¿Ï Î¤ÎÎÎÎÎ©Î£ÎÎ¤Î Î¼ÏÎ®ÎºÎµ ...   \n",
       "4  1820934736237199545  #Olympics Women's semi-final:\\nBrazil are flyi...   \n",
       "\n",
       "                                            tweetURL   type  \\\n",
       "0  https://x.com/HonestFrank/status/1820934767312...  tweet   \n",
       "1  https://x.com/WaltersPa4652/status/18209347648...  tweet   \n",
       "2  https://x.com/JayGaran/status/1820934747964559415  tweet   \n",
       "3  https://x.com/WaltersPa4652/status/18209347472...  tweet   \n",
       "4  https://x.com/BabaGol_/status/1820934736237199545  tweet   \n",
       "\n",
       "                  tweetAuthor          handle             geo  mentions  \\\n",
       "0               Francis Keogh    @HonestFrank             NaN       NaN   \n",
       "1            Paulette Walters  @WaltersPa4652             NaN       NaN   \n",
       "2  Jay Garan ð°ðªð°ðª       @JayGaran  Mombasa, Kenya  @PopBase   \n",
       "3            Paulette Walters  @WaltersPa4652             NaN       NaN   \n",
       "4                     BabaGol       @BabaGol_             NaN       NaN   \n",
       "\n",
       "                                        hashtags  replyCount  quoteCount  \\\n",
       "0                              #Olympics,#boxing           0           0   \n",
       "1  #TeamHellas,#paris2024,#Olympics,#paris2024gr           0           0   \n",
       "2                                      #Olympics           0           0   \n",
       "3  #TeamHellas,#paris2024,#Olympics,#paris2024gr           0           0   \n",
       "4                                      #Olympics           0           0   \n",
       "\n",
       "   retweetCount  likeCount views  bookmarkCount            createdAt  \\\n",
       "0             0          0     -              0  2024-08-07 00:27:34   \n",
       "1             0          0     -              0  2024-08-07 00:27:33   \n",
       "2             0          0     -              0  2024-08-07 00:27:29   \n",
       "3             0          0     -              0  2024-08-07 00:27:29   \n",
       "4             0          0     -              0  2024-08-07 00:27:27   \n",
       "\n",
       "                                         allMediaURL  \\\n",
       "0    https://pbs.twimg.com/media/E8dKeTiWQAAdJVN.jpg   \n",
       "1                                                NaN   \n",
       "2                                                NaN   \n",
       "3                                                NaN   \n",
       "4  https://pbs.twimg.com/media/GUVCeZMXEAAjpsA.jp...   \n",
       "\n",
       "                                            videoURL  \n",
       "0  https://video.twimg.com/amplify_video/14251889...  \n",
       "1                                                NaN  \n",
       "2                                                NaN  \n",
       "3                                                NaN  \n",
       "4                                                NaN  "
      ]
     },
     "execution_count": 16,
     "metadata": {},
     "output_type": "execute_result"
    }
   ],
   "source": [
    "data = DataUnderstanding()\n",
    "df = data.load_data(path=\"merged_file.csv\")\n",
    "# First five rows of dataset\n",
    "df.head()"
   ]
  },
  {
   "cell_type": "code",
   "execution_count": null,
   "metadata": {},
   "outputs": [],
   "source": [
    "c"
   ]
  }
 ],
 "metadata": {
  "kernelspec": {
   "display_name": "Python 3",
   "language": "python",
   "name": "python3"
  }
 },
 "nbformat": 4,
 "nbformat_minor": 2
}
